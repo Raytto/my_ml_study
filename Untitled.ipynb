{
 "cells": [
  {
   "cell_type": "code",
   "execution_count": 1,
   "id": "9e6add10-4a56-4dd1-b08a-53d9faa0f0cf",
   "metadata": {},
   "outputs": [
    {
     "name": "stderr",
     "output_type": "stream",
     "text": [
      "d:\\ProgramData\\Anaconda3\\envs\\py310\\lib\\site-packages\\gym\\utils\\passive_env_checker.py:233: DeprecationWarning: `np.bool8` is a deprecated alias for `np.bool_`.  (Deprecated NumPy 1.24)\n",
      "  if not isinstance(terminated, (bool, np.bool8)):\n"
     ]
    },
    {
     "ename": "ValueError",
     "evalue": "too many values to unpack (expected 4)",
     "output_type": "error",
     "traceback": [
      "\u001b[1;31m---------------------------------------------------------------------------\u001b[0m",
      "\u001b[1;31mValueError\u001b[0m                                Traceback (most recent call last)",
      "Cell \u001b[1;32mIn[1], line 84\u001b[0m\n\u001b[0;32m     81\u001b[0m     train(policy_net, optimizer)\n\u001b[0;32m     83\u001b[0m \u001b[38;5;28;01mif\u001b[39;00m \u001b[38;5;18m__name__\u001b[39m \u001b[38;5;241m==\u001b[39m \u001b[38;5;124m\"\u001b[39m\u001b[38;5;124m__main__\u001b[39m\u001b[38;5;124m\"\u001b[39m:\n\u001b[1;32m---> 84\u001b[0m     \u001b[43mmain\u001b[49m\u001b[43m(\u001b[49m\u001b[43m)\u001b[49m\n",
      "Cell \u001b[1;32mIn[1], line 81\u001b[0m, in \u001b[0;36mmain\u001b[1;34m()\u001b[0m\n\u001b[0;32m     78\u001b[0m policy_net \u001b[38;5;241m=\u001b[39m PolicyNetwork(state_size, action_size)\n\u001b[0;32m     79\u001b[0m optimizer \u001b[38;5;241m=\u001b[39m optim\u001b[38;5;241m.\u001b[39mAdam(policy_net\u001b[38;5;241m.\u001b[39mparameters(), lr\u001b[38;5;241m=\u001b[39m\u001b[38;5;241m0.01\u001b[39m)\n\u001b[1;32m---> 81\u001b[0m \u001b[43mtrain\u001b[49m\u001b[43m(\u001b[49m\u001b[43mpolicy_net\u001b[49m\u001b[43m,\u001b[49m\u001b[43m \u001b[49m\u001b[43moptimizer\u001b[49m\u001b[43m)\u001b[49m\n",
      "Cell \u001b[1;32mIn[1], line 47\u001b[0m, in \u001b[0;36mtrain\u001b[1;34m(policy_net, optimizer, episodes, gamma)\u001b[0m\n\u001b[0;32m     45\u001b[0m \u001b[38;5;28;01mwhile\u001b[39;00m \u001b[38;5;129;01mnot\u001b[39;00m done:\n\u001b[0;32m     46\u001b[0m     action, log_prob \u001b[38;5;241m=\u001b[39m select_action(policy_net, state)\n\u001b[1;32m---> 47\u001b[0m     next_state, reward, done, _ \u001b[38;5;241m=\u001b[39m env\u001b[38;5;241m.\u001b[39mstep(action)\n\u001b[0;32m     49\u001b[0m     log_probs\u001b[38;5;241m.\u001b[39mappend(torch\u001b[38;5;241m.\u001b[39mlog(log_prob))\n\u001b[0;32m     50\u001b[0m     rewards\u001b[38;5;241m.\u001b[39mappend(reward)\n",
      "\u001b[1;31mValueError\u001b[0m: too many values to unpack (expected 4)"
     ]
    }
   ],
   "source": [
    "import torch\n",
    "import torch.nn as nn\n",
    "import torch.optim as optim\n",
    "import numpy as np\n",
    "import gym\n",
    "\n",
    "# 定义策略网络\n",
    "class PolicyNetwork(nn.Module):\n",
    "    def __init__(self, state_size, action_size, hidden_size=128):\n",
    "        super(PolicyNetwork, self).__init__()\n",
    "        self.fc1 = nn.Linear(state_size, hidden_size)\n",
    "        self.fc2 = nn.Linear(hidden_size, action_size)\n",
    "    \n",
    "    def forward(self, x):\n",
    "        x = torch.relu(self.fc1(x))\n",
    "        x = torch.softmax(self.fc2(x), dim=-1)  # 输出动作概率分布\n",
    "        return x\n",
    "\n",
    "# 选择动作\n",
    "def select_action(policy_net, state):\n",
    "    state = torch.from_numpy(state).float()\n",
    "    action_probs = policy_net(state)\n",
    "    action = torch.multinomial(action_probs, 1).item()  # 根据概率选择动作\n",
    "    return action, action_probs[action]\n",
    "\n",
    "# 计算折扣回报\n",
    "def discount_rewards(rewards, gamma=0.99):\n",
    "    R = 0\n",
    "    discounted_rewards = []\n",
    "    for r in rewards[::-1]:\n",
    "        R = r + gamma * R\n",
    "        discounted_rewards.insert(0, R)\n",
    "    return discounted_rewards\n",
    "\n",
    "# 训练策略网络\n",
    "def train(policy_net, optimizer, episodes=500, gamma=0.99):\n",
    "    env = gym.make('CartPole-v1')\n",
    "    for episode in range(episodes):\n",
    "        state, _ = env.reset()  # 提取状态\n",
    "        log_probs = []\n",
    "        rewards = []\n",
    "        done = False\n",
    "\n",
    "        # 运行一集\n",
    "        while not done:\n",
    "            action, log_prob = select_action(policy_net, state)\n",
    "            next_state, reward, done, _ = env.step(action)\n",
    "            \n",
    "            log_probs.append(torch.log(log_prob))\n",
    "            rewards.append(reward)\n",
    "\n",
    "            state = next_state\n",
    "        \n",
    "        # 计算折扣奖励\n",
    "        discounted_rewards = discount_rewards(rewards, gamma)\n",
    "        discounted_rewards = torch.tensor(discounted_rewards)\n",
    "        \n",
    "        # 计算损失\n",
    "        loss = -torch.sum(torch.stack(log_probs) * discounted_rewards)\n",
    "        \n",
    "        # 优化\n",
    "        optimizer.zero_grad()\n",
    "        loss.backward()\n",
    "        optimizer.step()\n",
    "\n",
    "        if episode % 50 == 0:\n",
    "            print(f'Episode {episode}, Total Reward: {sum(rewards)}')\n",
    "\n",
    "    env.close()\n",
    "\n",
    "# 主函数\n",
    "def main():\n",
    "    env = gym.make('CartPole-v1')\n",
    "    state_size = env.observation_space.shape[0]\n",
    "    action_size = env.action_space.n\n",
    "    env.close()\n",
    "\n",
    "    policy_net = PolicyNetwork(state_size, action_size)\n",
    "    optimizer = optim.Adam(policy_net.parameters(), lr=0.01)\n",
    "    \n",
    "    train(policy_net, optimizer)\n",
    "\n",
    "if __name__ == \"__main__\":\n",
    "    main()\n",
    "\n"
   ]
  },
  {
   "cell_type": "code",
   "execution_count": 2,
   "id": "eaeebc1a",
   "metadata": {},
   "outputs": [
    {
     "name": "stdout",
     "output_type": "stream",
     "text": [
      "[1, 1, 2, 3, 6, 8, 10]\n"
     ]
    },
    {
     "ename": "",
     "evalue": "",
     "output_type": "error",
     "traceback": [
      "\u001b[1;31mThe Kernel crashed while executing code in the current cell or a previous cell. \n",
      "\u001b[1;31mPlease review the code in the cell(s) to identify a possible cause of the failure. \n",
      "\u001b[1;31mClick <a href='https://aka.ms/vscodeJupyterKernelCrash'>here</a> for more info. \n",
      "\u001b[1;31mView Jupyter <a href='command:jupyter.viewOutput'>log</a> for further details."
     ]
    }
   ],
   "source": [
    "def qsort(arr):\n",
    "    if len(arr) <= 1:\n",
    "        return arr\n",
    "    pivot = arr[len(arr) // 2]\n",
    "    left = [x for x in arr if x < pivot]\n",
    "    middle = [x for x in arr if x == pivot]\n",
    "    right = [x for x in arr if x > pivot]\n",
    "    return qsort(left) + middle + qsort(right)\n",
    "\n",
    "print(qsort([3, 6, 8, 10, 1, 2, 1]))\n"
   ]
  }
 ],
 "metadata": {
  "kernelspec": {
   "display_name": "py310",
   "language": "python",
   "name": "python3"
  },
  "language_info": {
   "codemirror_mode": {
    "name": "ipython",
    "version": 3
   },
   "file_extension": ".py",
   "mimetype": "text/x-python",
   "name": "python",
   "nbconvert_exporter": "python",
   "pygments_lexer": "ipython3",
   "version": "3.10.15"
  }
 },
 "nbformat": 4,
 "nbformat_minor": 5
}
