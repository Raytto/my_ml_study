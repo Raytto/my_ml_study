{
 "cells": [
  {
   "cell_type": "code",
   "execution_count": 1,
   "metadata": {},
   "outputs": [],
   "source": [
    "import gym\n",
    "import numpy as np\n",
    "import torch.nn as nn\n",
    "import torch.nn.functional as F\n",
    "import torch.optim as optim\n",
    "import torch as T\n",
    "import matplotlib.pyplot as plt\n",
    "import random\n",
    "from collections import deque"
   ]
  },
  {
   "cell_type": "code",
   "execution_count": 2,
   "metadata": {},
   "outputs": [],
   "source": [
    "class LinearDeepQNetwork(nn.Module):\n",
    "    def __init__(self, lr, n_actions, input_dims):\n",
    "        super(LinearDeepQNetwork, self).__init__()\n",
    "\n",
    "        self.fc1 = nn.Linear(*input_dims, 256)\n",
    "        self.dropout1 = nn.Dropout(0.2)  # Add dropout after first layer\n",
    "        self.fc2 = nn.Linear(256, 256)\n",
    "        self.dropout2 = nn.Dropout(0.2)  # Add dropout after second layer\n",
    "        self.fc3 = nn.Linear(256, n_actions)\n",
    "\n",
    "        self.optimizer = optim.AdamW(self.parameters(), lr=lr)\n",
    "        self.loss = nn.MSELoss()\n",
    "        self.device = T.device('cuda:0' if T.cuda.is_available() else 'cpu')\n",
    "        self.to(self.device)\n",
    "\n",
    "    def forward(self, state):\n",
    "        layer1 = F.leaky_relu(self.fc1(state), negative_slope=0.01)\n",
    "        layer1 = self.dropout1(layer1)  # Apply dropout after activation\n",
    "        layer2 = F.leaky_relu(self.fc2(layer1), negative_slope=0.01)\n",
    "        layer2 = self.dropout2(layer2)  # Apply dropout after activation\n",
    "        actions = self.fc3(layer2)\n",
    "        return actions"
   ]
  },
  {
   "cell_type": "code",
   "execution_count": 3,
   "metadata": {},
   "outputs": [],
   "source": [
    "class Agent():\n",
    "    def __init__(self, input_dims, n_actions, lr, gamma=0.99, epsilon=1.0, ep_dec=1e-5, ep_min=0.01, mem_size=100000, batch_size=64):\n",
    "        self.lr = lr\n",
    "        self.input_dims = input_dims\n",
    "        self.n_actions = n_actions\n",
    "        self.gamma = gamma\n",
    "        self.epsilon = epsilon\n",
    "        self.eps_dec = ep_dec\n",
    "        self.eps_min = ep_min\n",
    "        self.n_action_space = [i for i in range(n_actions)]\n",
    "        self.batch_size = batch_size\n",
    "        self.memory = deque(maxlen=mem_size)\n",
    "\n",
    "        self.Q = LinearDeepQNetwork(self.lr, self.n_actions, self.input_dims)\n",
    "\n",
    "    def store_transition(self, state, action, reward, state_, done):\n",
    "        self.memory.append((state, action, reward, state_, done))\n",
    "\n",
    "    def sample_memory(self):\n",
    "        batch = random.sample(self.memory, self.batch_size)\n",
    "        states, actions, rewards, states_, dones = zip(*batch)\n",
    "        return np.array(states), np.array(actions), np.array(rewards), np.array(states_), np.array(dones)\n",
    "\n",
    "    def choose_action(self, observation):\n",
    "        if np.random.random() > self.epsilon:\n",
    "            state = T.tensor(observation, dtype=T.float32).to(self.Q.device)\n",
    "            actions = self.Q.forward(state)\n",
    "            action = T.argmax(actions).item()\n",
    "        else:\n",
    "            action = np.random.choice(self.n_action_space)\n",
    "\n",
    "        return action\n",
    "    \n",
    "    def decrement_epsilon(self):\n",
    "        self.epsilon = self.epsilon - self.eps_dec if self.epsilon > self.eps_min else self.eps_min\n",
    "\n",
    "    def learn(self):\n",
    "        if len(self.memory) < self.batch_size:\n",
    "            return\n",
    "\n",
    "        self.Q.optimizer.zero_grad()\n",
    "        states, actions, rewards, states_, dones = self.sample_memory()\n",
    "\n",
    "        states = T.tensor(states, dtype=T.float32).to(self.Q.device)\n",
    "        actions = T.tensor(actions, dtype=T.long).to(self.Q.device)\n",
    "        rewards = T.tensor(rewards, dtype=T.float32).to(self.Q.device)\n",
    "        states_ = T.tensor(states_, dtype=T.float32).to(self.Q.device)\n",
    "        dones = T.tensor(dones, dtype=T.bool).to(self.Q.device)\n",
    "\n",
    "        q_pred = self.Q.forward(states)[range(self.batch_size), actions]\n",
    "        q_next = self.Q.forward(states_).max(dim=1)[0]\n",
    "        q_next[dones] = 0.0\n",
    "\n",
    "        q_target = rewards + self.gamma * q_next\n",
    "\n",
    "        loss = self.Q.loss(q_target, q_pred).to(self.Q.device)\n",
    "        loss.backward()\n",
    "        self.Q.optimizer.step()\n",
    "        self.decrement_epsilon()"
   ]
  },
  {
   "cell_type": "code",
   "execution_count": 4,
   "metadata": {},
   "outputs": [],
   "source": [
    "def plot_learning_curve(x, scores, eps_history, filename):\n",
    "    fig = plt.figure()\n",
    "    ax = fig.add_subplot(111, label=\"1\")\n",
    "    ax2 = fig.add_subplot(111, label=\"2\", frame_on=False)\n",
    "\n",
    "    ax.plot(x, eps_history, color=\"C0\")\n",
    "    ax.set_xlabel(\"Game\", color=\"C0\")\n",
    "    ax.set_ylabel(\"Epsilon\", color=\"C0\")\n",
    "    ax.tick_params(axis=\"x\", colors=\"C0\")\n",
    "    ax.tick_params(axis=\"y\", colors=\"C0\")\n",
    "\n",
    "    N = len(scores)\n",
    "    running_avg = np.empty(N)\n",
    "    for t in range(N):\n",
    "        running_avg[t] = np.mean(scores[max(0, t-100):(t+1)])\n",
    "\n",
    "    ax2.scatter(x, running_avg, color=\"C1\")\n",
    "    ax2.axes.get_xaxis().set_visible(False)\n",
    "    ax2.yaxis.tick_right()\n",
    "    ax2.set_ylabel(\"Score\", color=\"C1\")\n",
    "    ax2.yaxis.set_label_position(\"right\")\n",
    "    ax2.tick_params(axis=\"y\", colors=\"C1\")\n",
    "\n",
    "    # plt.savefig(filename)\n",
    "    return plt"
   ]
  },
  {
   "cell_type": "code",
   "execution_count": 5,
   "metadata": {},
   "outputs": [],
   "source": [
    "env = gym.make('CartPole-v1')"
   ]
  },
  {
   "cell_type": "code",
   "execution_count": 6,
   "metadata": {},
   "outputs": [
    {
     "data": {
      "text/plain": [
       "2"
      ]
     },
     "execution_count": 6,
     "metadata": {},
     "output_type": "execute_result"
    }
   ],
   "source": [
    "env.action_space.n"
   ]
  },
  {
   "cell_type": "code",
   "execution_count": 8,
   "metadata": {},
   "outputs": [
    {
     "name": "stderr",
     "output_type": "stream",
     "text": [
      "d:\\ProgramData\\Anaconda3\\envs\\py310\\lib\\site-packages\\gym\\utils\\passive_env_checker.py:233: DeprecationWarning: `np.bool8` is a deprecated alias for `np.bool_`.  (Deprecated NumPy 1.24)\n",
      "  if not isinstance(terminated, (bool, np.bool8)):\n"
     ]
    },
    {
     "name": "stdout",
     "output_type": "stream",
     "text": [
      "episode 0 score 29.0 average score 29.0 epsilon 1.0\n",
      "episode 1000 score 27.0 average score 25.03 epsilon 0.768840000001052\n",
      "episode 2000 score 25.0 average score 25.46 epsilon 0.5083800000022374\n",
      "episode 3000 score 39.0 average score 39.93 epsilon 0.17918000000195466\n",
      "episode 4000 score 30.0 average score 56.38 epsilon 0.01\n",
      "episode 5000 score 36.0 average score 58.86 epsilon 0.01\n",
      "episode 6000 score 84.0 average score 78.26 epsilon 0.01\n",
      "episode 7000 score 66.0 average score 88.22 epsilon 0.01\n",
      "episode 8000 score 50.0 average score 104.31 epsilon 0.01\n",
      "episode 9000 score 138.0 average score 91.15 epsilon 0.01\n",
      "episode 10000 score 106.0 average score 100.32 epsilon 0.01\n",
      "episode 11000 score 34.0 average score 99.23 epsilon 0.01\n",
      "episode 12000 score 17.0 average score 119.07 epsilon 0.01\n",
      "episode 13000 score 194.0 average score 126.0 epsilon 0.01\n",
      "episode 14000 score 74.0 average score 104.64 epsilon 0.01\n",
      "episode 15000 score 163.0 average score 108.26 epsilon 0.01\n",
      "episode 16000 score 65.0 average score 110.63 epsilon 0.01\n",
      "episode 17000 score 22.0 average score 115.68 epsilon 0.01\n",
      "episode 18000 score 57.0 average score 118.21 epsilon 0.01\n",
      "episode 19000 score 52.0 average score 100.89 epsilon 0.01\n",
      "episode 20000 score 53.0 average score 115.39 epsilon 0.01\n",
      "episode 21000 score 335.0 average score 110.97 epsilon 0.01\n",
      "episode 22000 score 23.0 average score 120.07 epsilon 0.01\n",
      "episode 23000 score 45.0 average score 118.63 epsilon 0.01\n",
      "episode 24000 score 169.0 average score 118.91 epsilon 0.01\n",
      "episode 25000 score 18.0 average score 117.31 epsilon 0.01\n",
      "episode 26000 score 114.0 average score 122.51 epsilon 0.01\n",
      "episode 27000 score 170.0 average score 117.39 epsilon 0.01\n",
      "episode 28000 score 94.0 average score 128.28 epsilon 0.01\n",
      "episode 29000 score 144.0 average score 116.73 epsilon 0.01\n"
     ]
    }
   ],
   "source": [
    "env = gym.make('CartPole-v1')\n",
    "agent = Agent(input_dims=env.observation_space.shape, n_actions=env.action_space.n, lr=0.0001)\n",
    "n_games = 30000\n",
    "scores = []\n",
    "eps_history = []\n",
    "\n",
    "for i in range(n_games):\n",
    "    score = 0\n",
    "    done = False\n",
    "    obs = env.reset()[0]\n",
    "\n",
    "    while not done:\n",
    "        action = agent.choose_action(obs)\n",
    "        obs_, reward, terminated, truncated, info = env.step(action)\n",
    "        score += reward\n",
    "        agent.store_transition(obs, action, reward, obs_, terminated or truncated)\n",
    "        agent.learn()\n",
    "        obs = obs_\n",
    "        done = terminated or truncated\n",
    "\n",
    "    scores.append(score)\n",
    "    eps_history.append(agent.epsilon)\n",
    "\n",
    "    if i % 100 == 0:\n",
    "        avg_score = np.mean(scores[-100:])\n",
    "        if i % 1000 == 0:\n",
    "            print(f'episode {i} score {score} average score {avg_score} epsilon {agent.epsilon}')"
   ]
  },
  {
   "cell_type": "code",
   "execution_count": 9,
   "metadata": {},
   "outputs": [
    {
     "data": {
      "text/plain": [
       "<module 'matplotlib.pyplot' from 'd:\\\\ProgramData\\\\Anaconda3\\\\envs\\\\py310\\\\lib\\\\site-packages\\\\matplotlib\\\\pyplot.py'>"
      ]
     },
     "execution_count": 9,
     "metadata": {},
     "output_type": "execute_result"
    },
    {
     "data": {
      "image/png": "[encoded data removed]",
      "text/plain": [
       "<Figure size 640x480 with 2 Axes>"
      ]
     },
     "metadata": {},
     "output_type": "display_data"
    }
   ],
   "source": [
    "filename = 'cartpole_naive_dqn.png'\n",
    "x = [i+1 for i in range(n_games)]\n",
    "plot_learning_curve(x, scores, eps_history, filename)"
   ]
  }
 ],
 "metadata": {
  "kernelspec": {
   "display_name": "py310",
   "language": "python",
   "name": "python3"
  },
  "language_info": {
   "codemirror_mode": {
    "name": "ipython",
    "version": 3
   },
   "file_extension": ".py",
   "mimetype": "text/x-python",
   "name": "python",
   "nbconvert_exporter": "python",
   "pygments_lexer": "ipython3",
   "version": "3.10.15"
  }
 },
 "nbformat": 4,
 "nbformat_minor": 2
}
