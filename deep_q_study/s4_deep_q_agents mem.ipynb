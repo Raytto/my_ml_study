{
 "cells": [
  {
   "cell_type": "markdown",
   "metadata": {},
   "source": [
    "$Q(s, a; \\theta) = \\mathbb{E} \\left[ r_t + \\gamma \\max_{a'} Q(s', a'; \\theta') \\middle| s, a \\right]$\n",
    "\n",
    "* Q 是状态 s 和动作 a 下的 Q 值，参数 θ 表示 Q 网络的参数。\n",
    "* $r_t$ 是当前步的奖励。\n",
    "* $\\gamma$ 是折扣因子，让未来的收益打折\n",
    "* $max_{a'} Q$ 是下一步状态 $s'$中最大的 Q 值，$a'$ 是 $s'$ 中所有动作\n",
    "\n",
    "Q 度量的是当前状态和动下下，且未来总用最优动作带来的回报折现"
   ]
  },
  {
   "cell_type": "markdown",
   "metadata": {},
   "source": [
    "学习更新的方法\n",
    "\n",
    "$Q(s_t, a_t) \\leftarrow Q(s_t, a_t) + \\alpha \\left( r_t + \\gamma \\max_{a'} Q(s_{t+1}, a') - Q(s_t, a_t) \\right)$"
   ]
  },
  {
   "cell_type": "markdown",
   "metadata": {},
   "source": [
    "## 用神经网络代替 Q"
   ]
  },
  {
   "cell_type": "code",
   "execution_count": 6,
   "metadata": {},
   "outputs": [],
   "source": [
    "import gym\n",
    "import numpy as np\n",
    "import torch.nn as nn\n",
    "import torch.nn.functional as F\n",
    "import torch.optim as optim\n",
    "import torch as T\n",
    "import matplotlib.pyplot as plt\n",
    "import random\n",
    "from collections import deque"
   ]
  },
  {
   "cell_type": "code",
   "execution_count": 7,
   "metadata": {},
   "outputs": [],
   "source": [
    "class LinearDeepQNetwork(nn.Module):\n",
    "    def __init__(self, lr, n_actions, input_dims):\n",
    "        super(LinearDeepQNetwork, self).__init__()\n",
    "\n",
    "        self.fc1 = nn.Linear(*input_dims, 128)\n",
    "        self.dropout1 = nn.Dropout(0.2)  # Add dropout after first layer\n",
    "        self.fc2 = nn.Linear(128, 128)\n",
    "        self.dropout2 = nn.Dropout(0.2)  # Add dropout after second layer\n",
    "        self.fc3 = nn.Linear(128, n_actions)\n",
    "\n",
    "        self.optimizer = optim.AdamW(self.parameters(), lr=lr)\n",
    "        self.loss = nn.MSELoss()\n",
    "        self.device = T.device('cuda:0' if T.cuda.is_available() else 'cpu')\n",
    "        self.to(self.device)\n",
    "\n",
    "    def forward(self, state):\n",
    "        layer1 = F.leaky_relu(self.fc1(state), negative_slope=0.01)\n",
    "        layer1 = self.dropout1(layer1)  # Apply dropout after activation\n",
    "        layer2 = F.leaky_relu(self.fc2(layer1), negative_slope=0.01)\n",
    "        layer2 = self.dropout2(layer2)  # Apply dropout after activation\n",
    "        actions = self.fc3(layer2)\n",
    "        return actions"
   ]
  },
  {
   "cell_type": "code",
   "execution_count": 8,
   "metadata": {},
   "outputs": [],
   "source": [
    "class Agent():\n",
    "    def __init__(self, input_dims, n_actions, lr, gamma=0.99, epsilon=1.0, ep_dec=1e-5, ep_min=0.01, mem_size=100000, batch_size=64):\n",
    "        self.lr = lr\n",
    "        self.input_dims = input_dims\n",
    "        self.n_actions = n_actions\n",
    "        self.gamma = gamma\n",
    "        self.epsilon = epsilon\n",
    "        self.eps_dec = ep_dec\n",
    "        self.eps_min = ep_min\n",
    "        self.n_action_space = [i for i in range(n_actions)]\n",
    "        self.batch_size = batch_size\n",
    "        self.memory = deque(maxlen=mem_size)\n",
    "\n",
    "        self.Q = LinearDeepQNetwork(self.lr, self.n_actions, self.input_dims)\n",
    "\n",
    "    def store_transition(self, state, action, reward, state_, done):\n",
    "        self.memory.append((state, action, reward, state_, done))\n",
    "\n",
    "    def sample_memory(self):\n",
    "        batch = random.sample(self.memory, self.batch_size)\n",
    "        states, actions, rewards, states_, dones = zip(*batch)\n",
    "        return np.array(states), np.array(actions), np.array(rewards), np.array(states_), np.array(dones)\n",
    "\n",
    "    def choose_action(self, observation):\n",
    "        if np.random.random() > self.epsilon:\n",
    "            state = T.tensor(observation, dtype=T.float32).to(self.Q.device)\n",
    "            actions = self.Q.forward(state)\n",
    "            action = T.argmax(actions).item()\n",
    "        else:\n",
    "            action = np.random.choice(self.n_action_space)\n",
    "\n",
    "        return action\n",
    "    \n",
    "    def decrement_epsilon(self):\n",
    "        self.epsilon = self.epsilon - self.eps_dec if self.epsilon > self.eps_min else self.eps_min\n",
    "\n",
    "    def learn(self):\n",
    "        if len(self.memory) < self.batch_size:\n",
    "            return\n",
    "\n",
    "        self.Q.optimizer.zero_grad()\n",
    "        states, actions, rewards, states_, dones = self.sample_memory()\n",
    "\n",
    "        states = T.tensor(states, dtype=T.float32).to(self.Q.device)\n",
    "        actions = T.tensor(actions, dtype=T.long).to(self.Q.device)\n",
    "        rewards = T.tensor(rewards, dtype=T.float32).to(self.Q.device)\n",
    "        states_ = T.tensor(states_, dtype=T.float32).to(self.Q.device)\n",
    "        dones = T.tensor(dones, dtype=T.bool).to(self.Q.device)\n",
    "\n",
    "        q_pred = self.Q.forward(states)[range(self.batch_size), actions]\n",
    "        q_next = self.Q.forward(states_).max(dim=1)[0]\n",
    "        q_next[dones] = 0.0\n",
    "\n",
    "        q_target = rewards + self.gamma * q_next\n",
    "\n",
    "        loss = self.Q.loss(q_target, q_pred).to(self.Q.device)\n",
    "        loss.backward()\n",
    "        self.Q.optimizer.step()\n",
    "        self.decrement_epsilon()"
   ]
  },
  {
   "cell_type": "code",
   "execution_count": 9,
   "metadata": {},
   "outputs": [],
   "source": [
    "def plot_learning_curve(x, scores, eps_history, filename):\n",
    "    fig = plt.figure()\n",
    "    ax = fig.add_subplot(111, label=\"1\")\n",
    "    ax2 = fig.add_subplot(111, label=\"2\", frame_on=False)\n",
    "\n",
    "    ax.plot(x, eps_history, color=\"C0\")\n",
    "    ax.set_xlabel(\"Game\", color=\"C0\")\n",
    "    ax.set_ylabel(\"Epsilon\", color=\"C0\")\n",
    "    ax.tick_params(axis=\"x\", colors=\"C0\")\n",
    "    ax.tick_params(axis=\"y\", colors=\"C0\")\n",
    "\n",
    "    N = len(scores)\n",
    "    running_avg = np.empty(N)\n",
    "    for t in range(N):\n",
    "        running_avg[t] = np.mean(scores[max(0, t-100):(t+1)])\n",
    "\n",
    "    ax2.scatter(x, running_avg, color=\"C1\")\n",
    "    ax2.axes.get_xaxis().set_visible(False)\n",
    "    ax2.yaxis.tick_right()\n",
    "    ax2.set_ylabel(\"Score\", color=\"C1\")\n",
    "    ax2.yaxis.set_label_position(\"right\")\n",
    "    ax2.tick_params(axis=\"y\", colors=\"C1\")\n",
    "\n",
    "    # plt.savefig(filename)\n",
    "    return plt"
   ]
  },
  {
   "cell_type": "code",
   "execution_count": 15,
   "metadata": {},
   "outputs": [],
   "source": [
    "env = gym.make('CartPole-v1')"
   ]
  },
  {
   "cell_type": "code",
   "execution_count": 18,
   "metadata": {},
   "outputs": [
    {
     "data": {
      "text/plain": [
       "2"
      ]
     },
     "execution_count": 18,
     "metadata": {},
     "output_type": "execute_result"
    }
   ],
   "source": [
    "env.action_space.n"
   ]
  },
  {
   "cell_type": "code",
   "execution_count": 45,
   "metadata": {},
   "outputs": [
    {
     "data": {
      "text/plain": [
       "(array([ 0.02288327, -0.19105881,  0.02033674,  0.3403878 ], dtype=float32),\n",
       " 1.0,\n",
       " False,\n",
       " False,\n",
       " {})"
      ]
     },
     "execution_count": 45,
     "metadata": {},
     "output_type": "execute_result"
    }
   ],
   "source": [
    "obs_, reward, terminated, truncated, info = env.step(action)\n",
    "obs_, reward, terminated, truncated, info"
   ]
  },
  {
   "cell_type": "code",
   "execution_count": 57,
   "metadata": {},
   "outputs": [
    {
     "data": {
      "text/plain": [
       "(array([-0.00490873, -0.01135814,  0.01391778, -0.01364402], dtype=float32),\n",
       " 0,\n",
       " array([-0.00513589, -0.2066769 ,  0.0136449 ,  0.28339744], dtype=float32),\n",
       " 1.0,\n",
       " False,\n",
       " False,\n",
       " {})"
      ]
     },
     "execution_count": 57,
     "metadata": {},
     "output_type": "execute_result"
    }
   ],
   "source": [
    "agent = Agent(input_dims=env.observation_space.shape, n_actions=env.action_space.n, lr=0.0001)\n",
    "obs = env.reset()\n",
    "action = agent.choose_action(obs)\n",
    "obs_, reward, terminated, truncated, info = env.step(action)\n",
    "obs[0],action,obs_, reward, terminated, truncated, info\n",
    "\n"
   ]
  },
  {
   "cell_type": "code",
   "execution_count": 16,
   "metadata": {},
   "outputs": [
    {
     "name": "stdout",
     "output_type": "stream",
     "text": [
      "episode 0 score 43.0 average score 43.0 epsilon 1.0\n",
      "episode 1000 score 15.0 average score 25.31 epsilon 0.7649900000010695\n",
      "episode 2000 score 17.0 average score 25.31 epsilon 0.5299700000021391\n",
      "episode 3000 score 13.0 average score 27.82 epsilon 0.26187000000203736\n",
      "episode 4000 score 24.0 average score 35.16 epsilon 0.01\n",
      "episode 5000 score 63.0 average score 38.42 epsilon 0.01\n",
      "episode 6000 score 54.0 average score 44.13 epsilon 0.01\n",
      "episode 7000 score 78.0 average score 42.16 epsilon 0.01\n",
      "episode 8000 score 17.0 average score 45.09 epsilon 0.01\n",
      "episode 9000 score 33.0 average score 45.63 epsilon 0.01\n",
      "episode 10000 score 22.0 average score 53.34 epsilon 0.01\n",
      "episode 11000 score 27.0 average score 55.48 epsilon 0.01\n",
      "episode 12000 score 26.0 average score 64.65 epsilon 0.01\n",
      "episode 13000 score 149.0 average score 69.86 epsilon 0.01\n",
      "episode 14000 score 20.0 average score 70.44 epsilon 0.01\n",
      "episode 15000 score 18.0 average score 76.73 epsilon 0.01\n",
      "episode 16000 score 85.0 average score 69.75 epsilon 0.01\n",
      "episode 17000 score 134.0 average score 71.66 epsilon 0.01\n",
      "episode 18000 score 129.0 average score 76.41 epsilon 0.01\n",
      "episode 19000 score 187.0 average score 80.07 epsilon 0.01\n",
      "episode 20000 score 272.0 average score 79.12 epsilon 0.01\n",
      "episode 21000 score 18.0 average score 83.23 epsilon 0.01\n",
      "episode 22000 score 55.0 average score 71.27 epsilon 0.01\n",
      "episode 23000 score 33.0 average score 84.74 epsilon 0.01\n",
      "episode 24000 score 126.0 average score 74.99 epsilon 0.01\n",
      "episode 25000 score 63.0 average score 87.14 epsilon 0.01\n",
      "episode 26000 score 84.0 average score 82.17 epsilon 0.01\n",
      "episode 27000 score 31.0 average score 68.65 epsilon 0.01\n",
      "episode 28000 score 115.0 average score 87.39 epsilon 0.01\n",
      "episode 29000 score 126.0 average score 78.74 epsilon 0.01\n",
      "episode 30000 score 116.0 average score 77.21 epsilon 0.01\n",
      "episode 31000 score 47.0 average score 85.83 epsilon 0.01\n",
      "episode 32000 score 86.0 average score 76.44 epsilon 0.01\n",
      "episode 33000 score 46.0 average score 81.94 epsilon 0.01\n",
      "episode 34000 score 20.0 average score 87.5 epsilon 0.01\n",
      "episode 35000 score 136.0 average score 85.44 epsilon 0.01\n",
      "episode 36000 score 19.0 average score 68.36 epsilon 0.01\n",
      "episode 37000 score 50.0 average score 79.47 epsilon 0.01\n",
      "episode 38000 score 12.0 average score 74.9 epsilon 0.01\n",
      "episode 39000 score 43.0 average score 83.87 epsilon 0.01\n",
      "episode 40000 score 26.0 average score 72.53 epsilon 0.01\n",
      "episode 41000 score 105.0 average score 85.55 epsilon 0.01\n",
      "episode 42000 score 49.0 average score 72.12 epsilon 0.01\n",
      "episode 43000 score 14.0 average score 73.81 epsilon 0.01\n",
      "episode 44000 score 93.0 average score 75.49 epsilon 0.01\n",
      "episode 45000 score 38.0 average score 80.84 epsilon 0.01\n",
      "episode 46000 score 73.0 average score 68.21 epsilon 0.01\n",
      "episode 47000 score 145.0 average score 85.9 epsilon 0.01\n",
      "episode 48000 score 71.0 average score 76.41 epsilon 0.01\n",
      "episode 49000 score 36.0 average score 76.9 epsilon 0.01\n",
      "episode 50000 score 95.0 average score 73.38 epsilon 0.01\n",
      "episode 51000 score 157.0 average score 78.54 epsilon 0.01\n",
      "episode 52000 score 13.0 average score 75.73 epsilon 0.01\n",
      "episode 53000 score 29.0 average score 77.99 epsilon 0.01\n",
      "episode 54000 score 131.0 average score 81.16 epsilon 0.01\n",
      "episode 55000 score 108.0 average score 75.83 epsilon 0.01\n",
      "episode 56000 score 21.0 average score 69.65 epsilon 0.01\n",
      "episode 57000 score 221.0 average score 73.09 epsilon 0.01\n",
      "episode 58000 score 136.0 average score 78.78 epsilon 0.01\n",
      "episode 59000 score 32.0 average score 70.86 epsilon 0.01\n",
      "episode 60000 score 65.0 average score 74.18 epsilon 0.01\n",
      "episode 61000 score 112.0 average score 70.38 epsilon 0.01\n",
      "episode 62000 score 55.0 average score 82.95 epsilon 0.01\n",
      "episode 63000 score 57.0 average score 81.26 epsilon 0.01\n",
      "episode 64000 score 220.0 average score 88.09 epsilon 0.01\n",
      "episode 65000 score 44.0 average score 78.07 epsilon 0.01\n",
      "episode 66000 score 88.0 average score 84.64 epsilon 0.01\n",
      "episode 67000 score 131.0 average score 67.82 epsilon 0.01\n",
      "episode 68000 score 68.0 average score 81.32 epsilon 0.01\n",
      "episode 69000 score 66.0 average score 73.38 epsilon 0.01\n",
      "episode 70000 score 39.0 average score 80.38 epsilon 0.01\n",
      "episode 71000 score 27.0 average score 79.67 epsilon 0.01\n",
      "episode 72000 score 39.0 average score 82.85 epsilon 0.01\n",
      "episode 73000 score 27.0 average score 77.01 epsilon 0.01\n",
      "episode 74000 score 21.0 average score 89.51 epsilon 0.01\n",
      "episode 75000 score 17.0 average score 76.91 epsilon 0.01\n",
      "episode 76000 score 168.0 average score 69.62 epsilon 0.01\n",
      "episode 77000 score 60.0 average score 73.36 epsilon 0.01\n",
      "episode 78000 score 191.0 average score 69.35 epsilon 0.01\n",
      "episode 79000 score 84.0 average score 69.27 epsilon 0.01\n",
      "episode 80000 score 41.0 average score 71.69 epsilon 0.01\n",
      "episode 81000 score 63.0 average score 74.95 epsilon 0.01\n",
      "episode 82000 score 24.0 average score 75.9 epsilon 0.01\n",
      "episode 83000 score 52.0 average score 75.24 epsilon 0.01\n",
      "episode 84000 score 69.0 average score 78.58 epsilon 0.01\n",
      "episode 85000 score 98.0 average score 68.99 epsilon 0.01\n",
      "episode 86000 score 57.0 average score 68.22 epsilon 0.01\n",
      "episode 87000 score 80.0 average score 73.38 epsilon 0.01\n",
      "episode 88000 score 88.0 average score 78.72 epsilon 0.01\n",
      "episode 89000 score 132.0 average score 67.32 epsilon 0.01\n",
      "episode 90000 score 186.0 average score 78.91 epsilon 0.01\n",
      "episode 91000 score 79.0 average score 83.51 epsilon 0.01\n",
      "episode 92000 score 38.0 average score 71.62 epsilon 0.01\n",
      "episode 93000 score 21.0 average score 84.32 epsilon 0.01\n",
      "episode 94000 score 66.0 average score 78.44 epsilon 0.01\n",
      "episode 95000 score 189.0 average score 67.14 epsilon 0.01\n",
      "episode 96000 score 96.0 average score 76.26 epsilon 0.01\n",
      "episode 97000 score 40.0 average score 76.81 epsilon 0.01\n",
      "episode 98000 score 42.0 average score 74.58 epsilon 0.01\n",
      "episode 99000 score 156.0 average score 71.82 epsilon 0.01\n"
     ]
    }
   ],
   "source": [
    "env = gym.make('CartPole-v1')\n",
    "agent = Agent(input_dims=env.observation_space.shape, n_actions=env.action_space.n, lr=0.0001)\n",
    "n_games = 100000\n",
    "scores = []\n",
    "eps_history = []\n",
    "\n",
    "for i in range(n_games):\n",
    "    score = 0\n",
    "    done = False\n",
    "    obs = env.reset()[0]\n",
    "\n",
    "    while not done:\n",
    "        action = agent.choose_action(obs)\n",
    "        obs_, reward, terminated, truncated, info = env.step(action)\n",
    "        score += reward\n",
    "        agent.store_transition(obs, action, reward, obs_, terminated or truncated)\n",
    "        agent.learn()\n",
    "        obs = obs_\n",
    "        done = terminated or truncated\n",
    "\n",
    "    scores.append(score)\n",
    "    eps_history.append(agent.epsilon)\n",
    "\n",
    "    if i % 100 == 0:\n",
    "        avg_score = np.mean(scores[-100:])\n",
    "        if i % 1000 == 0:\n",
    "            print(f'episode {i} score {score} average score {avg_score} epsilon {agent.epsilon}')"
   ]
  },
  {
   "cell_type": "code",
   "execution_count": 17,
   "metadata": {},
   "outputs": [
    {
     "data": {
      "text/plain": [
       "<module 'matplotlib.pyplot' from 'd:\\\\ProgramData\\\\Anaconda3\\\\envs\\\\py310\\\\lib\\\\site-packages\\\\matplotlib\\\\pyplot.py'>"
      ]
     },
     "execution_count": 17,
     "metadata": {},
     "output_type": "execute_result"
    },
    {
     "data": {
      "image/png": "[encoded data removed]",
      "text/plain": [
       "<Figure size 640x480 with 2 Axes>"
      ]
     },
     "metadata": {},
     "output_type": "display_data"
    }
   ],
   "source": [
    "filename = 'cartpole_naive_dqn.png'\n",
    "x = [i+1 for i in range(n_games)]\n",
    "plot_learning_curve(x, scores, eps_history, filename)"
   ]
  }
 ],
 "metadata": {
  "kernelspec": {
   "display_name": "py310",
   "language": "python",
   "name": "python3"
  },
  "language_info": {
   "codemirror_mode": {
    "name": "ipython",
    "version": 3
   },
   "file_extension": ".py",
   "mimetype": "text/x-python",
   "name": "python",
   "nbconvert_exporter": "python",
   "pygments_lexer": "ipython3",
   "version": "3.10.15"
  }
 },
 "nbformat": 4,
 "nbformat_minor": 2
}
