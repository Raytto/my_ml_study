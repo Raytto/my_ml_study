{
 "cells": [
  {
   "cell_type": "markdown",
   "metadata": {},
   "source": [
    "https://cdn.aaai.org/ojs/10295/10295-13-13823-1-2-20201228.pdf"
   ]
  },
  {
   "cell_type": "code",
   "execution_count": 1,
   "metadata": {},
   "outputs": [],
   "source": [
    "import gym\n",
    "import numpy as np\n",
    "import torch.nn as nn\n",
    "import torch.nn.functional as F\n",
    "import torch.optim as optim\n",
    "import torch as T\n",
    "import matplotlib.pyplot as plt\n",
    "import random\n",
    "from collections import deque"
   ]
  },
  {
   "cell_type": "code",
   "execution_count": 2,
   "metadata": {},
   "outputs": [],
   "source": [
    "class LinearDeepQNetwork(nn.Module):\n",
    "    def __init__(self, lr, n_actions, input_dims):\n",
    "        super(LinearDeepQNetwork, self).__init__()\n",
    "\n",
    "        self.fc1 = nn.Linear(*input_dims, 512)\n",
    "        self.bn1 = nn.LayerNorm(512)  # Add BatchNorm layer\n",
    "        self.dropout1 = nn.Dropout(0.2)  # Add dropout after first layer\n",
    "        self.fc2 = nn.Linear(512, 512)\n",
    "        self.bn2 = nn.LayerNorm(512)  # Add BatchNorm layer\n",
    "        self.dropout2 = nn.Dropout(0.2)  # Add dropout after second layer\n",
    "        self.fc3 = nn.Linear(512, n_actions)\n",
    "\n",
    "        self.optimizer = optim.AdamW(self.parameters(), lr=lr)\n",
    "        self.loss = nn.MSELoss()\n",
    "        self.device = T.device('cuda:0' if T.cuda.is_available() else 'cpu')\n",
    "        self.to(self.device)\n",
    "\n",
    "    def forward(self, state):\n",
    "        layer1 = F.leaky_relu(self.bn1(self.fc1(state)), negative_slope=0.01)\n",
    "        layer1 = self.dropout1(layer1)\n",
    "        layer2 = F.leaky_relu(self.bn2(self.fc2(layer1)), negative_slope=0.01)\n",
    "        layer2 = self.dropout2(layer2)\n",
    "        actions = self.fc3(layer2)\n",
    "        return actions"
   ]
  },
  {
   "cell_type": "code",
   "execution_count": 3,
   "metadata": {},
   "outputs": [],
   "source": [
    "class Agent():\n",
    "    def __init__(self, input_dims, n_actions, lr, gamma=0.99, epsilon=1.0, ep_dec=1e-5, ep_min=0.01, mem_size=100000, batch_size=200):\n",
    "        self.lr = lr\n",
    "        self.input_dims = input_dims\n",
    "        self.n_actions = n_actions\n",
    "        self.gamma = gamma\n",
    "        self.epsilon = epsilon\n",
    "        self.eps_dec = ep_dec\n",
    "        self.eps_min = ep_min\n",
    "        self.n_action_space = [i for i in range(n_actions)]\n",
    "        self.batch_size = batch_size\n",
    "        self.memory = deque(maxlen=mem_size)\n",
    "\n",
    "        self.Q1 = LinearDeepQNetwork(self.lr, self.n_actions, self.input_dims)\n",
    "        self.Q2 = LinearDeepQNetwork(self.lr, self.n_actions, self.input_dims)\n",
    "\n",
    "    def store_transition(self, state, action, reward, state_, done):\n",
    "        self.memory.append((state, action, reward, state_, done))\n",
    "\n",
    "    def sample_memory(self):\n",
    "        batch = random.sample(self.memory, self.batch_size)\n",
    "        states, actions, rewards, states_, dones = zip(*batch)\n",
    "        return np.array(states), np.array(actions), np.array(rewards), np.array(states_), np.array(dones)\n",
    "\n",
    "    def choose_action(self, observation):\n",
    "        self.Q1.eval()\n",
    "        self.Q2.eval()\n",
    "        if np.random.random() > self.epsilon:\n",
    "            state = T.tensor(observation, dtype=T.float32).to(self.Q1.device)\n",
    "            actions_q1 = self.Q1.forward(state)\n",
    "            actions_q2 = self.Q2.forward(state)\n",
    "            actions = actions_q1 + actions_q2\n",
    "            action = T.argmax(actions).item()\n",
    "        else:\n",
    "            action = np.random.choice(self.n_action_space)\n",
    "        self.Q1.train()\n",
    "        self.Q2.train()\n",
    "        return action\n",
    "    \n",
    "    def decrement_epsilon(self):\n",
    "        self.epsilon = self.epsilon - self.eps_dec if self.epsilon > self.eps_min else self.eps_min\n",
    "\n",
    "    def learn(self):\n",
    "        if len(self.memory) < self.batch_size:\n",
    "            return\n",
    "\n",
    "        self.Q1.optimizer.zero_grad()\n",
    "        self.Q2.optimizer.zero_grad()\n",
    "        states, actions, rewards, states_, dones = self.sample_memory()\n",
    "\n",
    "        states = T.tensor(states, dtype=T.float32).to(self.Q1.device)\n",
    "        actions = T.tensor(actions, dtype=T.long).to(self.Q1.device)\n",
    "        rewards = T.tensor(rewards, dtype=T.float32).to(self.Q1.device)\n",
    "        states_ = T.tensor(states_, dtype=T.float32).to(self.Q1.device)\n",
    "        dones = T.tensor(dones, dtype=T.bool).to(self.Q1.device)\n",
    "\n",
    "        batch_indices = np.arange(self.batch_size, dtype=np.int64)\n",
    "\n",
    "        q1_pred = self.Q1.forward(states)[batch_indices, actions]\n",
    "        q2_pred = self.Q2.forward(states)[batch_indices, actions]\n",
    "\n",
    "        # 计算下一步 max Q 的值，由于不希望更新下一步的 Q 值，所以使用 no_grad  \n",
    "        with T.no_grad():\n",
    "            q1_next = self.Q1.forward(states_)\n",
    "            q2_next = self.Q2.forward(states_)\n",
    "            q1_next[dones] = 0.0\n",
    "            q2_next[dones] = 0.0\n",
    "\n",
    "            q_target = rewards + self.gamma * T.min(q1_next, q2_next).max(dim=1)[0]\n",
    "\n",
    "        loss_q1 = self.Q1.loss(q_target, q1_pred).to(self.Q1.device)\n",
    "        loss_q2 = self.Q2.loss(q_target, q2_pred).to(self.Q2.device)\n",
    "        loss = (loss_q1 + loss_q2) / 2\n",
    "\n",
    "        loss.backward()\n",
    "        self.Q1.optimizer.step()\n",
    "        self.Q2.optimizer.step()\n",
    "        self.decrement_epsilon()"
   ]
  },
  {
   "cell_type": "code",
   "execution_count": 4,
   "metadata": {},
   "outputs": [],
   "source": [
    "def plot_learning_curve(x, scores, eps_history, filename):\n",
    "    fig = plt.figure()\n",
    "    ax = fig.add_subplot(111, label=\"1\")\n",
    "    ax2 = fig.add_subplot(111, label=\"2\", frame_on=False)\n",
    "\n",
    "    ax.plot(x, eps_history, color=\"C0\")\n",
    "    ax.set_xlabel(\"Game\", color=\"C0\")\n",
    "    ax.set_ylabel(\"Epsilon\", color=\"C0\")\n",
    "    ax.tick_params(axis=\"x\", colors=\"C0\")\n",
    "    ax.tick_params(axis=\"y\", colors=\"C0\")\n",
    "\n",
    "    N = len(scores)\n",
    "    running_avg = np.empty(N)\n",
    "    for t in range(N):\n",
    "        running_avg[t] = np.mean(scores[max(0, t-100):(t+1)])\n",
    "\n",
    "    ax2.scatter(x, running_avg, color=\"C1\")\n",
    "    ax2.axes.get_xaxis().set_visible(False)\n",
    "    ax2.yaxis.tick_right()\n",
    "    ax2.set_ylabel(\"Score\", color=\"C1\")\n",
    "    ax2.yaxis.set_label_position(\"right\")\n",
    "    ax2.tick_params(axis=\"y\", colors=\"C1\")\n",
    "\n",
    "    # plt.savefig(filename)\n",
    "    return plt"
   ]
  },
  {
   "cell_type": "code",
   "execution_count": 5,
   "metadata": {},
   "outputs": [],
   "source": [
    "env = gym.make('CartPole-v1')"
   ]
  },
  {
   "cell_type": "code",
   "execution_count": 6,
   "metadata": {},
   "outputs": [
    {
     "data": {
      "text/plain": [
       "2"
      ]
     },
     "execution_count": 6,
     "metadata": {},
     "output_type": "execute_result"
    }
   ],
   "source": [
    "env.action_space.n"
   ]
  },
  {
   "cell_type": "code",
   "execution_count": 7,
   "metadata": {},
   "outputs": [
    {
     "name": "stderr",
     "output_type": "stream",
     "text": [
      "c:\\Users\\pangruitao\\.conda\\envs\\py310\\lib\\site-packages\\gym\\utils\\passive_env_checker.py:233: DeprecationWarning: `np.bool8` is a deprecated alias for `np.bool_`.  (Deprecated NumPy 1.24)\n",
      "  if not isinstance(terminated, (bool, np.bool8)):\n"
     ]
    },
    {
     "name": "stdout",
     "output_type": "stream",
     "text": [
      "episode 0 score 13.0 average score 13.0 epsilon 1.0\n",
      "episode 1000 score 28.0 average score 38.49 epsilon 0.7077900000013299\n",
      "episode 2000 score 500.0 average score 407.52 epsilon 0.01\n",
      "episode 3000 score 10.0 average score 9.38 epsilon 0.01\n",
      "episode 4000 score 500.0 average score 500.0 epsilon 0.01\n",
      "episode 5000 score 9.0 average score 9.25 epsilon 0.01\n",
      "episode 6000 score 500.0 average score 488.69 epsilon 0.01\n",
      "episode 7000 score 9.0 average score 9.58 epsilon 0.01\n",
      "episode 8000 score 13.0 average score 210.63 epsilon 0.01\n",
      "episode 9000 score 35.0 average score 28.99 epsilon 0.01\n",
      "episode 10000 score 500.0 average score 500.0 epsilon 0.01\n",
      "episode 11000 score 10.0 average score 9.29 epsilon 0.01\n",
      "episode 12000 score 8.0 average score 9.47 epsilon 0.01\n",
      "episode 13000 score 500.0 average score 372.71 epsilon 0.01\n",
      "episode 14000 score 9.0 average score 21.11 epsilon 0.01\n",
      "episode 15000 score 10.0 average score 18.26 epsilon 0.01\n",
      "episode 16000 score 9.0 average score 10.31 epsilon 0.01\n",
      "episode 17000 score 9.0 average score 9.36 epsilon 0.01\n",
      "episode 18000 score 12.0 average score 19.31 epsilon 0.01\n",
      "episode 19000 score 10.0 average score 15.37 epsilon 0.01\n",
      "episode 20000 score 256.0 average score 45.21 epsilon 0.01\n",
      "episode 21000 score 12.0 average score 222.42 epsilon 0.01\n",
      "episode 22000 score 10.0 average score 9.35 epsilon 0.01\n",
      "episode 23000 score 10.0 average score 10.82 epsilon 0.01\n",
      "episode 24000 score 17.0 average score 14.03 epsilon 0.01\n",
      "episode 25000 score 56.0 average score 15.29 epsilon 0.01\n",
      "episode 26000 score 137.0 average score 82.77 epsilon 0.01\n",
      "episode 27000 score 9.0 average score 9.46 epsilon 0.01\n",
      "episode 28000 score 10.0 average score 9.44 epsilon 0.01\n",
      "episode 29000 score 9.0 average score 9.51 epsilon 0.01\n",
      "episode 30000 score 9.0 average score 11.19 epsilon 0.01\n",
      "episode 31000 score 9.0 average score 9.28 epsilon 0.01\n",
      "episode 32000 score 8.0 average score 9.36 epsilon 0.01\n",
      "episode 33000 score 9.0 average score 9.23 epsilon 0.01\n",
      "episode 34000 score 10.0 average score 9.42 epsilon 0.01\n",
      "episode 35000 score 446.0 average score 284.22 epsilon 0.01\n",
      "episode 36000 score 9.0 average score 72.05 epsilon 0.01\n",
      "episode 37000 score 9.0 average score 9.33 epsilon 0.01\n",
      "episode 38000 score 9.0 average score 9.31 epsilon 0.01\n",
      "episode 39000 score 12.0 average score 9.13 epsilon 0.01\n",
      "episode 40000 score 9.0 average score 9.3 epsilon 0.01\n",
      "episode 41000 score 12.0 average score 10.15 epsilon 0.01\n",
      "episode 42000 score 10.0 average score 10.3 epsilon 0.01\n",
      "episode 43000 score 10.0 average score 11.62 epsilon 0.01\n",
      "episode 44000 score 500.0 average score 492.43 epsilon 0.01\n",
      "episode 45000 score 10.0 average score 73.75 epsilon 0.01\n",
      "episode 46000 score 10.0 average score 9.26 epsilon 0.01\n",
      "episode 47000 score 10.0 average score 9.43 epsilon 0.01\n",
      "episode 48000 score 500.0 average score 490.03 epsilon 0.01\n",
      "episode 49000 score 147.0 average score 80.08 epsilon 0.01\n"
     ]
    }
   ],
   "source": [
    "env = gym.make('CartPole-v1')\n",
    "agent = Agent(input_dims=env.observation_space.shape, n_actions=env.action_space.n, lr=0.0001)\n",
    "n_games = 50000\n",
    "scores = []\n",
    "eps_history = []\n",
    "\n",
    "for i in range(n_games):\n",
    "    score = 0\n",
    "    done = False\n",
    "    obs = env.reset()[0]\n",
    "\n",
    "    while not done:\n",
    "        action = agent.choose_action(obs)\n",
    "        obs_, reward, terminated, truncated, info = env.step(action)\n",
    "        score += reward\n",
    "        agent.store_transition(obs, action, reward, obs_, terminated or truncated)\n",
    "        agent.learn()\n",
    "        obs = obs_\n",
    "        done = terminated or truncated\n",
    "\n",
    "    scores.append(score)\n",
    "    eps_history.append(agent.epsilon)\n",
    "\n",
    "    if i % 100 == 0:\n",
    "        avg_score = np.mean(scores[-100:])\n",
    "        if i % 1000 == 0:\n",
    "            print(f'episode {i} score {score} average score {avg_score} epsilon {agent.epsilon}')"
   ]
  },
  {
   "cell_type": "code",
   "execution_count": 8,
   "metadata": {},
   "outputs": [
    {
     "data": {
      "text/plain": [
       "<module 'matplotlib.pyplot' from 'c:\\\\Users\\\\pangruitao\\\\.conda\\\\envs\\\\py310\\\\lib\\\\site-packages\\\\matplotlib\\\\pyplot.py'>"
      ]
     },
     "execution_count": 8,
     "metadata": {},
     "output_type": "execute_result"
    },
    {
     "data": {
      "image/png": "[encoded data removed]",
      "text/plain": [
       "<Figure size 640x480 with 2 Axes>"
      ]
     },
     "metadata": {},
     "output_type": "display_data"
    }
   ],
   "source": [
    "filename = 'cartpole_naive_dqn.png'\n",
    "x = [i+1 for i in range(n_games)]\n",
    "plot_learning_curve(x, scores, eps_history, filename)"
   ]
  }
 ],
 "metadata": {
  "kernelspec": {
   "display_name": "py310",
   "language": "python",
   "name": "python3"
  },
  "language_info": {
   "codemirror_mode": {
    "name": "ipython",
    "version": 3
   },
   "file_extension": ".py",
   "mimetype": "text/x-python",
   "name": "python",
   "nbconvert_exporter": "python",
   "pygments_lexer": "ipython3",
   "version": "3.10.15"
  }
 },
 "nbformat": 4,
 "nbformat_minor": 2
}
