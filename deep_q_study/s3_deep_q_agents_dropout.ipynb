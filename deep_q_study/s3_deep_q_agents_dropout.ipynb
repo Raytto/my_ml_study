{
 "cells": [
  {
   "cell_type": "markdown",
   "metadata": {},
   "source": [
    "### 0. 导入库"
   ]
  },
  {
   "cell_type": "code",
   "execution_count": null,
   "metadata": {},
   "outputs": [],
   "source": [
    "import gym\n",
    "import numpy as np\n",
    "import torch.nn as nn\n",
    "import torch.nn.functional as F\n",
    "import torch.optim as optim\n",
    "import torch as T\n",
    "import matplotlib.pyplot as plt"
   ]
  },
  {
   "cell_type": "markdown",
   "metadata": {},
   "source": [
    "### 1. 建立用于拟合Q的DNN"
   ]
  },
  {
   "cell_type": "code",
   "execution_count": null,
   "metadata": {},
   "outputs": [],
   "source": [
    "class LinearDeepQNetwork(nn.Module):\n",
    "    def __init__(self, lr, n_actions, input_dims):\n",
    "        super(LinearDeepQNetwork, self).__init__()\n",
    "\n",
    "        # 建立3层的神经网络\n",
    "        self.fc1 = nn.Linear(*input_dims, 128)\n",
    "        # 添加dropout层，随机丢弃比例20%\n",
    "        self.dropout1 = nn.Dropout(p=0.2)\n",
    "        self.fc2 = nn.Linear(128, 128)\n",
    "        # 添加dropout层，随机丢弃比例20%\n",
    "        self.dropout2 = nn.Dropout(p=0.2)\n",
    "        self.fc3 = nn.Linear(128, n_actions)\n",
    "\n",
    "        # 用AdamW进行优化\n",
    "        self.optimizer = optim.AdamW(self.parameters(), lr=lr)\n",
    "        # 用MSELoss进行损失计算\n",
    "        self.loss = nn.MSELoss()\n",
    "        self.device = T.device(\"cuda:0\" if T.cuda.is_available() else \"cpu\")\n",
    "        self.to(self.device)\n",
    "\n",
    "    def forward(self, state):\n",
    "        # 用leaky_relu作为激活函数\n",
    "        layer1 = F.leaky_relu(self.fc1(state), negative_slope=0.01)\n",
    "        layer1 = self.dropout1(layer1)\n",
    "        layer2 = F.leaky_relu(self.fc2(layer1), negative_slope=0.01)\n",
    "        layer2 = self.dropout2(layer2)\n",
    "        # 输出各 actions 的Q值\n",
    "        actions = self.fc3(layer2)\n",
    "        return actions"
   ]
  },
  {
   "cell_type": "markdown",
   "metadata": {},
   "source": [
    "### 2. 建立利用DNN的Agent"
   ]
  },
  {
   "cell_type": "code",
   "execution_count": null,
   "metadata": {},
   "outputs": [],
   "source": [
    "class Agent:\n",
    "    def __init__(\n",
    "        self,\n",
    "        input_dims,\n",
    "        n_actions,\n",
    "        lr,\n",
    "        gamma=0.99,\n",
    "        epsilon=1.0,\n",
    "        ep_dec=1e-5,\n",
    "        ep_min=0.01,\n",
    "    ):\n",
    "        # 初始化Agent\n",
    "        # 学习率\n",
    "        self.lr = lr\n",
    "        # 输入维度\n",
    "        self.input_dims = input_dims\n",
    "        # 动作维度\n",
    "        self.n_actions = n_actions\n",
    "        # 折扣因子\n",
    "        self.gamma = gamma\n",
    "        # epsilon\n",
    "        self.epsilon = epsilon\n",
    "        # epsilon衰减\n",
    "        self.eps_dec = ep_dec\n",
    "        # epsilon最小值\n",
    "        self.eps_min = ep_min\n",
    "        # 动作空间\n",
    "        self.n_action_space = [i for i in range(n_actions)]\n",
    "        # 初始化Q网络\n",
    "        self.Q = LinearDeepQNetwork(self.lr, self.n_actions, self.input_dims)\n",
    "\n",
    "    def choose_action(self, observation):\n",
    "        # 用epsilon-greedy策略选择动作\n",
    "        if np.random.random() > self.epsilon:\n",
    "            state = T.tensor(observation, dtype=T.float).to(self.Q.device)\n",
    "            actions = self.Q.forward(state)\n",
    "            action = T.argmax(actions).item()\n",
    "        else:\n",
    "            action = np.random.choice(self.n_action_space)\n",
    "\n",
    "        return action\n",
    "\n",
    "    def decrement_epsilon(self):\n",
    "        self.epsilon = (\n",
    "            self.epsilon - self.eps_dec if self.epsilon > self.eps_min else self.eps_min\n",
    "        )\n",
    "\n",
    "    def learn(self, state, action, reward, state_):\n",
    "        # 梯度清零\n",
    "        self.Q.optimizer.zero_grad()\n",
    "        # 当前状态\n",
    "        cur_state = T.tensor(state, dtype=T.float).to(self.Q.device)\n",
    "        # 当前动作\n",
    "        cur_action = T.tensor(action).to(self.Q.device)\n",
    "        # 当前奖励\n",
    "        cur_reward = T.tensor(reward).to(self.Q.device)\n",
    "        # 下一状态\n",
    "        next_states = T.tensor(state_, dtype=T.float).to(self.Q.device)\n",
    "        # 当前状态的Q值\n",
    "        q_pred = self.Q.forward(cur_state)[cur_action]\n",
    "        # 下一状态的Q值\n",
    "        q_next = self.Q.forward(next_states).max()\n",
    "        # 目标Q值\n",
    "        q_target = cur_reward + self.gamma * q_next\n",
    "        # 计算损失\n",
    "        loss = self.Q.loss(q_target, q_pred).to(self.Q.device)\n",
    "        # 反向传播\n",
    "        loss.backward()\n",
    "        # 更新参数\n",
    "        self.Q.optimizer.step()\n",
    "        # epsilon衰减\n",
    "        self.decrement_epsilon()"
   ]
  },
  {
   "cell_type": "markdown",
   "metadata": {},
   "source": [
    "### 3. 绘制学习曲线 "
   ]
  },
  {
   "cell_type": "code",
   "execution_count": null,
   "metadata": {},
   "outputs": [],
   "source": [
    "def plot_learning_curve(x, scores, eps_history, filename):\n",
    "    fig = plt.figure()\n",
    "    ax = fig.add_subplot(111, label=\"1\")\n",
    "    ax2 = fig.add_subplot(111, label=\"2\", frame_on=False)\n",
    "\n",
    "    ax.plot(x, eps_history, color=\"C0\")\n",
    "    ax.set_xlabel(\"Game\", color=\"C0\")\n",
    "    ax.set_ylabel(\"Epsilon\", color=\"C0\")\n",
    "    ax.tick_params(axis=\"x\", colors=\"C0\")\n",
    "    ax.tick_params(axis=\"y\", colors=\"C0\")\n",
    "\n",
    "    N = len(scores)\n",
    "    running_avg = np.empty(N)\n",
    "    for t in range(N):\n",
    "        running_avg[t] = np.mean(scores[max(0, t - 100) : (t + 1)])\n",
    "\n",
    "    ax2.scatter(x, running_avg, color=\"C1\")\n",
    "    ax2.axes.get_xaxis().set_visible(False)\n",
    "    ax2.yaxis.tick_right()\n",
    "    ax2.set_ylabel(\"Score\", color=\"C1\")\n",
    "    ax2.yaxis.set_label_position(\"right\")\n",
    "    ax2.tick_params(axis=\"y\", colors=\"C1\")\n",
    "\n",
    "    # plt.savefig(filename)\n",
    "    return plt"
   ]
  },
  {
   "cell_type": "markdown",
   "metadata": {},
   "source": [
    "### 4. 创建训练环境"
   ]
  },
  {
   "cell_type": "code",
   "execution_count": null,
   "metadata": {},
   "outputs": [],
   "source": [
    "env = gym.make(\"CartPole-v1\")"
   ]
  },
  {
   "cell_type": "code",
   "execution_count": null,
   "metadata": {},
   "outputs": [
    {
     "data": {
      "text/plain": [
       "(array([-0.00490873, -0.01135814,  0.01391778, -0.01364402], dtype=float32),\n",
       " 0,\n",
       " array([-0.00513589, -0.2066769 ,  0.0136449 ,  0.28339744], dtype=float32),\n",
       " 1.0,\n",
       " False,\n",
       " False,\n",
       " {})"
      ]
     },
     "metadata": {},
     "output_type": "display_data"
    }
   ],
   "source": [
    "# 简单测试看看环境的交互数据结构\n",
    "agent = Agent(\n",
    "    input_dims=env.observation_space.shape, n_actions=env.action_space.n, lr=0.0001\n",
    ")\n",
    "obs = env.reset()\n",
    "action = agent.choose_action(obs)\n",
    "obs_, reward, terminated, truncated, info = env.step(action)\n",
    "obs[0], action, obs_, reward, terminated, truncated, info"
   ]
  },
  {
   "cell_type": "markdown",
   "metadata": {},
   "source": [
    "### 5. 正式训练"
   ]
  },
  {
   "cell_type": "code",
   "execution_count": null,
   "metadata": {},
   "outputs": [
    {
     "name": "stderr",
     "output_type": "stream",
     "text": [
      "d:\\ProgramData\\Anaconda3\\envs\\py310\\lib\\site-packages\\gym\\utils\\passive_env_checker.py:233: DeprecationWarning: `np.bool8` is a deprecated alias for `np.bool_`.  (Deprecated NumPy 1.24)\n",
      "  if not isinstance(terminated, (bool, np.bool8)):\n"
     ]
    },
    {
     "name": "stdout",
     "output_type": "stream",
     "text": [
      "episode 0 score 27.0 average score 27.0 epsilon 0.9997300000000012\n",
      "episode 100 score 21.0 average score 22.15 epsilon 0.977580000000102\n",
      "episode 200 score 14.0 average score 21.91 epsilon 0.9556700000002017\n",
      "episode 300 score 15.0 average score 22.88 epsilon 0.9327900000003059\n",
      "episode 400 score 14.0 average score 21.93 epsilon 0.9108600000004057\n",
      "episode 500 score 14.0 average score 21.42 epsilon 0.8894400000005032\n",
      "episode 600 score 11.0 average score 23.43 epsilon 0.8660100000006098\n",
      "episode 700 score 21.0 average score 21.68 epsilon 0.8443300000007085\n",
      "episode 800 score 11.0 average score 24.51 epsilon 0.81982000000082\n",
      "episode 900 score 9.0 average score 22.85 epsilon 0.796970000000924\n",
      "episode 1000 score 28.0 average score 24.06 epsilon 0.7729100000010335\n",
      "episode 1100 score 20.0 average score 23.83 epsilon 0.7490800000011419\n",
      "episode 1200 score 15.0 average score 20.82 epsilon 0.7282600000012367\n",
      "episode 1300 score 16.0 average score 21.92 epsilon 0.7063400000013365\n",
      "episode 1400 score 15.0 average score 22.9 epsilon 0.6834400000014407\n",
      "episode 1500 score 12.0 average score 24.61 epsilon 0.6588300000015527\n",
      "episode 1600 score 24.0 average score 25.05 epsilon 0.6337800000016667\n",
      "episode 1700 score 26.0 average score 25.45 epsilon 0.6083300000017825\n",
      "episode 1800 score 16.0 average score 23.92 epsilon 0.5844100000018914\n",
      "episode 1900 score 18.0 average score 27.88 epsilon 0.5565300000020182\n",
      "episode 2000 score 25.0 average score 26.39 epsilon 0.5301400000021383\n",
      "episode 2100 score 16.0 average score 28.03 epsilon 0.5021100000022659\n",
      "episode 2200 score 55.0 average score 28.26 epsilon 0.47385000000224936\n",
      "episode 2300 score 15.0 average score 27.02 epsilon 0.44683000000222234\n",
      "episode 2400 score 50.0 average score 25.65 epsilon 0.4211800000021967\n",
      "episode 2500 score 25.0 average score 26.95 epsilon 0.39423000000216973\n",
      "episode 2600 score 15.0 average score 28.17 epsilon 0.36606000000214156\n",
      "episode 2700 score 10.0 average score 27.61 epsilon 0.33845000000211395\n",
      "episode 2800 score 13.0 average score 33.34 epsilon 0.3051100000020806\n",
      "episode 2900 score 10.0 average score 30.86 epsilon 0.27425000000204974\n",
      "episode 3000 score 70.0 average score 32.74 epsilon 0.241510000002017\n",
      "episode 3100 score 14.0 average score 29.07 epsilon 0.21244000000198793\n",
      "episode 3200 score 15.0 average score 37.75 epsilon 0.17469000000195017\n",
      "episode 3300 score 81.0 average score 26.13 epsilon 0.14856000000192404\n",
      "episode 3400 score 129.0 average score 45.76 epsilon 0.10280000000190909\n",
      "episode 3500 score 16.0 average score 28.01 epsilon 0.07479000000191995\n",
      "episode 3600 score 31.0 average score 42.58 epsilon 0.032210000001915436\n",
      "episode 3700 score 16.0 average score 36.84 epsilon 0.01\n",
      "episode 3800 score 14.0 average score 35.13 epsilon 0.01\n",
      "episode 3900 score 9.0 average score 48.18 epsilon 0.01\n",
      "episode 4000 score 11.0 average score 10.22 epsilon 0.01\n",
      "episode 4100 score 184.0 average score 67.49 epsilon 0.01\n",
      "episode 4200 score 24.0 average score 60.11 epsilon 0.01\n",
      "episode 4300 score 15.0 average score 28.25 epsilon 0.01\n",
      "episode 4400 score 10.0 average score 53.55 epsilon 0.01\n",
      "episode 4500 score 9.0 average score 39.76 epsilon 0.01\n",
      "episode 4600 score 10.0 average score 22.11 epsilon 0.01\n",
      "episode 4700 score 77.0 average score 58.32 epsilon 0.01\n",
      "episode 4800 score 10.0 average score 47.51 epsilon 0.01\n",
      "episode 4900 score 148.0 average score 49.82 epsilon 0.01\n",
      "episode 5000 score 10.0 average score 60.33 epsilon 0.01\n",
      "episode 5100 score 9.0 average score 51.59 epsilon 0.01\n",
      "episode 5200 score 14.0 average score 71.93 epsilon 0.01\n",
      "episode 5300 score 11.0 average score 54.23 epsilon 0.01\n",
      "episode 5400 score 11.0 average score 40.66 epsilon 0.01\n",
      "episode 5500 score 196.0 average score 82.88 epsilon 0.01\n",
      "episode 5600 score 10.0 average score 28.9 epsilon 0.01\n",
      "episode 5700 score 12.0 average score 10.29 epsilon 0.01\n",
      "episode 5800 score 10.0 average score 10.0 epsilon 0.01\n",
      "episode 5900 score 10.0 average score 10.09 epsilon 0.01\n",
      "episode 6000 score 12.0 average score 10.24 epsilon 0.01\n",
      "episode 6100 score 147.0 average score 72.43 epsilon 0.01\n",
      "episode 6200 score 76.0 average score 67.54 epsilon 0.01\n",
      "episode 6300 score 9.0 average score 20.13 epsilon 0.01\n",
      "episode 6400 score 11.0 average score 10.2 epsilon 0.01\n",
      "episode 6500 score 10.0 average score 9.53 epsilon 0.01\n",
      "episode 6600 score 42.0 average score 19.25 epsilon 0.01\n",
      "episode 6700 score 24.0 average score 48.43 epsilon 0.01\n",
      "episode 6800 score 120.0 average score 52.23 epsilon 0.01\n",
      "episode 6900 score 11.0 average score 43.2 epsilon 0.01\n",
      "episode 7000 score 9.0 average score 70.06 epsilon 0.01\n",
      "episode 7100 score 12.0 average score 72.08 epsilon 0.01\n",
      "episode 7200 score 115.0 average score 36.46 epsilon 0.01\n",
      "episode 7300 score 55.0 average score 40.36 epsilon 0.01\n",
      "episode 7400 score 8.0 average score 15.21 epsilon 0.01\n",
      "episode 7500 score 11.0 average score 10.21 epsilon 0.01\n",
      "episode 7600 score 24.0 average score 15.86 epsilon 0.01\n",
      "episode 7700 score 10.0 average score 17.65 epsilon 0.01\n",
      "episode 7800 score 10.0 average score 10.27 epsilon 0.01\n",
      "episode 7900 score 10.0 average score 9.97 epsilon 0.01\n",
      "episode 8000 score 9.0 average score 9.44 epsilon 0.01\n",
      "episode 8100 score 25.0 average score 12.09 epsilon 0.01\n",
      "episode 8200 score 151.0 average score 116.88 epsilon 0.01\n",
      "episode 8300 score 12.0 average score 66.74 epsilon 0.01\n",
      "episode 8400 score 13.0 average score 32.18 epsilon 0.01\n",
      "episode 8500 score 45.0 average score 110.7 epsilon 0.01\n",
      "episode 8600 score 71.0 average score 22.19 epsilon 0.01\n",
      "episode 8700 score 11.0 average score 86.89 epsilon 0.01\n",
      "episode 8800 score 11.0 average score 10.06 epsilon 0.01\n",
      "episode 8900 score 11.0 average score 10.19 epsilon 0.01\n",
      "episode 9000 score 22.0 average score 21.85 epsilon 0.01\n",
      "episode 9100 score 10.0 average score 107.27 epsilon 0.01\n",
      "episode 9200 score 63.0 average score 32.13 epsilon 0.01\n",
      "episode 9300 score 175.0 average score 97.0 epsilon 0.01\n",
      "episode 9400 score 10.0 average score 36.68 epsilon 0.01\n",
      "episode 9500 score 11.0 average score 10.22 epsilon 0.01\n",
      "episode 9600 score 10.0 average score 12.34 epsilon 0.01\n",
      "episode 9700 score 12.0 average score 9.96 epsilon 0.01\n",
      "episode 9800 score 10.0 average score 9.89 epsilon 0.01\n",
      "episode 9900 score 8.0 average score 9.51 epsilon 0.01\n"
     ]
    }
   ],
   "source": [
    "env = gym.make(\"CartPole-v1\")\n",
    "agent = Agent(\n",
    "    input_dims=env.observation_space.shape, n_actions=env.action_space.n, lr=0.0001\n",
    ")\n",
    "n_games = 10000\n",
    "scores = []\n",
    "eps_history = []\n",
    "\n",
    "for i in range(n_games):\n",
    "    score = 0\n",
    "    done = False\n",
    "    obs = env.reset()[0]\n",
    "\n",
    "    while not done:\n",
    "        action = agent.choose_action(obs)\n",
    "        obs_, reward, terminated, truncated, info = env.step(action)\n",
    "        score += reward\n",
    "        agent.learn(obs, action, reward, obs_)\n",
    "        obs = obs_\n",
    "        done = terminated or truncated\n",
    "\n",
    "    scores.append(score)\n",
    "    eps_history.append(agent.epsilon)\n",
    "\n",
    "    if i % 100 == 0:\n",
    "        avg_score = np.mean(scores[-100:])\n",
    "        print(\n",
    "            f\"episode {i} score {score} average score {avg_score} epsilon {agent.epsilon}\"\n",
    "        )"
   ]
  },
  {
   "cell_type": "code",
   "execution_count": 7,
   "metadata": {},
   "outputs": [
    {
     "data": {
      "text/plain": [
       "<module 'matplotlib.pyplot' from 'd:\\\\ProgramData\\\\Anaconda3\\\\envs\\\\py310\\\\lib\\\\site-packages\\\\matplotlib\\\\pyplot.py'>"
      ]
     },
     "execution_count": 7,
     "metadata": {},
     "output_type": "execute_result"
    },
    {
     "data": {
      "image/png": "[encoded data removed]",
      "text/plain": [
       "<Figure size 640x480 with 2 Axes>"
      ]
     },
     "metadata": {},
     "output_type": "display_data"
    }
   ],
   "source": [
    "filename = \"cartpole_naive_dqn.png\"\n",
    "x = [i + 1 for i in range(n_games)]\n",
    "plot_learning_curve(x, scores, eps_history, filename)"
   ]
  }
 ],
 "metadata": {
  "kernelspec": {
   "display_name": "py310",
   "language": "python",
   "name": "python3"
  },
  "language_info": {
   "codemirror_mode": {
    "name": "ipython",
    "version": 3
   },
   "file_extension": ".py",
   "mimetype": "text/x-python",
   "name": "python",
   "nbconvert_exporter": "python",
   "pygments_lexer": "ipython3",
   "version": "3.10.15"
  }
 },
 "nbformat": 4,
 "nbformat_minor": 2
}
