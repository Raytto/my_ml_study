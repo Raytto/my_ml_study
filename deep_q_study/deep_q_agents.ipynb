{
 "cells": [
  {
   "cell_type": "markdown",
   "metadata": {},
   "source": [
    "$Q(s, a; \\theta) = \\mathbb{E} \\left[ r_t + \\gamma \\max_{a'} Q(s', a'; \\theta') \\middle| s, a \\right]$\n",
    "\n",
    "* Q 是状态 s 和动作 a 下的 Q 值，参数 θ 表示 Q 网络的参数。\n",
    "* $r_t$ 是当前步的奖励。\n",
    "* $\\gamma$ 是折扣因子，让未来的收益打折\n",
    "* $max_{a'} Q$ 是下一步状态 $s'$中最大的 Q 值，$a'$ 是 $s'$ 中所有动作\n",
    "\n",
    "Q 度量的是当前状态和动下下，且未来总用最优动作带来的回报折现"
   ]
  },
  {
   "cell_type": "markdown",
   "metadata": {},
   "source": [
    "学习更新的方法\n",
    "\n",
    "$Q(s_t, a_t) \\leftarrow Q(s_t, a_t) + \\alpha \\left( r_t + \\gamma \\max_{a'} Q(s_{t+1}, a') - Q(s_t, a_t) \\right)$"
   ]
  },
  {
   "cell_type": "markdown",
   "metadata": {},
   "source": [
    "## 用神经网络代替 Q"
   ]
  },
  {
   "cell_type": "code",
   "execution_count": 62,
   "metadata": {},
   "outputs": [],
   "source": [
    "import gym\n",
    "import numpy as np\n",
    "import torch.nn as nn\n",
    "import torch.nn.functional as F\n",
    "import torch.optim as optim\n",
    "import torch as T\n",
    "import matplotlib.pyplot as plt"
   ]
  },
  {
   "cell_type": "code",
   "execution_count": 80,
   "metadata": {},
   "outputs": [],
   "source": [
    "class LinearDeepQNetwork(nn.Module):\n",
    "    def __init__(self, lr, n_actions, input_dims):\n",
    "        super(LinearDeepQNetwork, self).__init__()\n",
    "\n",
    "        self.fc1 = nn.Linear(*input_dims, 128)\n",
    "        self.fc2 = nn.Linear(128, 128)\n",
    "        self.fc3 = nn.Linear(128, n_actions)\n",
    "\n",
    "        self.optimizer = optim.AdamW(self.parameters(), lr=lr)\n",
    "        self.loss = nn.MSELoss()\n",
    "        self.device = T.device('cuda:0' if T.cuda.is_available() else 'cpu')\n",
    "        self.to(self.device)\n",
    "\n",
    "    def forward(self, state):\n",
    "        layer1 = F.leaky_relu(self.fc1(state), negative_slope=0.01)\n",
    "        layer2 = F.leaky_relu(self.fc2(layer1), negative_slope=0.01)\n",
    "        actions = self.fc3(layer2)\n",
    "        return actions\n",
    "    "
   ]
  },
  {
   "cell_type": "code",
   "execution_count": 75,
   "metadata": {},
   "outputs": [],
   "source": [
    "class Agent():\n",
    "    def __init__(self, input_dims,n_actions,lr,gamma=0.99,epsilon=1.0,ep_dec=1e-5,ep_min=0.01):\n",
    "        self.lr = lr\n",
    "        self.input_dims = input_dims\n",
    "        self.n_actions = n_actions\n",
    "        self.gamma = gamma\n",
    "        self.epsilon = epsilon\n",
    "        self.eps_dec = ep_dec\n",
    "        self.eps_min = ep_min\n",
    "        self.n_action_space = [i for i in range(n_actions)]\n",
    "\n",
    "        self.Q = LinearDeepQNetwork(self.lr, self.n_actions, self.input_dims)\n",
    "\n",
    "    def choose_action(self, observation):\n",
    "        if np.random.random() > self.epsilon:\n",
    "            state = T.tensor(observation, dtype=T.float).to(self.Q.device)\n",
    "            actions = self.Q.forward(state)\n",
    "            action = T.argmax(actions).item()\n",
    "        else:\n",
    "            action = np.random.choice(self.n_action_space)\n",
    "\n",
    "        return action\n",
    "    \n",
    "    def decrement_epsilon(self):\n",
    "        self.epsilon = self.epsilon - self.eps_dec if self.epsilon > self.eps_min else self.eps_min\n",
    "\n",
    "    def learn(self, state, action, reward, state_):\n",
    "        self.Q.optimizer.zero_grad()\n",
    "        cur_state = T.tensor(state, dtype=T.float).to(self.Q.device)\n",
    "        cur_action = T.tensor(action).to(self.Q.device)\n",
    "        cur_reward = T.tensor(reward).to(self.Q.device)\n",
    "        next_states = T.tensor(state_, dtype=T.float).to(self.Q.device)\n",
    "\n",
    "        q_pred = self.Q.forward(cur_state)[cur_action]\n",
    "\n",
    "        q_next = self.Q.forward(next_states).max()\n",
    "\n",
    "        q_target = cur_reward + self.gamma*q_next\n",
    "\n",
    "        loss = self.Q.loss(q_target, q_pred).to(self.Q.device)\n",
    "        loss.backward()\n",
    "        self.Q.optimizer.step()\n",
    "        self.decrement_epsilon()"
   ]
  },
  {
   "cell_type": "code",
   "execution_count": 76,
   "metadata": {},
   "outputs": [],
   "source": [
    "def plot_learning_curve(x, scores, eps_history, filename):\n",
    "    fig = plt.figure()\n",
    "    ax = fig.add_subplot(111, label=\"1\")\n",
    "    ax2 = fig.add_subplot(111, label=\"2\", frame_on=False)\n",
    "\n",
    "    ax.plot(x, eps_history, color=\"C0\")\n",
    "    ax.set_xlabel(\"Game\", color=\"C0\")\n",
    "    ax.set_ylabel(\"Epsilon\", color=\"C0\")\n",
    "    ax.tick_params(axis=\"x\", colors=\"C0\")\n",
    "    ax.tick_params(axis=\"y\", colors=\"C0\")\n",
    "\n",
    "    N = len(scores)\n",
    "    running_avg = np.empty(N)\n",
    "    for t in range(N):\n",
    "        running_avg[t] = np.mean(scores[max(0, t-100):(t+1)])\n",
    "\n",
    "    ax2.scatter(x, running_avg, color=\"C1\")\n",
    "    ax2.axes.get_xaxis().set_visible(False)\n",
    "    ax2.yaxis.tick_right()\n",
    "    ax2.set_ylabel(\"Score\", color=\"C1\")\n",
    "    ax2.yaxis.set_label_position(\"right\")\n",
    "    ax2.tick_params(axis=\"y\", colors=\"C1\")\n",
    "\n",
    "    plt.savefig(filename)"
   ]
  },
  {
   "cell_type": "code",
   "execution_count": 81,
   "metadata": {},
   "outputs": [],
   "source": [
    "env = gym.make('CartPole-v1')"
   ]
  },
  {
   "cell_type": "code",
   "execution_count": 18,
   "metadata": {},
   "outputs": [
    {
     "data": {
      "text/plain": [
       "2"
      ]
     },
     "execution_count": 18,
     "metadata": {},
     "output_type": "execute_result"
    }
   ],
   "source": [
    "env.action_space.n"
   ]
  },
  {
   "cell_type": "code",
   "execution_count": 45,
   "metadata": {},
   "outputs": [
    {
     "data": {
      "text/plain": [
       "(array([ 0.02288327, -0.19105881,  0.02033674,  0.3403878 ], dtype=float32),\n",
       " 1.0,\n",
       " False,\n",
       " False,\n",
       " {})"
      ]
     },
     "execution_count": 45,
     "metadata": {},
     "output_type": "execute_result"
    }
   ],
   "source": [
    "obs_, reward, terminated, truncated, info = env.step(action)\n",
    "obs_, reward, terminated, truncated, info"
   ]
  },
  {
   "cell_type": "code",
   "execution_count": 57,
   "metadata": {},
   "outputs": [
    {
     "data": {
      "text/plain": [
       "(array([-0.00490873, -0.01135814,  0.01391778, -0.01364402], dtype=float32),\n",
       " 0,\n",
       " array([-0.00513589, -0.2066769 ,  0.0136449 ,  0.28339744], dtype=float32),\n",
       " 1.0,\n",
       " False,\n",
       " False,\n",
       " {})"
      ]
     },
     "execution_count": 57,
     "metadata": {},
     "output_type": "execute_result"
    }
   ],
   "source": [
    "agent = Agent(input_dims=env.observation_space.shape, n_actions=env.action_space.n, lr=0.0001)\n",
    "obs = env.reset()\n",
    "action = agent.choose_action(obs)\n",
    "obs_, reward, terminated, truncated, info = env.step(action)\n",
    "obs[0],action,obs_, reward, terminated, truncated, info\n",
    "\n"
   ]
  },
  {
   "cell_type": "code",
   "execution_count": 82,
   "metadata": {},
   "outputs": [
    {
     "name": "stdout",
     "output_type": "stream",
     "text": [
      "episode 0 score 27.0 average score 27.0 epsilon 0.9997300000000012\n",
      "episode 100 score 12.0 average score 21.29 epsilon 0.9784400000000981\n",
      "episode 200 score 17.0 average score 22.9 epsilon 0.9555400000002023\n",
      "episode 300 score 15.0 average score 22.66 epsilon 0.9328800000003055\n",
      "episode 400 score 51.0 average score 20.9 epsilon 0.9119800000004006\n",
      "episode 500 score 27.0 average score 23.79 epsilon 0.8881900000005089\n",
      "episode 600 score 12.0 average score 25.09 epsilon 0.863100000000623\n",
      "episode 700 score 17.0 average score 22.39 epsilon 0.8407100000007249\n",
      "episode 800 score 51.0 average score 22.37 epsilon 0.8183400000008267\n",
      "episode 900 score 24.0 average score 26.78 epsilon 0.7915600000009486\n",
      "episode 1000 score 17.0 average score 23.5 epsilon 0.7680600000010556\n",
      "episode 1100 score 58.0 average score 24.58 epsilon 0.7434800000011674\n",
      "episode 1200 score 11.0 average score 22.37 epsilon 0.7211100000012692\n",
      "episode 1300 score 10.0 average score 26.2 epsilon 0.6949100000013885\n",
      "episode 1400 score 28.0 average score 27.67 epsilon 0.6672400000015144\n",
      "episode 1500 score 29.0 average score 27.75 epsilon 0.6394900000016407\n",
      "episode 1600 score 31.0 average score 29.96 epsilon 0.609530000001777\n",
      "episode 1700 score 12.0 average score 29.94 epsilon 0.5795900000019133\n",
      "episode 1800 score 46.0 average score 30.82 epsilon 0.5487700000020536\n",
      "episode 1900 score 13.0 average score 31.58 epsilon 0.5171900000021973\n",
      "episode 2000 score 101.0 average score 41.57 epsilon 0.47562000000225113\n",
      "episode 2100 score 19.0 average score 33.29 epsilon 0.44233000000221784\n",
      "episode 2200 score 9.0 average score 35.01 epsilon 0.4073200000021828\n",
      "episode 2300 score 8.0 average score 24.5 epsilon 0.3828200000021583\n",
      "episode 2400 score 24.0 average score 22.54 epsilon 0.3602800000021358\n",
      "episode 2500 score 15.0 average score 18.59 epsilon 0.3416900000021172\n",
      "episode 2600 score 11.0 average score 16.46 epsilon 0.3252300000021007\n",
      "episode 2700 score 28.0 average score 20.59 epsilon 0.30464000000208014\n",
      "episode 2800 score 17.0 average score 16.57 epsilon 0.28807000000206356\n",
      "episode 2900 score 9.0 average score 18.55 epsilon 0.269520000002045\n",
      "episode 3000 score 23.0 average score 16.71 epsilon 0.2528100000020283\n",
      "episode 3100 score 10.0 average score 18.78 epsilon 0.23403000000200952\n",
      "episode 3200 score 17.0 average score 16.24 epsilon 0.21779000000199328\n",
      "episode 3300 score 27.0 average score 17.56 epsilon 0.20023000000197572\n",
      "episode 3400 score 8.0 average score 16.88 epsilon 0.18335000000195883\n",
      "episode 3500 score 22.0 average score 17.16 epsilon 0.16619000000194167\n",
      "episode 3600 score 16.0 average score 18.15 epsilon 0.14804000000192352\n",
      "episode 3700 score 31.0 average score 18.17 epsilon 0.12987000000190535\n",
      "episode 3800 score 34.0 average score 14.32 epsilon 0.11555000000190414\n",
      "episode 3900 score 10.0 average score 14.39 epsilon 0.10116000000190972\n",
      "episode 4000 score 8.0 average score 13.93 epsilon 0.08723000000191512\n",
      "episode 4100 score 10.0 average score 12.95 epsilon 0.07428000000192014\n",
      "episode 4200 score 14.0 average score 12.47 epsilon 0.0618100000019245\n",
      "episode 4300 score 10.0 average score 13.13 epsilon 0.04868000000192048\n",
      "episode 4400 score 25.0 average score 12.38 epsilon 0.03630000000191669\n",
      "episode 4500 score 10.0 average score 10.47 epsilon 0.025830000001915362\n",
      "episode 4600 score 10.0 average score 9.68 epsilon 0.016150000001915757\n",
      "episode 4700 score 10.0 average score 10.47 epsilon 0.01\n",
      "episode 4800 score 9.0 average score 9.62 epsilon 0.01\n",
      "episode 4900 score 8.0 average score 9.91 epsilon 0.01\n",
      "episode 5000 score 9.0 average score 9.87 epsilon 0.01\n",
      "episode 5100 score 9.0 average score 10.75 epsilon 0.01\n",
      "episode 5200 score 9.0 average score 10.31 epsilon 0.01\n",
      "episode 5300 score 10.0 average score 9.77 epsilon 0.01\n",
      "episode 5400 score 10.0 average score 9.53 epsilon 0.01\n",
      "episode 5500 score 27.0 average score 10.49 epsilon 0.01\n",
      "episode 5600 score 10.0 average score 10.02 epsilon 0.01\n",
      "episode 5700 score 31.0 average score 9.96 epsilon 0.01\n",
      "episode 5800 score 10.0 average score 9.92 epsilon 0.01\n",
      "episode 5900 score 9.0 average score 9.87 epsilon 0.01\n",
      "episode 6000 score 9.0 average score 9.83 epsilon 0.01\n",
      "episode 6100 score 11.0 average score 10.59 epsilon 0.01\n",
      "episode 6200 score 9.0 average score 10.24 epsilon 0.01\n",
      "episode 6300 score 9.0 average score 9.77 epsilon 0.01\n",
      "episode 6400 score 10.0 average score 10.18 epsilon 0.01\n",
      "episode 6500 score 10.0 average score 10.6 epsilon 0.01\n",
      "episode 6600 score 10.0 average score 9.63 epsilon 0.01\n",
      "episode 6700 score 9.0 average score 9.61 epsilon 0.01\n",
      "episode 6800 score 10.0 average score 10.39 epsilon 0.01\n",
      "episode 6900 score 10.0 average score 11.07 epsilon 0.01\n",
      "episode 7000 score 9.0 average score 11.2 epsilon 0.01\n",
      "episode 7100 score 10.0 average score 9.34 epsilon 0.01\n",
      "episode 7200 score 9.0 average score 9.62 epsilon 0.01\n",
      "episode 7300 score 9.0 average score 10.31 epsilon 0.01\n",
      "episode 7400 score 10.0 average score 11.52 epsilon 0.01\n",
      "episode 7500 score 9.0 average score 9.67 epsilon 0.01\n",
      "episode 7600 score 10.0 average score 10.99 epsilon 0.01\n",
      "episode 7700 score 8.0 average score 9.53 epsilon 0.01\n",
      "episode 7800 score 10.0 average score 9.36 epsilon 0.01\n",
      "episode 7900 score 27.0 average score 10.28 epsilon 0.01\n",
      "episode 8000 score 9.0 average score 10.13 epsilon 0.01\n",
      "episode 8100 score 10.0 average score 9.95 epsilon 0.01\n",
      "episode 8200 score 10.0 average score 9.91 epsilon 0.01\n",
      "episode 8300 score 8.0 average score 9.73 epsilon 0.01\n",
      "episode 8400 score 10.0 average score 10.87 epsilon 0.01\n",
      "episode 8500 score 9.0 average score 10.13 epsilon 0.01\n",
      "episode 8600 score 9.0 average score 9.91 epsilon 0.01\n",
      "episode 8700 score 10.0 average score 9.29 epsilon 0.01\n",
      "episode 8800 score 10.0 average score 10.2 epsilon 0.01\n",
      "episode 8900 score 25.0 average score 9.65 epsilon 0.01\n",
      "episode 9000 score 10.0 average score 9.34 epsilon 0.01\n",
      "episode 9100 score 8.0 average score 9.52 epsilon 0.01\n",
      "episode 9200 score 10.0 average score 9.31 epsilon 0.01\n",
      "episode 9300 score 9.0 average score 11.18 epsilon 0.01\n",
      "episode 9400 score 9.0 average score 9.58 epsilon 0.01\n",
      "episode 9500 score 10.0 average score 10.78 epsilon 0.01\n",
      "episode 9600 score 9.0 average score 11.04 epsilon 0.01\n",
      "episode 9700 score 10.0 average score 9.9 epsilon 0.01\n",
      "episode 9800 score 8.0 average score 9.84 epsilon 0.01\n",
      "episode 9900 score 8.0 average score 10.39 epsilon 0.01\n"
     ]
    }
   ],
   "source": [
    "agent = Agent(input_dims=env.observation_space.shape, n_actions=env.action_space.n, lr=0.0001)\n",
    "n_games = 10000\n",
    "scores = []\n",
    "eps_history = []\n",
    "\n",
    "for i in range(n_games):\n",
    "    score = 0\n",
    "    done = False\n",
    "    obs = env.reset()[0]\n",
    "\n",
    "    while not done:\n",
    "        action = agent.choose_action(obs)\n",
    "        obs_, reward, terminated, truncated, info = env.step(action)\n",
    "        score += reward\n",
    "        agent.learn(obs, action, reward, obs_)\n",
    "        obs = obs_\n",
    "        done = terminated or truncated\n",
    "\n",
    "    scores.append(score)\n",
    "    eps_history.append(agent.epsilon)\n",
    "\n",
    "    if i % 100 == 0:\n",
    "        avg_score = np.mean(scores[-100:])\n",
    "        print(f'episode {i} score {score} average score {avg_score} epsilon {agent.epsilon}')\n"
   ]
  },
  {
   "cell_type": "code",
   "execution_count": 79,
   "metadata": {},
   "outputs": [
    {
     "data": {
      "image/png": "[encoded data removed]",
      "text/plain": [
       "<Figure size 640x480 with 2 Axes>"
      ]
     },
     "metadata": {},
     "output_type": "display_data"
    }
   ],
   "source": [
    "filename = 'cartpole_naive_dqn.png'\n",
    "x = [i+1 for i in range(n_games)]\n",
    "plot_learning_curve(x, scores, eps_history, filename)"
   ]
  }
 ],
 "metadata": {
  "kernelspec": {
   "display_name": "py310",
   "language": "python",
   "name": "python3"
  },
  "language_info": {
   "codemirror_mode": {
    "name": "ipython",
    "version": 3
   },
   "file_extension": ".py",
   "mimetype": "text/x-python",
   "name": "python",
   "nbconvert_exporter": "python",
   "pygments_lexer": "ipython3",
   "version": "3.10.15"
  }
 },
 "nbformat": 4,
 "nbformat_minor": 2
}
