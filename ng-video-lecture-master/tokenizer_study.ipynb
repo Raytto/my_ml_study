{
 "cells": [
  {
   "cell_type": "markdown",
   "id": "1bd67b68-a45f-41d7-a776-a7d56f2a1c0e",
   "metadata": {},
   "source": [
    "## 1. 说明\n",
    "整体跟着 Andrej 大佬教程完成：https://www.youtube.com/watch?v=zduSFxRajkE&t=5600s  \n",
    "逐字符直接和 int 映射的方式会导致 token 非常多，想充分利用模型的上下文长度的话最好对 token 进行一定程度打包。  \n",
    "最简单的例子：比如 'was' 'Harry' 都是非常常见的词，我们理解这些词的时候会把其看作一个整体，而非 'w''a''s''H' 等等一个个字母，浪费理解力。  \n",
    "所以需要一些更好的 encode decode 方式。\n",
    "放编码领域直接能想到的是哈夫曼编码，不过哈夫曼是为了压缩编码信息，并不是在打包 'Harry' 这种词。  \n",
    "GPT 采用的是 BPE (Byte Pair Encoding) 方法：https://en.wikipedia.org/wiki/Byte_pair_encoding  \n",
    "是一种理解容易的算法，并且更能处理语言中的语法和语义特性，同时还能保持适度的压缩性。"
   ]
  },
  {
   "cell_type": "markdown",
   "id": "b24f1b98-4dae-478c-9329-b32ae5c1c33b",
   "metadata": {},
   "source": [
    "## 2. 从字符到数字\n",
    "压缩前先把待处理的字符转化为数字（且要能转化回来）"
   ]
  },
  {
   "cell_type": "markdown",
   "id": "84a14137-fdb8-430c-ae8e-a452dce544a8",
   "metadata": {},
   "source": [
    "### 2.1 Unicode 字符编码\n",
    "Unicode 维基：https://zh.wikipedia.org/wiki/Unicode#%E7%BC%96%E7%A0%81%E6%96%B9%E5%BC%8F\n",
    "Unicode 给计算机能用的大量文字和符号都进行了唯一编码，总共大概15万个符号"
   ]
  },
  {
   "cell_type": "code",
   "execution_count": 1,
   "id": "a533376e-5666-435f-ae98-47f3e6ec1f86",
   "metadata": {},
   "outputs": [
    {
     "data": {
      "text/plain": [
       "25105"
      ]
     },
     "execution_count": 1,
     "metadata": {},
     "output_type": "execute_result"
    }
   ],
   "source": [
    "# 查 Unicode 编码\n",
    "ord(\"我\")"
   ]
  },
  {
   "cell_type": "markdown",
   "id": "b1a55260-9bac-4e15-be57-4eef452ac00a",
   "metadata": {},
   "source": [
    "### 2.2 Unicode 字符串编码\n",
    "由于每个字符对应的 Unicode 编码转化为 2 进制后长度不一致。所以实际编码为 bytes 时又有不同的方式。  \n",
    "* UTF-8 : 能 1 个字节搞定的大部分 1 个字节搞定，不够再扩展到 2 个字节，至多 4 个字节。   \n",
    "* UTF-16 : 至少用 2 个字节对应一个字符，不需要 2 字节的则用 0 填充，不够再扩展到 3 个字节，至多 4 个字节。  \n",
    "* UTF-32 : 每个字符都用 4 个字节编码。\n",
    "  \n",
    "可见 UTF-8 最灵活省空间，虽然解析麻烦一些。UTF-32 解析简单，但浪费空间。UTF-16 折衷，但个人感觉两边不讨好。  \n",
    "GPT 采用的是 UTF-8"
   ]
  },
  {
   "cell_type": "code",
   "execution_count": 2,
   "id": "a4488953-4a39-4a3e-b281-cc2c1869f156",
   "metadata": {},
   "outputs": [
    {
     "data": {
      "text/plain": [
       "[230, 136, 145, 97, 44, 51]"
      ]
     },
     "execution_count": 2,
     "metadata": {},
     "output_type": "execute_result"
    }
   ],
   "source": [
    "# UTF-8 编码\n",
    "list(\"我a,3\".encode(\"utf-8\"))"
   ]
  },
  {
   "cell_type": "code",
   "execution_count": 3,
   "id": "b307430d-ec73-47a2-8cbf-5dec9adc7545",
   "metadata": {},
   "outputs": [
    {
     "data": {
      "text/plain": [
       "[255, 254, 17, 98, 97, 0, 44, 0, 51, 0]"
      ]
     },
     "execution_count": 3,
     "metadata": {},
     "output_type": "execute_result"
    }
   ],
   "source": [
    "# UTF-16 编码(会有一些0填充)\n",
    "list(\"我a,3\".encode(\"utf-16\"))"
   ]
  },
  {
   "cell_type": "code",
   "execution_count": 4,
   "id": "6aff377d-79aa-4681-981d-b01a88604fcb",
   "metadata": {},
   "outputs": [
    {
     "data": {
      "text/plain": [
       "[255, 254, 0, 0, 17, 98, 0, 0, 97, 0, 0, 0, 44, 0, 0, 0, 51, 0, 0, 0]"
      ]
     },
     "execution_count": 4,
     "metadata": {},
     "output_type": "execute_result"
    }
   ],
   "source": [
    "# UTF-32 编码(会有更多0填充)\n",
    "list(\"我a,3\".encode(\"utf-32\"))"
   ]
  },
  {
   "cell_type": "markdown",
   "id": "56031fbf-a66d-4047-a11b-e6cbf33fe78a",
   "metadata": {},
   "source": [
    "## 3. BPE算法\n",
    "BPE维基:https://en.wikipedia.org/wiki/Byte_pair_encoding  \n",
    "算法思想简述就是把串中的出现频率最高的二元组替换为一个新的符号。替换到满意为止。"
   ]
  },
  {
   "cell_type": "markdown",
   "id": "7ad73207-63ac-422d-aae7-f9111a31e656",
   "metadata": {},
   "source": [
    "### 3.1 尝试"
   ]
  },
  {
   "cell_type": "code",
   "execution_count": 5,
   "id": "3358087e-cf95-478f-b177-be6ecd6f7286",
   "metadata": {},
   "outputs": [],
   "source": [
    "# 用BPE维基的一段文本作为演示\n",
    "text = 'Byte pair encoding[1][2] (also known as digram coding)[3] is an algorithm, first described in 1994 by Philip Gage for encoding strings of text into tabular form for use in downstream modeling.[4] Its modification is notable as the large language model tokenizer with an ability to combine both tokens that encode single characters (including single digits or single punctuation marks) and those that encode whole words (even the longest compound words).[5][6][7] This modification, in the first step, assumes all unique characters to be an initial set of 1-character long n-grams (i.e. initial \"tokens\"). Then, successively, the most frequent pair of adjacent characters is merged into a new, 2-character long n-gram and all instances of the pair are replaced by this new token. This is repeated until a vocabulary of prescribed size is obtained. Note that new words can always be constructed from final vocabulary tokens and initial-set characters.[8] This algorithmic approach has been extended from spoken language to sign language in recent years.[9]\\nAll the unique tokens found in a corpus are listed in a token vocabulary, the size of which, in the case of GPT-3.5 and GPT-4, is 100256.\\nThe difference between the modified and the original algorithm is that the original algorithm does not merge the most frequent pair of bytes of data, but replaces them with a new byte that was not contained in the initial dataset. A lookup table of the replacements is required to rebuild the initial dataset. The algorithm is effective for tokenization because it has low computational overhead and remains consistent and reliable.'"
   ]
  },
  {
   "cell_type": "code",
   "execution_count": 6,
   "id": "ed423489-1024-4e2e-8bb1-f9c6a723b3e0",
   "metadata": {},
   "outputs": [],
   "source": [
    "# 先把text转化为utf-8编码（一堆0~255的int）\n",
    "text_codes = text.encode(\"utf-8\")"
   ]
  },
  {
   "cell_type": "code",
   "execution_count": 35,
   "id": "2d544f11-c68b-4c1a-8aae-20593b9bac7f",
   "metadata": {},
   "outputs": [],
   "source": [
    "# 计算各个 pair 的出现次数\n",
    "# 记录在 pair_counts 中。key 是二元组， value 是次数，形如{(123,333),1}\n",
    "pair_counts = {}\n",
    "for pair in zip(text_codes, text_codes[1:]):  # 遍历所有pair\n",
    "    pair_counts[pair] = pair_counts.get(pair, 0) + 1  # 统计出现次数"
   ]
  },
  {
   "cell_type": "code",
   "execution_count": 8,
   "id": "fa5d7904-e18e-4dd5-89d6-00d1ebd3e66c",
   "metadata": {},
   "outputs": [
    {
     "name": "stdout",
     "output_type": "stream",
     "text": [
      "(66, 121): 1\n",
      "(121, 116): 3\n",
      "(116, 101): 17\n",
      "(101, 32): 49\n",
      "(32, 112): 6\n",
      "(112, 97): 4\n",
      "(97, 105): 7\n",
      "(105, 114): 7\n",
      "(114, 32): 12\n",
      "(32, 101): 6\n",
      "(101, 110): 25\n",
      "(110, 99): 8\n",
      "(99, 111): 12\n",
      "(111, 100): 10\n",
      "(100, 105): 10\n",
      "(105, 110): 33\n",
      "(110, 103): 15\n",
      "(103, 91): 1\n",
      "(91, 49): 1\n",
      "(49, 93): 1\n"
     ]
    }
   ],
   "source": [
    "from itertools import islice\n",
    "# 查看 pair_counts\n",
    "# 打印前20个键值对\n",
    "for key, value in islice(pair_counts.items(), 20):\n",
    "    print(f\"{key}: {value}\")"
   ]
  },
  {
   "cell_type": "code",
   "execution_count": 9,
   "id": "68c375a7-f65b-4808-a3a1-9f36db0238f4",
   "metadata": {},
   "outputs": [
    {
     "data": {
      "text/plain": [
       "((101, 32), 49)"
      ]
     },
     "execution_count": 9,
     "metadata": {},
     "output_type": "execute_result"
    }
   ],
   "source": [
    "# 使用 max 函数，指定 key 的比较方式为根据字典的 value 来获取最大 key\n",
    "max_key = max(pair_counts, key=pair_counts.get)\n",
    "max_key, pair_counts[max_key]"
   ]
  },
  {
   "cell_type": "markdown",
   "id": "fc8727d1-06ec-44a1-b058-1b6643e1dc0b",
   "metadata": {},
   "source": [
    "## 4. 正式 BPE"
   ]
  },
  {
   "cell_type": "markdown",
   "id": "70d134cc-4498-47a7-a45e-b2e3810fb23c",
   "metadata": {},
   "source": [
    "### 4.1 准备将用到的基本方法"
   ]
  },
  {
   "cell_type": "code",
   "execution_count": 10,
   "id": "8ec9f0a6-33fe-4b9b-b335-3e0a3280eb28",
   "metadata": {},
   "outputs": [],
   "source": [
    "def get_stats(ids, counts=None):\n",
    "    \"\"\"\n",
    "    获取ids中各个pair的出现次数\n",
    "    Example: [1, 2, 3, 1, 2] -> {(1, 2): 2, (2, 3): 1, (3, 1): 1}\n",
    "    \"\"\"\n",
    "    counts = {} if counts is None else counts\n",
    "    for pair in zip(ids, ids[1:]): # iterate consecutive elements\n",
    "        counts[pair] = counts.get(pair, 0) + 1\n",
    "    return counts"
   ]
  },
  {
   "cell_type": "code",
   "execution_count": 11,
   "id": "56d8681b-2eca-43d8-afdf-93817e93d540",
   "metadata": {},
   "outputs": [],
   "source": [
    "# 替换函数\n",
    "def merge(ids, pair, idx):\n",
    "    \"\"\"\n",
    "    将 ids 序列中的 pair 替换为 idx\n",
    "    Example: ids=[1, 2, 3, 1, 2], pair=(1, 2), idx=4 -> [4, 3, 4]\n",
    "    \"\"\"\n",
    "    newids = []\n",
    "    i = 0\n",
    "    while i < len(ids):\n",
    "        # if not at the very last position AND the pair matches, replace it\n",
    "        if ids[i] == pair[0] and i < len(ids) - 1 and ids[i + 1] == pair[1]:\n",
    "            newids.append(idx)\n",
    "            i += 2\n",
    "        else:\n",
    "            newids.append(ids[i])\n",
    "            i += 1\n",
    "    return newids"
   ]
  },
  {
   "cell_type": "code",
   "execution_count": 12,
   "id": "a61d472f-a78c-46cc-8c0b-d3756a7700aa",
   "metadata": {},
   "outputs": [],
   "source": [
    "# 由原始文本到token ids\n",
    "def encode(orginal_text,merges):\n",
    "    # 经由原始字符转化为token id\n",
    "    text_bytes = orginal_text.encode(\"utf-8\") # raw bytes\n",
    "    ids = list(text_bytes) # list of integers in range 0..255\n",
    "    while len(ids) >= 2:\n",
    "        # 从前往后替换  （和训练时保持一致的先后顺序）\n",
    "        stats = get_stats(ids)\n",
    "        pair = min(stats, key=lambda p: merges.get(p, float(\"inf\")))\n",
    "        # 如果没有则返回inf(最不优先替换)\n",
    "        # 但如果全部都是inf的话 min 会返回第一个需要判断下\n",
    "        if pair not in merges:\n",
    "            break # 替换完成\n",
    "        # 替换最早的那个pair\n",
    "        idx = merges[pair]\n",
    "        ids = merge(ids, pair, idx)\n",
    "    return ids"
   ]
  },
  {
   "cell_type": "code",
   "execution_count": 13,
   "id": "427d97e2-6785-4cbb-b9bc-ac93cfd9762d",
   "metadata": {},
   "outputs": [],
   "source": [
    "# 由token ids 到原始文本\n",
    "def decode(ids,vocab):\n",
    "        # given ids (list of integers), return Python string\n",
    "        text_bytes = b\"\".join(vocab[idx] for idx in ids)\n",
    "        # 如果decode有问题（如utf-8编码下第一个byte不可能是128）则用一个特殊字符代替\n",
    "        text = text_bytes.decode(\"utf-8\", errors=\"replace\")\n",
    "        return text"
   ]
  },
  {
   "cell_type": "markdown",
   "id": "c2ca7130-a981-40b4-a640-822f1921facb",
   "metadata": {},
   "source": [
    "### 4.2 BPE 试训练"
   ]
  },
  {
   "cell_type": "code",
   "execution_count": 14,
   "id": "a380ebea-3d91-4237-b0c0-f7816f0be568",
   "metadata": {},
   "outputs": [],
   "source": [
    "# 超参\n",
    "vocab_size = 265\n",
    "# 训练文本准备z\n",
    "train_text = text\n",
    "text_bytes = train_text.encode(\"utf-8\") # raw bytes"
   ]
  },
  {
   "cell_type": "code",
   "execution_count": 15,
   "id": "e84be4e8-c5fe-4db4-965c-63898f11e518",
   "metadata": {},
   "outputs": [],
   "source": [
    "# 训练对象（词汇表、转化表）\n",
    "# # 基本的ASCII码要保留，如果有对于其他字符集如汉字，则也需要保留所有单汉字。避免未来 GPT 处理输入不认识\n",
    "vocab = {idx: bytes([idx]) for idx in range(256)} # int -> bytes\n",
    "merges = {} # (int, int) -> int"
   ]
  },
  {
   "cell_type": "code",
   "execution_count": 16,
   "id": "f63b4265-e2e8-4857-bb25-5a7a81d42401",
   "metadata": {},
   "outputs": [
    {
     "name": "stdout",
     "output_type": "stream",
     "text": [
      "merge 1/9: (101, 32) -> 256 (b'e ') had 49 occurrences\n",
      "merge 2/9: (115, 32) -> 257 (b's ') had 39 occurrences\n",
      "merge 3/9: (105, 110) -> 258 (b'in') had 33 occurrences\n",
      "merge 4/9: (116, 104) -> 259 (b'th') had 31 occurrences\n",
      "merge 5/9: (101, 110) -> 260 (b'en') had 25 occurrences\n",
      "merge 6/9: (32, 97) -> 261 (b' a') had 23 occurrences\n",
      "merge 7/9: (116, 32) -> 262 (b't ') had 21 occurrences\n",
      "merge 8/9: (100, 32) -> 263 (b'd ') had 19 occurrences\n",
      "merge 9/9: (111, 114) -> 264 (b'or') had 16 occurrences\n"
     ]
    }
   ],
   "source": [
    "# 序列准备\n",
    "ids = list(text_bytes) # list of integers in range 0..255\n",
    "# 目标 merge 的次数\n",
    "num_merges = vocab_size - 256\n",
    "for i in range(num_merges):\n",
    "    # 获取当前 pair 信息\n",
    "    stats = get_stats(ids)\n",
    "    # 找出现次数最多的 pair\n",
    "    pair = max(stats, key=stats.get)\n",
    "    # 给其一个新 id\n",
    "    idx = 256 + i\n",
    "    # 替换\n",
    "    ids = merge(ids, pair, idx)\n",
    "    # 将替换信息加入 merges\n",
    "    merges[pair] = idx\n",
    "    # 记录新的 idx 对应的原始串\n",
    "    vocab[idx] = vocab[pair[0]] + vocab[pair[1]]\n",
    "    # prints\n",
    "    print(f\"merge {i+1}/{num_merges}: {pair} -> {idx} ({vocab[idx]}) had {stats[pair]} occurrences\")"
   ]
  },
  {
   "cell_type": "markdown",
   "id": "94e1f0f3-5a69-4903-83ac-614632387258",
   "metadata": {},
   "source": [
    "### 4.3 检查试训练结果"
   ]
  },
  {
   "cell_type": "code",
   "execution_count": 17,
   "id": "0110fa05-d2c8-4288-8f83-4f50605d6a35",
   "metadata": {},
   "outputs": [
    {
     "data": {
      "text/plain": [
       "1369"
      ]
     },
     "execution_count": 17,
     "metadata": {},
     "output_type": "execute_result"
    }
   ],
   "source": [
    "# 尝试用其 encode 训练文本\n",
    "test_ids = encode(text,merges)\n",
    "len(test_ids)"
   ]
  },
  {
   "cell_type": "code",
   "execution_count": 18,
   "id": "91befca0-0070-4060-a8b7-d6a9e282dd14",
   "metadata": {},
   "outputs": [
    {
     "data": {
      "text/plain": [
       "1625"
      ]
     },
     "execution_count": 18,
     "metadata": {},
     "output_type": "execute_result"
    }
   ],
   "source": [
    "# 对比原始 utf-8 encode 的长度\n",
    "len(text.encode('utf-8'))"
   ]
  },
  {
   "cell_type": "code",
   "execution_count": 19,
   "id": "ff8feb4a-957c-4b11-9fac-877d7f570189",
   "metadata": {},
   "outputs": [
    {
     "data": {
      "text/plain": [
       "0.8424615384615385"
      ]
     },
     "execution_count": 19,
     "metadata": {},
     "output_type": "execute_result"
    }
   ],
   "source": [
    "# 通过9次merge减少到了84%\n",
    "len(test_ids)/len(text.encode('utf-8'))"
   ]
  },
  {
   "cell_type": "code",
   "execution_count": 20,
   "id": "eec7bcf3-f7de-4626-a733-a1c5ad5c3fc9",
   "metadata": {},
   "outputs": [
    {
     "data": {
      "text/plain": [
       "'Byte pair encoding[1][2] (also known as digram coding)[3] is an algorithm, first described in 1994 by Philip Gage for encoding strings of text into tabular form for use in downstream modeling.[4] Its modification is notable as the large language model tokenizer with an ability to combine both tokens that encode single characters (including single digits or single punctuation marks) and those that encode whole words (even the longest compound words).[5][6][7] This modification, in the first step, assumes all unique characters to be an initial set of 1-character long n-grams (i.e. initial \"tokens\"). Then, successively, the most frequent pair of adjacent characters is merged into a new, 2-character long n-gram and all instances of the pair are replaced by this new token. This is repeated until a vocabulary of prescribed size is obtained. Note that new words can always be constructed from final vocabulary tokens and initial-set characters.[8] This algorithmic approach has been extended from spoken language to sign language in recent years.[9]\\nAll the unique tokens found in a corpus are listed in a token vocabulary, the size of which, in the case of GPT-3.5 and GPT-4, is 100256.\\nThe difference between the modified and the original algorithm is that the original algorithm does not merge the most frequent pair of bytes of data, but replaces them with a new byte that was not contained in the initial dataset. A lookup table of the replacements is required to rebuild the initial dataset. The algorithm is effective for tokenization because it has low computational overhead and remains consistent and reliable.'"
      ]
     },
     "execution_count": 20,
     "metadata": {},
     "output_type": "execute_result"
    }
   ],
   "source": [
    "# 尝试解码\n",
    "decode(test_ids,vocab)"
   ]
  },
  {
   "cell_type": "code",
   "execution_count": 21,
   "id": "9abca051-2c4b-42f4-afe2-ffcc79c318de",
   "metadata": {},
   "outputs": [
    {
     "data": {
      "text/plain": [
       "True"
      ]
     },
     "execution_count": 21,
     "metadata": {},
     "output_type": "execute_result"
    }
   ],
   "source": [
    "# 和原文比对看是否一致\n",
    "decode(test_ids,vocab) == text"
   ]
  },
  {
   "cell_type": "code",
   "execution_count": 22,
   "id": "dd140f73-c1a7-469b-860a-ac2b6df4e699",
   "metadata": {},
   "outputs": [],
   "source": [
    "# 再换一段非训练文本试试\n",
    "text2 = \"Harry Potter and the Sorcerer's Stone\\n\\nCHAPTER ONE\\n\\nTHE BOY WHO LIVED\\n\\nMr. and Mrs. Dursley, of number four, Privet Drive, were proud to saythat they were perfectly normal, thank you very much. They were the lastpeople you'd expect to be involved in anything strange or mysterious,because they just didn't hold with such nonsense.\\n\\nMr. Dursley was the director of a firm called Grunnings, which madedrills. He was a big, beefy man with hardly any neck, although he didhave a very large mustache. Mrs. Dursley was thin and blonde and hadnearly twice the usual amount of neck, which came in very useful as shespent so much of her time craning over garden fences, spying on theneighbors. The Dursleys had a small son called Dudley and in theiropinion there was no finer boy anywhere.\\n\\nThe Dursleys had everything they wanted, but they also had a secret, andtheir greatest fear was that somebody would discover it. They didn'tthink they could bear it if anyone found out about the Potters. Mrs.Potter was\"\n",
    "test_ids2 = encode(text2,merges)"
   ]
  },
  {
   "cell_type": "code",
   "execution_count": 23,
   "id": "67b24a97-04fb-4a67-961f-e1c14876afab",
   "metadata": {},
   "outputs": [
    {
     "data": {
      "text/plain": [
       "0.876"
      ]
     },
     "execution_count": 23,
     "metadata": {},
     "output_type": "execute_result"
    }
   ],
   "source": [
    "# 长度也降到了 87%样子\n",
    "len(test_ids2)/len(text2.encode('utf-8'))"
   ]
  },
  {
   "cell_type": "code",
   "execution_count": 24,
   "id": "b357bc28-0024-4fc1-9c3d-1b69d4341ceb",
   "metadata": {},
   "outputs": [
    {
     "data": {
      "text/plain": [
       "True"
      ]
     },
     "execution_count": 24,
     "metadata": {},
     "output_type": "execute_result"
    }
   ],
   "source": [
    "# 且解码和能和原文一致\n",
    "decode(test_ids2,vocab) == text2"
   ]
  },
  {
   "cell_type": "markdown",
   "id": "817d8503-37df-4640-a235-4b6dd1bf0d29",
   "metadata": {},
   "source": [
    "### 4.4 BPE 正式训练\n",
    "用哈利波特1-7部的文本，下载链接：\n",
    "* https://github.com/LouisScorpio/datamining/blob/master/tensorflow-program/nlp/word2vec/dataset/%E5%93%88%E5%88%A9%E6%B3%A2%E7%89%B91-7%E8%8B%B1%E6%96%87%E5%8E%9F%E7%89%88.txt"
   ]
  },
  {
   "cell_type": "code",
   "execution_count": 25,
   "id": "cf6e518c-ab96-4355-8817-b9fc726812f8",
   "metadata": {},
   "outputs": [],
   "source": [
    "# 加载语料\n",
    "text_harry = \"\"\n",
    "the_file_path = 'Harry Potter 1-7.txt'\n",
    "with open(the_file_path, \"r\", encoding=\"ansi\") as f:\n",
    "    text_harry = f.read()\n",
    "\n",
    "# 检查发现文本的换行不统一，有些地方仅一次回车有些地方又两次，修改一下统一为两次回车t\n",
    "placeholder = \"##DOUBLE_NEWLINE##\"\n",
    "text_harry = text_harry.replace(\"\\n\\n\", placeholder)\n",
    "# 将所有单个的'\\n'换为'\\n\\n'\n",
    "text_harry = text_harry.replace(\"\\n\", \"\\n\\n\")\n",
    "# 恢复之前placeholder的成对'\\n\\n'\n",
    "text_harry = text_harry.replace(placeholder, \"\\n\\n\")\n",
    "# 再删除文中的一些全角空格\n",
    "text_harry = text_harry.replace(\"\\u3000\", \"\")"
   ]
  },
  {
   "cell_type": "code",
   "execution_count": 26,
   "id": "495bdfd3-bb52-4ed3-a147-f06d2e857fd6",
   "metadata": {},
   "outputs": [
    {
     "name": "stdout",
     "output_type": "stream",
     "text": [
      "merge 1/104: (101, 32) -> 256 (b'e ') had 172289 occurrences\n",
      "merge 2/104: (100, 32) -> 257 (b'd ') had 129879 occurrences\n",
      "merge 3/104: (116, 104) -> 258 (b'th') had 112753 occurrences\n",
      "merge 4/104: (116, 32) -> 259 (b't ') had 100260 occurrences\n",
      "merge 5/104: (105, 110) -> 260 (b'in') had 93785 occurrences\n",
      "merge 6/104: (115, 32) -> 261 (b's ') had 93641 occurrences\n",
      "merge 7/104: (101, 114) -> 262 (b'er') had 74124 occurrences\n",
      "merge 8/104: (44, 32) -> 263 (b', ') had 73924 occurrences\n",
      "merge 9/104: (97, 110) -> 264 (b'an') had 59080 occurrences\n",
      "merge 10/104: (121, 32) -> 265 (b'y ') had 57034 occurrences\n",
      "merge 11/104: (111, 117) -> 266 (b'ou') had 55077 occurrences\n",
      "merge 12/104: (97, 114) -> 267 (b'ar') had 54143 occurrences\n",
      "merge 13/104: (46, 32) -> 268 (b'. ') had 53776 occurrences\n",
      "merge 14/104: (10, 10) -> 269 (b'\\n\\n') had 51693 occurrences\n",
      "merge 15/104: (111, 110) -> 270 (b'on') had 50938 occurrences\n",
      "merge 16/104: (258, 256) -> 271 (b'the ') had 47764 occurrences\n",
      "merge 17/104: (101, 257) -> 272 (b'ed ') had 46897 occurrences\n",
      "merge 18/104: (260, 103) -> 273 (b'ing') had 46588 occurrences\n",
      "merge 19/104: (111, 32) -> 274 (b'o ') had 43601 occurrences\n",
      "merge 20/104: (111, 114) -> 275 (b'or') had 39805 occurrences\n",
      "merge 21/104: (273, 32) -> 276 (b'ing ') had 38149 occurrences\n",
      "merge 22/104: (101, 110) -> 277 (b'en') had 37481 occurrences\n",
      "merge 23/104: (116, 274) -> 278 (b'to ') had 30433 occurrences\n",
      "merge 24/104: (32, 115) -> 279 (b' s') had 29826 occurrences\n",
      "merge 25/104: (108, 108) -> 280 (b'll') had 29670 occurrences\n",
      "merge 26/104: (104, 105) -> 281 (b'hi') had 28651 occurrences\n",
      "merge 27/104: (104, 97) -> 282 (b'ha') had 28559 occurrences\n",
      "merge 28/104: (264, 257) -> 283 (b'and ') had 27650 occurrences\n",
      "merge 29/104: (32, 32) -> 284 (b'  ') had 27496 occurrences\n",
      "merge 30/104: (102, 32) -> 285 (b'f ') had 27142 occurrences\n",
      "merge 31/104: (101, 97) -> 286 (b'ea') had 24001 occurrences\n",
      "merge 32/104: (119, 97) -> 287 (b'wa') had 23833 occurrences\n",
      "merge 33/104: (104, 256) -> 288 (b'he ') had 23331 occurrences\n",
      "merge 34/104: (262, 32) -> 289 (b'er ') had 22135 occurrences\n",
      "merge 35/104: (115, 116) -> 290 (b'st') had 22011 occurrences\n",
      "merge 36/104: (111, 119) -> 291 (b'ow') had 20687 occurrences\n",
      "merge 37/104: (111, 285) -> 292 (b'of ') had 20524 occurrences\n",
      "merge 38/104: (267, 114) -> 293 (b'arr') had 19524 occurrences\n",
      "merge 39/104: (97, 105) -> 294 (b'ai') had 18887 occurrences\n",
      "merge 40/104: (108, 101) -> 295 (b'le') had 18623 occurrences\n",
      "merge 41/104: (97, 32) -> 296 (b'a ') had 18547 occurrences\n",
      "merge 42/104: (72, 293) -> 297 (b'Harr') had 18187 occurrences\n",
      "merge 43/104: (97, 259) -> 298 (b'at ') had 18099 occurrences\n",
      "merge 44/104: (111, 111) -> 299 (b'oo') had 17295 occurrences\n",
      "merge 45/104: (114, 101) -> 300 (b're') had 16406 occurrences\n",
      "merge 46/104: (103, 104) -> 301 (b'gh') had 15845 occurrences\n",
      "merge 47/104: (114, 105) -> 302 (b'ri') had 15580 occurrences\n",
      "merge 48/104: (46, 269) -> 303 (b'.\\n\\n') had 15409 occurrences\n",
      "merge 49/104: (109, 32) -> 304 (b'm ') had 15266 occurrences\n",
      "merge 50/104: (99, 104) -> 305 (b'ch') had 15214 occurrences\n",
      "merge 51/104: (287, 261) -> 306 (b'was ') had 15173 occurrences\n",
      "merge 52/104: (260, 32) -> 307 (b'in ') had 14738 occurrences\n",
      "merge 53/104: (270, 32) -> 308 (b'on ') had 14412 occurrences\n",
      "merge 54/104: (121, 266) -> 309 (b'you') had 14262 occurrences\n",
      "merge 55/104: (281, 261) -> 310 (b'his ') had 14105 occurrences\n",
      "merge 56/104: (105, 116) -> 311 (b'it') had 13814 occurrences\n",
      "merge 57/104: (226, 128) -> 312 (b'\\xe2\\x80') had 13606 occurrences\n",
      "merge 58/104: (114, 111) -> 313 (b'ro') had 13413 occurrences\n",
      "merge 59/104: (107, 32) -> 314 (b'k ') had 13191 occurrences\n",
      "merge 60/104: (98, 101) -> 315 (b'be') had 13177 occurrences\n",
      "merge 61/104: (280, 32) -> 316 (b'll ') had 13148 occurrences\n",
      "merge 62/104: (97, 99) -> 317 (b'ac') had 13019 occurrences\n",
      "merge 63/104: (294, 257) -> 318 (b'aid ') had 12910 occurrences\n",
      "merge 64/104: (258, 101) -> 319 (b'the') had 12802 occurrences\n",
      "merge 65/104: (277, 32) -> 320 (b'en ') had 12798 occurrences\n",
      "merge 66/104: (39, 261) -> 321 (b\"'s \") had 12083 occurrences\n",
      "merge 67/104: (115, 101) -> 322 (b'se') had 11964 occurrences\n",
      "merge 68/104: (97, 116) -> 323 (b'at') had 11842 occurrences\n",
      "merge 69/104: (297, 265) -> 324 (b'Harry ') had 11574 occurrences\n",
      "merge 70/104: (119, 105) -> 325 (b'wi') had 11573 occurrences\n",
      "merge 71/104: (108, 105) -> 326 (b'li') had 11313 occurrences\n",
      "merge 72/104: (279, 318) -> 327 (b' said ') had 11025 occurrences\n",
      "merge 73/104: (108, 265) -> 328 (b'ly ') had 10906 occurrences\n",
      "merge 74/104: (275, 32) -> 329 (b'or ') had 10876 occurrences\n",
      "merge 75/104: (97, 103) -> 330 (b'ag') had 10740 occurrences\n",
      "merge 76/104: (115, 259) -> 331 (b'st ') had 10047 occurrences\n",
      "merge 77/104: (118, 256) -> 332 (b've ') had 10013 occurrences\n",
      "merge 78/104: (282, 257) -> 333 (b'had ') had 9955 occurrences\n",
      "merge 79/104: (117, 114) -> 334 (b'ur') had 9806 occurrences\n",
      "merge 80/104: (101, 100) -> 335 (b'ed') had 9791 occurrences\n",
      "merge 81/104: (111, 109) -> 336 (b'om') had 9655 occurrences\n",
      "merge 82/104: (109, 105) -> 337 (b'mi') had 9418 occurrences\n",
      "merge 83/104: (73, 32) -> 338 (b'I ') had 9285 occurrences\n",
      "merge 84/104: (121, 263) -> 339 (b'y, ') had 9256 occurrences\n",
      "merge 85/104: (101, 115) -> 340 (b'es') had 9075 occurrences\n",
      "merge 86/104: (97, 108) -> 341 (b'al') had 9044 occurrences\n",
      "merge 87/104: (262, 256) -> 342 (b'ere ') had 9015 occurrences\n",
      "merge 88/104: (117, 110) -> 343 (b'un') had 8980 occurrences\n",
      "merge 89/104: (258, 32) -> 344 (b'th ') had 8936 occurrences\n",
      "merge 90/104: (284, 284) -> 345 (b'    ') had 8797 occurrences\n",
      "merge 91/104: (258, 298) -> 346 (b'that ') had 8765 occurrences\n",
      "merge 92/104: (101, 263) -> 347 (b'e, ') had 8662 occurrences\n",
      "merge 93/104: (110, 111) -> 348 (b'no') had 8611 occurrences\n",
      "merge 94/104: (105, 259) -> 349 (b'it ') had 8568 occurrences\n",
      "merge 95/104: (108, 257) -> 350 (b'ld ') had 8493 occurrences\n",
      "merge 96/104: (105, 99) -> 351 (b'ic') had 8461 occurrences\n",
      "merge 97/104: (104, 101) -> 352 (b'he') had 8361 occurrences\n",
      "merge 98/104: (108, 256) -> 353 (b'le ') had 8322 occurrences\n",
      "merge 99/104: (117, 112) -> 354 (b'up') had 8042 occurrences\n",
      "merge 100/104: (105, 114) -> 355 (b'ir') had 7778 occurrences\n",
      "merge 101/104: (309, 32) -> 356 (b'you ') had 7693 occurrences\n",
      "merge 102/104: (119, 104) -> 357 (b'wh') had 7640 occurrences\n",
      "merge 103/104: (270, 256) -> 358 (b'one ') had 7625 occurrences\n",
      "merge 104/104: (34, 32) -> 359 (b'\" ') had 7618 occurrences\n"
     ]
    }
   ],
   "source": [
    "# 超参\n",
    "vocab_size = 360\n",
    "\n",
    "# 训练文本准备z\n",
    "train_text = text_harry\n",
    "text_bytes = train_text.encode(\"utf-8\") # raw bytes\n",
    "\n",
    "# 训练对象（词汇表、转化表）\n",
    "# # 基本的ASCII码要保留，如果有对于其他字符集如汉字，则也需要保留所有单汉字。避免未来 GPT 处理输入不认识\n",
    "vocab = {idx: bytes([idx]) for idx in range(256)} # int -> bytes\n",
    "merges = {} # (int, int) -> int\n",
    "\n",
    "# 序列准备\n",
    "ids = list(text_bytes) # list of integers in range 0..255\n",
    "# 目标 merge 的次数\n",
    "num_merges = vocab_size - 256\n",
    "for i in range(num_merges):\n",
    "    # 获取当前 pair 信息\n",
    "    stats = get_stats(ids)\n",
    "    # 找出现次数最多的 pair\n",
    "    pair = max(stats, key=stats.get)\n",
    "    # 给其一个新 id\n",
    "    idx = 256 + i\n",
    "    # 替换\n",
    "    ids = merge(ids, pair, idx)\n",
    "    # 将替换信息加入 merges\n",
    "    merges[pair] = idx\n",
    "    # 记录新的 idx 对应的原始串\n",
    "    vocab[idx] = vocab[pair[0]] + vocab[pair[1]]\n",
    "    # prints\n",
    "    print(f\"merge {i+1}/{num_merges}: {pair} -> {idx} ({vocab[idx]}) had {stats[pair]} occurrences\")"
   ]
  },
  {
   "cell_type": "markdown",
   "id": "1763a5fe-42cf-489d-80fe-965d3de8742a",
   "metadata": {},
   "source": [
    "### 4.5 检查压缩情况"
   ]
  },
  {
   "cell_type": "code",
   "execution_count": 27,
   "id": "feab5de0-7e7c-488c-a26c-fc75620c9eb5",
   "metadata": {},
   "outputs": [],
   "source": [
    "test_ids_harry = encode(text_harry,merges)"
   ]
  },
  {
   "cell_type": "code",
   "execution_count": 33,
   "id": "df4c37c3-ee50-474b-8af1-09b008f3a6ef",
   "metadata": {},
   "outputs": [
    {
     "data": {
      "text/plain": [
       "0.5762402764853447"
      ]
     },
     "execution_count": 33,
     "metadata": {},
     "output_type": "execute_result"
    }
   ],
   "source": [
    "# 检查一下压缩率\n",
    "len(test_ids_harry)/len(text_harry.encode('utf-8'))"
   ]
  },
  {
   "cell_type": "markdown",
   "id": "5388332d-77d5-4290-9600-f6b8c0986e48",
   "metadata": {},
   "source": [
    "注：仅通过100次替换，就压缩到了57%，效果还是挺不错的"
   ]
  },
  {
   "cell_type": "code",
   "execution_count": 29,
   "id": "e59fe200-1ed0-44c6-b8d6-4da978a00123",
   "metadata": {},
   "outputs": [
    {
     "data": {
      "text/plain": [
       "360"
      ]
     },
     "execution_count": 29,
     "metadata": {},
     "output_type": "execute_result"
    }
   ],
   "source": [
    "len(vocab)"
   ]
  },
  {
   "cell_type": "markdown",
   "id": "6dd91b76-d71d-4908-8315-a14313d2368d",
   "metadata": {},
   "source": [
    "### 4.6 保存训练结果\n",
    "json形式写入文件"
   ]
  },
  {
   "cell_type": "code",
   "execution_count": 30,
   "id": "91b3a566-331e-4da6-b0f3-7855252ad20e",
   "metadata": {},
   "outputs": [],
   "source": [
    "import pickle\n",
    "\n",
    "bpe_data = {'merges':merges,'vocab':vocab}\n",
    "\n",
    "# 使用 pickle 保存字典\n",
    "with open(\"bpe_data.pkl\", \"wb\") as file:\n",
    "    pickle.dump(bpe_data, file)\n"
   ]
  }
 ],
 "metadata": {
  "kernelspec": {
   "display_name": "py310 for torch",
   "language": "python",
   "name": "torch"
  },
  "language_info": {
   "codemirror_mode": {
    "name": "ipython",
    "version": 3
   },
   "file_extension": ".py",
   "mimetype": "text/x-python",
   "name": "python",
   "nbconvert_exporter": "python",
   "pygments_lexer": "ipython3",
   "version": "3.10.14"
  }
 },
 "nbformat": 4,
 "nbformat_minor": 5
}
