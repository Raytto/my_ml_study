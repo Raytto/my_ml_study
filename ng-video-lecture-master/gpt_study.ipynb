{
 "cells": [
  {
   "cell_type": "code",
   "execution_count": 1,
   "id": "531143d9-2429-484b-ad32-ecbdbcdc60cf",
   "metadata": {},
   "outputs": [],
   "source": [
    "import torch\n",
    "import torch.nn as nn\n",
    "from torch.nn import functional as F"
   ]
  },
  {
   "cell_type": "markdown",
   "id": "8be0acd7-4e16-425c-afe7-de7dee23f91d",
   "metadata": {},
   "source": [
    "## 1. 超参设置"
   ]
  },
  {
   "cell_type": "code",
   "execution_count": 2,
   "id": "93727bdb-ba2d-4a2f-9620-051f3992ece0",
   "metadata": {},
   "outputs": [
    {
     "data": {
      "text/plain": [
       "<torch._C.Generator at 0x263a6eddc30>"
      ]
     },
     "execution_count": 2,
     "metadata": {},
     "output_type": "execute_result"
    }
   ],
   "source": [
    "# 各种超参，可以之后用到了再反过来看\n",
    "batch_size = 64  # 训练时的并行度\n",
    "block_size = 256  # 每次基于多长的上下文去预测\n",
    "max_iters = 5000  # 训练次数\n",
    "eval_interval = 500  # 每过多少次进行一次损失评估\n",
    "learning_rate = 3e-4  # 学习率,transformer的学习率不能太高\n",
    "device = (\n",
    "    \"cuda\" if torch.cuda.is_available() else \"cpu\"\n",
    ")  # 使用设备最好有cuda,我用的3070ti这个参数规模要训练大概20分钟\n",
    "eval_iters = 200  # 每次评估用多少批数据\n",
    "n_embd = 384  # 每层attention将上下文转化成的向量size的总量(每个注意力头会均分)\n",
    "n_head = 6  # attention head 数量\n",
    "n_layer = 6  # 多少层 attention\n",
    "dropout = 0.2  #\n",
    "# ------------\n",
    "torch.manual_seed(1337)"
   ]
  },
  {
   "cell_type": "markdown",
   "id": "d56a941a-a26c-45e2-a471-60f61ebe7233",
   "metadata": {},
   "source": [
    "## 2. 准备学习数据"
   ]
  },
  {
   "cell_type": "markdown",
   "id": "20f6342f-c934-4dbf-b401-dd410bf2272d",
   "metadata": {},
   "source": [
    "### 2.1 语料准备\n",
    "我这里用的哈利波特前4部，下载链接：\n",
    "1. https://github.com/amephraim/nlp/blob/master/texts/J.%20K.%20Rowling%20-%20Harry%20Potter%201%20-%20Sorcerer's%20Stone.txt  \n",
    "2. https://github.com/amephraim/nlp/blob/master/texts/J.%20K.%20Rowling%20-%20Harry%20Potter%202%20-%20The%20Chamber%20Of%20Secrets.txt\n",
    "3. https://github.com/amephraim/nlp/blob/master/texts/J.%20K.%20Rowling%20-%20Harry%20Potter%203%20-%20Prisoner%20of%20Azkaban.txt\n",
    "4. https://github.com/amephraim/nlp/blob/master/texts/J.%20K.%20Rowling%20-%20Harry%20Potter%204%20-%20The%20Goblet%20of%20Fire.txt  \n",
    "\n",
    "Andrej 教程用的是莎士比亚文集，没有本质区别，根据喜好选择即可\n",
    "1. https://raw.githubusercontent.com/karpathy/char-rnn/master/data/tinyshakespeare/input.txt\n",
    "\n",
    "下载到python同目录，改一下名字即可（'Harry Potter 1.txt','Harry Potter 2.txt','Harry Potter 3.txt','Harry Potter 4.txt'）"
   ]
  },
  {
   "cell_type": "code",
   "execution_count": 5,
   "id": "3a9bcecf-89f6-48a9-8409-99becdcf926c",
   "metadata": {},
   "outputs": [],
   "source": [
    "# 加载语料\n",
    "text = \"\"\n",
    "for the_file_path in [\n",
    "    \"Harry Potter 1.txt\",\n",
    "    \"Harry Potter 2.txt\",\n",
    "    \"Harry Potter 3.txt\",\n",
    "    \"Harry Potter 4.txt\",\n",
    "]:\n",
    "    with open(the_file_path, \"r\", encoding=\"latin-1\") as f:\n",
    "        tmp_text = f.read()\n",
    "    text = text + tmp_text"
   ]
  },
  {
   "cell_type": "code",
   "execution_count": 6,
   "id": "a9bdc683-bbac-4113-af77-cf5aed752f77",
   "metadata": {},
   "outputs": [],
   "source": [
    "# 检查github的哈利波特文本发现其有很多不必要的换行为，剔除，避免学习时误导模型但双换行的地方都是需要保留的\n",
    "placeholder = \"##DOUBLE_NEWLINE##\"\n",
    "text = text.replace(\"\\n\\n\", placeholder)\n",
    "# 移除所有单个的'\\n'\n",
    "text = text.replace(\"\\n\", \"\")\n",
    "# 恢复之前placeholder的成对'\\n\\n'\n",
    "text = text.replace(placeholder, \"\\n\\n\")"
   ]
  },
  {
   "cell_type": "code",
   "execution_count": 4,
   "id": "bbac6456-2e9d-4422-b456-146f301b336d",
   "metadata": {},
   "outputs": [
    {
     "data": {
      "text/plain": [
       "2629933"
      ]
     },
     "execution_count": 4,
     "metadata": {},
     "output_type": "execute_result"
    }
   ],
   "source": [
    "len(text)"
   ]
  },
  {
   "cell_type": "code",
   "execution_count": 28,
   "id": "76f8338c-f617-471b-87d5-074ab923f7f4",
   "metadata": {},
   "outputs": [
    {
     "data": {
      "text/plain": [
       "\"Harry Potter and the Sorcerer's Stone\\n\\nCHAPTER ONE\\n\\nTHE BOY WHO LIVED\\n\\nMr. and Mrs. Dursley, of number four, Privet Drive, were proud to saythat they were perfectly normal, thank you very much. They were the lastpeople you'd expect to be involved in anything strange or mysterious,because they just didn't hold with such nonsense.\\n\\nMr. Dursley was the director of a firm called Grunnings, which madedrills. He was a big, beefy man with hardly any neck, although he didhave a very large mustache. Mrs. Dursley was thin and blonde and hadnearly twice the usual amount of neck, which came in very useful as shespent so much of her time craning over garden fences, spying on theneighbors. The Dursleys had a small son called Dudley and in theiropinion there was no finer boy anywhere.\\n\\nThe Dursleys had everything they wanted, but they also had a secret, andtheir greatest fear was that somebody would discover it. They didn'tthink they could bear it if anyone found out about the Potters. Mrs.Potter was\""
      ]
     },
     "execution_count": 28,
     "metadata": {},
     "output_type": "execute_result"
    }
   ],
   "source": [
    "# 检查一下头1000字符j\n",
    "text[:1000]"
   ]
  },
  {
   "cell_type": "code",
   "execution_count": 31,
   "id": "dbc8e3f2-235a-4292-bf9e-e875226afddb",
   "metadata": {},
   "outputs": [
    {
     "data": {
      "text/plain": [
       "'do me one favor, okay?  Buy Ron some different dress robes and say they\\'re from you.\"He left the compartment before they could say another word, stepping over Malfoy, Crabbe, and Goyle, who were still lying on the floor, covered in hex marks.\\n\\nUncle Vernon was waiting beyond the barrier.  Mrs. Weasley was close by him.  She hugged Harry very tightly when she saw him and whispered in his ear, \"I think Dumbledore will let you come to us later in the summer.  Keep in touch, Harry.\"\"See you. Harry,\" said Ron, clapping him on the back.\"\\'Bye, Harry!\"  said Hermione, and she did something she had never done before, and kissed him on the cheek.\"Harry - thanks,\" George muttered, while Fred nodded fervently at his side.Harry winked at them, turned to Uncle Vernon, and followed him silently from the station.  There was no point worrying yet, he told himself, as he got into the back of the Dursleys\\' car.As Hagrid had said, what would come, would come ... and he would have to meet it when it did.\\n\\n'"
      ]
     },
     "execution_count": 31,
     "metadata": {},
     "output_type": "execute_result"
    }
   ],
   "source": [
    "# 检查一下后1000字符\n",
    "text[-1000:]"
   ]
  },
  {
   "cell_type": "markdown",
   "id": "478c820f-27ff-406b-bbb4-ffac00957496",
   "metadata": {},
   "source": [
    "### 2.2. 语料编码\n",
    "用最简单的方式将各个单字符映射成int  \n",
    "注：ChatGPT 用的是一个专门的 subword 级别的 embeding 方法（需要单独训练模型得到），以后再考虑  "
   ]
  },
  {
   "cell_type": "code",
   "execution_count": 7,
   "id": "e7aeaa56-bcdf-4783-829b-cbd920ad5ff8",
   "metadata": {},
   "outputs": [
    {
     "name": "stdout",
     "output_type": "stream",
     "text": [
      "\t\n",
      " !\"$%&'()*,-./0123456789:;=?ABCDEFGHIJKLMNOPQRSTUVWXYZ\\]^_`abcdefghijklmnopqrstuvwxyz}~ü\n"
     ]
    }
   ],
   "source": [
    "# 获取语料中所有字符\n",
    "chars = sorted(list(set(text)))\n",
    "print(\"\".join(chars))"
   ]
  },
  {
   "cell_type": "code",
   "execution_count": 9,
   "id": "7fc78054-766e-497c-807c-8e1a06472a27",
   "metadata": {},
   "outputs": [
    {
     "data": {
      "text/plain": [
       "91"
      ]
     },
     "execution_count": 9,
     "metadata": {},
     "output_type": "execute_result"
    }
   ],
   "source": [
    "vocab_size = len(chars)\n",
    "vocab_size"
   ]
  },
  {
   "cell_type": "code",
   "execution_count": null,
   "id": "69867996-d6c4-455f-b401-4e3a98e3786c",
   "metadata": {},
   "outputs": [],
   "source": [
    "# 直接给编码映射关系\n",
    "stoi = {ch: i for i, ch in enumerate(chars)}\n",
    "itos = {i: ch for i, ch in enumerate(chars)}\n",
    "# 建立编码和解码函数\n",
    "encode = lambda s: [stoi[c] for c in s]\n",
    "decode = lambda l: \"\".join([itos[i] for i in l])"
   ]
  },
  {
   "cell_type": "code",
   "execution_count": 32,
   "id": "920090c9-a0f8-4436-ba43-f6e939afff43",
   "metadata": {},
   "outputs": [
    {
     "data": {
      "text/plain": [
       "[68, 65, 72, 72, 75]"
      ]
     },
     "execution_count": 32,
     "metadata": {},
     "output_type": "execute_result"
    }
   ],
   "source": [
    "# 试用一下\n",
    "encode(\"hello\")"
   ]
  },
  {
   "cell_type": "code",
   "execution_count": 33,
   "id": "cb4f4636-c88a-49e2-9505-a5ad437c0882",
   "metadata": {},
   "outputs": [
    {
     "data": {
      "text/plain": [
       "'hello'"
      ]
     },
     "execution_count": 33,
     "metadata": {},
     "output_type": "execute_result"
    }
   ],
   "source": [
    "# 试用一下\n",
    "decode([68, 65, 72, 72, 75])"
   ]
  },
  {
   "cell_type": "markdown",
   "id": "de87607a-e254-4a4d-a4ba-ba0b539dc1ac",
   "metadata": {},
   "source": [
    "### 2.3 训练集验证集切割"
   ]
  },
  {
   "cell_type": "code",
   "execution_count": 7,
   "id": "e0b8de3a-6659-494a-8787-d3ed2faac50a",
   "metadata": {},
   "outputs": [],
   "source": [
    "data = torch.tensor(encode(text), dtype=torch.long)\n",
    "## 分割一下，90%作为训练集，10%用于验证集\n",
    "n = int(0.9 * len(data))\n",
    "train_data = data[:n]\n",
    "val_data = data[n:]"
   ]
  },
  {
   "cell_type": "markdown",
   "id": "cc350890-57e8-4f00-b5be-536340506ca1",
   "metadata": {},
   "source": [
    "### 2.4 随机获取数据函数\n",
    "方便后续随机梯度下降训练和验证时拿数据"
   ]
  },
  {
   "cell_type": "code",
   "execution_count": null,
   "id": "3aca3979-09f4-4202-83c4-c855f0db932f",
   "metadata": {},
   "outputs": [],
   "source": [
    "def get_batch(split):\n",
    "    # 区分训练集和测试集\n",
    "    data = train_data if split == \"train\" else val_data\n",
    "    # 随机batch_size个序列起始index\n",
    "    ix = torch.randint(len(data) - block_size, (batch_size,))\n",
    "    # 根据起始位置选出batch_size个block_size长的序列\n",
    "    x = torch.stack([data[i : i + block_size] for i in ix])\n",
    "    # 往后偏移一位作为y\n",
    "    y = torch.stack([data[i + 1 : i + block_size + 1] for i in ix])\n",
    "    # 数据存在CPU或者GPU上\n",
    "    x, y = x.to(device), y.to(device)\n",
    "    return x, y"
   ]
  },
  {
   "cell_type": "markdown",
   "id": "c73f35fe-c471-4652-b84f-788a0bc7c50f",
   "metadata": {},
   "source": [
    "## 3. 搭建简易GPT模型"
   ]
  },
  {
   "cell_type": "markdown",
   "id": "067fe3f5-3689-4690-96c4-e3ca92c3acad",
   "metadata": {},
   "source": [
    "### 3.1 损失估计函数\n",
    "用于训练中阶段性监测训练情况的损失估计函数  \n",
    "注1：由于是抽样估计，所以仅是估计函数，而非针对 训练集/验证集 的准确损失函数  \n",
    "注2：由于是用于估计损失，所以没比较浪费算力计算梯度，为此可以加一个 @torch.no_grad()"
   ]
  },
  {
   "cell_type": "code",
   "execution_count": null,
   "id": "140b8880-0f82-4ab9-b11c-331014d28833",
   "metadata": {},
   "outputs": [],
   "source": [
    "@torch.no_grad()\n",
    "def estimate_loss():\n",
    "    out = {}\n",
    "    # 设置模型为评估模式，通过设置为评估模式，可以确保模型在验证或测试时的行为与训练时保持一致，但去除了训练特有的随机性，从而使评估更加稳定和一致。\n",
    "    # 而训练模式下有些层，如Dropout和Batch Normalization会随时对模型本身进行修改\n",
    "    model.eval()\n",
    "    for split in [\"train\", \"val\"]:\n",
    "        losses = torch.zeros(eval_iters)\n",
    "        for k in range(eval_iters):\n",
    "            X, Y = get_batch(split)\n",
    "            # 进行一次预测，model会调用模型的forward()函数\n",
    "            logits, loss = model(X, Y)\n",
    "            # F.cross_entropy() 得到的结果对象还包含很多其他操作和信息，想获得具体的交叉熵的值需要用 loss.item()\n",
    "            losses[k] = loss.item()\n",
    "        # 多次抽样取平均，使评估更加准确\n",
    "        out[split] = losses.mean()\n",
    "    # 回到训练模式\n",
    "    model.train()\n",
    "    return out"
   ]
  },
  {
   "cell_type": "markdown",
   "id": "de1fe887-7643-4a08-9009-b6e78beb2fa3",
   "metadata": {},
   "source": [
    "### 3.2 单头注意力机制"
   ]
  },
  {
   "cell_type": "code",
   "execution_count": null,
   "id": "3efeee91-2353-4eea-9b61-fd9032512419",
   "metadata": {},
   "outputs": [],
   "source": [
    "class Head(nn.Module):\n",
    "\n",
    "    def __init__(self, head_size):\n",
    "        super().__init__()\n",
    "        # 每个头需要一个 key 矩阵，作用到输入上以后提取输入的特征信息\n",
    "        self.key = nn.Linear(n_embd, head_size, bias=False)\n",
    "        # 每个头需要一个 query 矩阵，作用到输入上以后提取想问的问题\n",
    "        self.query = nn.Linear(n_embd, head_size, bias=False)\n",
    "        # 额外再加一个value矩阵直接对输入进行作用，获得输入想提供的信息\n",
    "        self.value = nn.Linear(n_embd, head_size, bias=False)\n",
    "        # 用一个下三角矩阵，方便后续mask注意力权重矩阵(使每个位置仅注意前面的token)\n",
    "        # 由于它不作为模型的权重参数，不参与训练，所以需要记为 register_buffer ，避免在训练中变化\n",
    "        self.register_buffer(\"tril\", torch.tril(torch.ones(block_size, block_size)))\n",
    "        # 根据<Dropout: A Simple Way to Prevent Neural Networks from Overfitting>\n",
    "        # 训练中随机丢弃一些节点，更可能避免过拟合，也避免模型过于依赖部分节点\n",
    "        # torch 会在推理阶段禁用 dropout 层\n",
    "        # 为了推理阶段和训练阶段权重求和的期望一致，所以在dropout的同时会基于dropout率对结果进行缩放\n",
    "        self.dropout = nn.Dropout(dropout)\n",
    "\n",
    "    def forward(self, x):\n",
    "        # 一次向前传播\n",
    "        # input of size (batch, time-step, channels)\n",
    "        # output of size (batch, time-step, head size)\n",
    "        B, T, C = x.shape\n",
    "        # 每个头需要一个 key 矩阵，作用到x上以后提取x的特征信息\n",
    "        k = self.key(x)  # (B,T,hs)\n",
    "        # 每个头需要一个 query 矩阵，作用到x上以后提取想问的问题\n",
    "        q = self.query(x)  # (B,T,hs)\n",
    "        # compute attention scores (\"affinities\")\n",
    "        # 让 k和q进行内积，获得key和query到底有多么匹配(用内积的方式计算匹配度)越匹配越值得被注意\n",
    "        # 为了求内积，需要转置一下后两维 (B,T,hs) @ (B,hs,T) --> (B,T,T)\n",
    "        # 注：忽略B以后，k 和 q 都是由T个行向量组成的矩阵，内积有T*T组，对应T*T结果\n",
    "        # 这个 wei 表征每个位置会多么关心其他各个位置的信息\n",
    "        wei = (\n",
    "            q @ k.transpose(-2, -1) * k.shape[-1] ** -0.5\n",
    "        )  # (B, T, hs) @ (B, hs, T) -> (B, T, T)\n",
    "        # 使每个位置仅注意前面的token，后面信息对前面的位置的贡献置为0（softmax(-inf)==0）\n",
    "        wei = wei.masked_fill(self.tril[:T, :T] == 0, float(\"-inf\"))  # (B, T, T)\n",
    "        wei = F.softmax(wei, dim=-1)  # (B, T, T)\n",
    "        # 向前传播时也随机丢掉一些节点\n",
    "        # 注：当使用 model.eval() 时，PyTorch 会自动禁用 Dropout\n",
    "        wei = self.dropout(wei)\n",
    "        # 计算每个位置愿意提供的信息\n",
    "        v = self.value(x)  # (B,T,hs)\n",
    "        # 注意力系数乘以前面各个位置愿意提供的信息，得到每个位置注意到的前面信息\n",
    "        out = wei @ v  # (B, T, T) @ (B, T, hs) -> (B, T, hs)\n",
    "        return out"
   ]
  },
  {
   "cell_type": "markdown",
   "id": "d0650655-71a6-4826-9306-9b33dd698b7a",
   "metadata": {},
   "source": [
    "### 3.2 多头注意力机制\n",
    "并行应用多个单头注意力机制，再把各个头的注意到的信息进行一次交换(通过proj线性层映射)"
   ]
  },
  {
   "cell_type": "code",
   "execution_count": null,
   "id": "f0c1f849-f31e-4322-ab54-a0100647d854",
   "metadata": {},
   "outputs": [],
   "source": [
    "class MultiHeadAttention(nn.Module):\n",
    "\n",
    "    def __init__(self, num_heads, head_size):\n",
    "        super().__init__()\n",
    "        # 同时应用多个单头\n",
    "        self.heads = nn.ModuleList([Head(head_size) for _ in range(num_heads)])\n",
    "        # 根据 <Attention Is All Your Need> 要求在注意力结算后，还需要一个线性层进行各个头之间的信息交换\n",
    "        self.proj = nn.Linear(head_size * num_heads, n_embd)\n",
    "        # 这里同样在训练中随机丢弃一部分节点\n",
    "        self.dropout = nn.Dropout(dropout)\n",
    "\n",
    "    def forward(self, x):\n",
    "        # 各自计算各个头的注意结果(彼此相互没有信息交换)， 吧各自注意到的结果拼接在一起\n",
    "        out = torch.cat([h(x) for h in self.heads], dim=-1)\n",
    "        # 把各个注意头的结果经由 proj 矩阵进行交流\n",
    "        out = self.dropout(self.proj(out))\n",
    "        return out"
   ]
  },
  {
   "cell_type": "markdown",
   "id": "e4260e5d-1d13-412d-a8b1-671b24008808",
   "metadata": {},
   "source": [
    "### 3.3 前馈神经网络\n",
    "需要有非线性层(避免模型等同于一个矩阵、或梯度消失问题)  \n",
    "选择方式是将特征空间变大，以提取更多信息，ReLU后，再映射回原特征空间（保持稳定的特征维度，方便layer堆叠）"
   ]
  },
  {
   "cell_type": "code",
   "execution_count": null,
   "id": "e71262f3-ee6f-4598-99fc-37781123d09d",
   "metadata": {},
   "outputs": [],
   "source": [
    "class FeedFoward(nn.Module):\n",
    "\n",
    "    def __init__(self, n_embd):\n",
    "        super().__init__()\n",
    "        self.net = nn.Sequential(\n",
    "            # 映射到高维特征空间\n",
    "            nn.Linear(n_embd, 4 * n_embd),\n",
    "            nn.ReLU(),\n",
    "            # 映射回去\n",
    "            nn.Linear(4 * n_embd, n_embd),\n",
    "            nn.Dropout(dropout),\n",
    "        )\n",
    "\n",
    "    def forward(self, x):\n",
    "        return self.net(x)"
   ]
  },
  {
   "cell_type": "markdown",
   "id": "b77fc66a-1815-4f13-888e-59e6e635516d",
   "metadata": {},
   "source": [
    "### 3.4 完整 Transformer 块\n",
    "包含以下组件\n",
    "1. 多头自注意力层（Multi-Head Attention）：用于从输入中提取相关性，捕捉全局的信息。\n",
    "2. 残差连接和层归一化（Residual Connection + Layer Normalization）：多头注意力层的输出加上输入，然后进行归一化。残差连接帮助梯度流动，避免梯度消失。\n",
    "3. 前馈神经网络（Feed Forward Network, FFN）：包含两个线性层和一个 ReLU 激活函数，用于在每个位置上对特征进行非线性变换。前馈网络的作用是增加模型的非线性能力。\n",
    "4. 残差连接和层归一化（Residual Connection + Layer Normalization）：前馈网络的输出加上多头注意力的输出，然后再次进行归一化。"
   ]
  },
  {
   "cell_type": "code",
   "execution_count": null,
   "id": "0a9fb616-a6f3-419e-8a84-cff1d4655297",
   "metadata": {},
   "outputs": [],
   "source": [
    "class Block(nn.Module):\n",
    "\n",
    "    def __init__(self, n_embd, n_head):\n",
    "        super().__init__()\n",
    "        # 每个头平均分特征嵌入的维度，以保证拼接起来刚好是嵌入的维度\n",
    "        head_size = n_embd // n_head\n",
    "        # 前面定义好的多头注意力机制\n",
    "        self.sa = MultiHeadAttention(n_head, head_size)\n",
    "        # 前面定义好的前馈神经网络\n",
    "        self.ffwd = FeedFoward(n_embd)\n",
    "        # 归一化后再对每个元素进行缩放和偏置的层(缩放和偏置的权重可学习)\n",
    "        self.ln1 = nn.LayerNorm(n_embd)\n",
    "        # 归一化后再对每个元素进行缩放和偏置的层(缩放和偏置的权重可学习)\n",
    "        self.ln2 = nn.LayerNorm(n_embd)\n",
    "\n",
    "    def forward(self, x):\n",
    "        # 之所以将输入直接加回输出，是为了保证信息流更顺畅，减轻梯度消失或梯度爆炸问题，提高训练效率。\n",
    "        # 或理解为保留一条“高速公路”使梯度能更好地传导。\n",
    "        # 见论文<Deep Residual Learning for Image Recognition>\n",
    "        # 但由于用了加法为避免特征规模越来越大所以需要归一化\n",
    "        # 首先对输入 x 进行层归一化，然后经过多头自注意力层（sa），再与输入 x 相加，形成残差连接\n",
    "        x = x + self.sa(self.ln1(x))\n",
    "        # 再次对输入进行层归一化，经过前馈神经网络（ffwd），再与输入相加，形成第二次残差连接\n",
    "        x = x + self.ffwd(self.ln2(x))\n",
    "        return x"
   ]
  },
  {
   "cell_type": "markdown",
   "id": "00923f97-98b6-4ea3-b292-35d81ad19122",
   "metadata": {},
   "source": [
    "### 3.5 完整的简易 GPT 模型"
   ]
  },
  {
   "cell_type": "code",
   "execution_count": null,
   "id": "0d60d0f0-5a20-402a-9409-f6544986cdfe",
   "metadata": {},
   "outputs": [],
   "source": [
    "class GPTLanguageModel(nn.Module):\n",
    "\n",
    "    def __init__(self):\n",
    "        super().__init__()\n",
    "         # 每个 token 直接通过查找表读取下一个 token 的 logits\n",
    "        # token 嵌入层，将词汇表中的每个 token 映射到嵌入向量\n",
    "        self.token_embedding_table = nn.Embedding(vocab_size, n_embd)\n",
    "        # 位置嵌入层，用于表示每个 token 在序列中的位置\n",
    "        self.position_embedding_table = nn.Embedding(block_size, n_embd)\n",
    "        # 多层 Transformer 块堆叠\n",
    "        self.blocks = nn.Sequential(\n",
    "            *[Block(n_embd, n_head=n_head) for _ in range(n_layer)]\n",
    "        )\n",
    "        # 最终的层归一化和缩放\n",
    "        self.ln_f = nn.LayerNorm(n_embd) \n",
    "        # 映射回词汇表\n",
    "        self.lm_head = nn.Linear(n_embd, vocab_size)\n",
    "\n",
    "        # 更好的权重初始化，这部分在原始 Andrej GPT 视频中没有提到，但很重要，Andrej 会在后续视频中介绍\n",
    "        self.apply(self._init_weights)\n",
    "\n",
    "    # 根据ChatGPT的解释，这种初始化方案源于实际的实验经验，操作和效果如下：\n",
    "    # 1. 防止梯度消失或爆炸：使用正态分布初始化权重（均值为 0，标准差为 0.02），可以确保初始权重不至于太大或者太小。\n",
    "    # 2. 更快收敛：初始化的标准差为 0.02 是经验上的一个好的选择，尤其是在 Transformer 模型中，这样的权重分布有助于让模型更快地找到收敛路径。\n",
    "    # 3. 偏置为零：对于偏置，使用零初始化（torch.nn.init.zeros_()）是一种简单有效的方式，它能确保初始时每个神经元的输出都是平等的，不存在偏向。\n",
    "    def _init_weights(self, module):\n",
    "        if isinstance(module, nn.Linear):\n",
    "            torch.nn.init.normal_(module.weight, mean=0.0, std=0.02)\n",
    "            if module.bias is not None:\n",
    "                torch.nn.init.zeros_(module.bias)\n",
    "        elif isinstance(module, nn.Embedding):\n",
    "            torch.nn.init.normal_(module.weight, mean=0.0, std=0.02)\n",
    "\n",
    "    # 向前传播x\n",
    "    def forward(self, idx, targets=None):\n",
    "        B, T = idx.shape\n",
    "\n",
    "        # idx 和 targets 都是形状为 (B, T) 的整数张量\n",
    "        # (B, T, C)，词嵌入\n",
    "        tok_emb = self.token_embedding_table(idx) \n",
    "        # (T, C)，位置嵌入\n",
    "        pos_emb = self.position_embedding_table(torch.arange(T, device=device))\n",
    "        # (B, T, C)，将词嵌入和位置嵌入相加,使x同时具有词性和位置信息\n",
    "        # 注：用加比用cat更好：\n",
    "        # 1. 加不影响维度\n",
    "        # 2. cat其实是特殊的矩阵乘再加的操作。所以对比而言矩阵乘再加更灵活\n",
    "        x = tok_emb + pos_emb \n",
    "        # (B, T, C)，通过堆叠的 Transformer 块\n",
    "        x = self.blocks(x) \n",
    "         # (B, T, C)，最终的层归一化\n",
    "        x = self.ln_f(x) \n",
    "        # (B, T, vocab_size)，通过线性层得到下一个 token 的 logits\n",
    "        logits = self.lm_head(x) \n",
    "\n",
    "        # 区分学习和纯推理，纯推理则不需要计算损失函数h\n",
    "        if targets is None:\n",
    "            loss = None\n",
    "        else:\n",
    "            # 再次获取其三维 batch_size*block_size*vocab_size\n",
    "            B, T, C = logits.shape\n",
    "            # 把前两维展开成一维\n",
    "            logits = logits.view(B * T, C)\n",
    "            # 目标值也展开成一维\n",
    "            targets = targets.view(B * T)\n",
    "            # 计算交叉熵以估计预测的概率分布和实际值的差异（cross_entropy支持一个是概率分布，一个是目标值，这种两个类型和维度的输入）\n",
    "            loss = F.cross_entropy(logits, targets)\n",
    "\n",
    "        return logits, loss\n",
    "\n",
    "    # 生成下一个token预测\n",
    "    def generate(self, idx, max_new_tokens):\n",
    "        # idx is (B, T) array of indices in the current context\n",
    "        # 循环生成 max_new_tokens 次\n",
    "        for _ in range(max_new_tokens):\n",
    "            # 将 idx 裁剪为最后 block_size 个 tokens数量不足的话用0填充(0在前面的编码中对应回车)\n",
    "            idx_cond = idx[:, -block_size:]\n",
    "            # 拿到每一位对下一位的预测结果 logits，也对应 batch_size * block_size * vocab_size 的张量\n",
    "            logits, loss = self(idx_cond)\n",
    "            # 其他抛掉，只看最后一位\n",
    "            logits = logits[:, -1, :]  # becomes (B, C)\n",
    "            # 用softmax函数作用（变到[0,1]区间，且和为1），作为预测的各个后继的概率。dim=-1表示沿最后一个维度进行作用\n",
    "            probs = F.softmax(logits, dim=-1)  # (B, C)\n",
    "            # 对每个行，根据概率进行抽样得到序号\n",
    "            idx_next = torch.multinomial(probs, num_samples=1)  # (B, 1)\n",
    "            # 把当前的抽样结果加在序列后面\n",
    "            idx = torch.cat((idx, idx_next), dim=1)  # (B, T+1)\n",
    "        return idx"
   ]
  },
  {
   "cell_type": "markdown",
   "id": "6f1af250-26e7-4efb-89a8-ee7dddd398ec",
   "metadata": {},
   "source": [
    "## 4. 训练模型"
   ]
  },
  {
   "cell_type": "code",
   "execution_count": 8,
   "id": "0ba34711-5a6a-4724-849b-1bd068e6d1d1",
   "metadata": {},
   "outputs": [
    {
     "name": "stdout",
     "output_type": "stream",
     "text": [
      "10.808923 M parameters\n",
      "step 0: train loss 4.5501, val loss 4.5495\n",
      "step 500: train loss 1.7859, val loss 1.7475\n",
      "step 1000: train loss 1.3751, val loss 1.3425\n",
      "step 1500: train loss 1.2467, val loss 1.2330\n",
      "step 2000: train loss 1.1772, val loss 1.1875\n",
      "step 2500: train loss 1.1267, val loss 1.1483\n",
      "step 3000: train loss 1.0933, val loss 1.1293\n",
      "step 3500: train loss 1.0616, val loss 1.1137\n",
      "step 4000: train loss 1.0352, val loss 1.1044\n",
      "step 4500: train loss 1.0091, val loss 1.0926\n",
      "step 4999: train loss 0.9891, val loss 1.0874\n"
     ]
    }
   ],
   "source": [
    "model = GPTLanguageModel()\n",
    "m = model.to(device)\n",
    "# 计算并显示参数总量\n",
    "print(sum(p.numel() for p in m.parameters()) / 1e6, \"M parameters\")\n",
    "\n",
    "# 创建优化器，使用了 AdamW（可以动态调整学习率，提升收敛效率）\n",
    "optimizer = torch.optim.AdamW(model.parameters(), lr=learning_rate)\n",
    "\n",
    "for iter in range(max_iters):\n",
    "\n",
    "    # 到损失检测的时候，进行一次损失估计，方便监控收敛情况q\n",
    "    if iter % eval_interval == 0 or iter == max_iters - 1:\n",
    "        losses = estimate_loss()\n",
    "        print(\n",
    "            f\"step {iter}: train loss {losses['train']:.4f}, val loss {losses['val']:.4f}\"\n",
    "        )\n",
    "\n",
    "    # 取一批数据\n",
    "    xb, yb = get_batch(\"train\")\n",
    "    # 计算损失函数\n",
    "    logits, loss = model(xb, yb)\n",
    "    # 将梯度置为0，如果不置0则梯度会累加。因为 PyTorch 在默认情况下对梯度进行累加，以便在某些情况下可以手动进行累积梯度（例如在处理大批量数据时分批计算）\n",
    "    optimizer.zero_grad(set_to_none=True)\n",
    "    # torch 自带的反向传播计算各参数梯度\n",
    "    loss.backward()\n",
    "    # optimizer 对各参数基于其对于损失函数的梯度进行一次更新，更新的step具体值由梯度和优化算法共同决定，如这里的优化算法 AdamW\n",
    "    optimizer.step()"
   ]
  },
  {
   "cell_type": "markdown",
   "id": "bc1d5518-9c9d-4771-8a72-a2fcbb4d5ffa",
   "metadata": {},
   "source": [
    "## 5. 模型参数保存或加载"
   ]
  },
  {
   "cell_type": "code",
   "execution_count": 9,
   "id": "17ef6462-2636-4979-8836-5481cd197476",
   "metadata": {},
   "outputs": [],
   "source": [
    "# 保存\n",
    "torch.save(model.state_dict(), \"model_parameters_harrypotter.pth\")"
   ]
  },
  {
   "cell_type": "code",
   "execution_count": 10,
   "id": "8f141b87-6606-4507-9c55-875cafcfc106",
   "metadata": {},
   "outputs": [
    {
     "data": {
      "text/plain": [
       "<All keys matched successfully>"
      ]
     },
     "execution_count": 10,
     "metadata": {},
     "output_type": "execute_result"
    }
   ],
   "source": [
    "# 加载保存的参数c\n",
    "model = GPTLanguageModel()\n",
    "m = model.to(device)\n",
    "# 加载已保存的参数\n",
    "m.load_state_dict(torch.load(\"model_parameters_harrypotter.pth\", weights_only=True))"
   ]
  },
  {
   "cell_type": "markdown",
   "id": "cd15f5b8-3447-4e16-872f-04bb9162c81b",
   "metadata": {},
   "source": [
    "## 6. 用 GPT 模型生成后文"
   ]
  },
  {
   "cell_type": "code",
   "execution_count": 21,
   "id": "028f1576-3291-4cf2-a799-6ada09c9f990",
   "metadata": {},
   "outputs": [
    {
     "name": "stdout",
     "output_type": "stream",
     "text": [
      "[44]\n"
     ]
    }
   ],
   "source": [
    "print(encode([\"O\"]))"
   ]
  },
  {
   "cell_type": "code",
   "execution_count": 41,
   "id": "9d677db7-3684-4338-bae4-53f984d7ab55",
   "metadata": {},
   "outputs": [
    {
     "name": "stdout",
     "output_type": "stream",
     "text": [
      "Iweared as they stretch of him.\n",
      "\n",
      "\"Sonty, Ronad Howler, you dident them into there?\" and Her conduction.\n",
      "\n",
      "He looked forward. Her hand at the other.\n",
      "\n",
      "\"So what d'you think here?\"\n",
      "\n",
      "Black opened the steering back onto the chocolate.\n",
      "\n",
      "\"That's been known of wizards, next to his feet,Harry Potter, Siriuta.\"\n",
      "\n",
      "\"You shut are true,\" said Harry.\n",
      "\n",
      "Dudley had to go all so muchtember, but coursing picking up inthe last years to be opponing.\n",
      "\n",
      "\"I'm stuggling it,\" he said importantly, softrying a fewer squashy and still gruly smarking. \"What d'you don't taught,\" Harry asked, \"It's not far 'not, jus' better, it's the bethat off' the powers. Ot it -- us you could tall kill yeh!Reluch? Got I'd find tonight on to join yousit\n",
      "\n",
      "*250*\n",
      "\n",
      "espectacular outside corridors.\n",
      "\n",
      "\"But Dumbledore's master!\" said \"The Colin Curesures about the Hall and jinxed.\"\n",
      "\n",
      "The Slythering worder lit down the air, dennig stupidly through the shelveshudder through the gave Harry holding him a secret and undolughthe tip. Speed highly in the sunken air kneed his wand. There was a dragon, ugly, Harry kimal jumped tables, and lightly pulled off the door of the doors behind the floor. Fred and George were still completely.\n",
      "\n",
      "\"You don't stop?\" she said to Harry.\n",
      "\n",
      "\"Always don't know what we might do,\" he said, gestrucingly toward Uncle Vernon's, who didn't have to gamekeep was. \"Nothing to pockedme .... last thing....\"\n",
      "\n",
      "\"Whenever I set them of ter several great emersed,\" said Black Dobby amid in a made turningProfessor McGonagall. \"He's entered ter exasperate.\"\n",
      "\n",
      "\"Which told me,\" said Harry. \"I could usu my going find very redient something's life....\"\n",
      "\n",
      "\"When Diagon Magicall and both, of Octetion, dear, but Harry had used to believe your last defaint youback -- of course,as you see. Flee,you're\"\n",
      "\n",
      "\"Way s this of us?\" said Harry. \"You couldn't use what I did... \"\n",
      "\n",
      "\"Will show -- he's got to there... this better the last of house --\"\n",
      "\n",
      "Harry strode out of her robes. Both dog from himself behind him.\n",
      "\n",
      "Through wanting from the charge, \n"
     ]
    }
   ],
   "source": [
    "# 尝试生成\n",
    "# 以 'I' 开头\n",
    "context = torch.zeros((1, 1), dtype=torch.long, device=device)\n",
    "context[0][0] = encode([\"I\"])[0]\n",
    "# context[0][1] = 37\n",
    "# context[0][2] = 44\n",
    "print(decode(m.generate(context, max_new_tokens=2000)[0].tolist()))"
   ]
  },
  {
   "cell_type": "markdown",
   "id": "70c55bd8-fe2a-41be-aa93-768ed7911ef8",
   "metadata": {},
   "source": [
    "## 7. 备注\n",
    "\n",
    "虽然生成的内容依旧没有太大含义，但至少看起来有模有样了，比之前的 Bigram 好了太多。  \n",
    "预期将当前的极简版按字符 encode 和 decode 的方式换为 ChatGPT 用的 subword 级会再好不少。  \n",
    "然而要进一步变强，使输出有价值，则可能需要扩大模型规模，增加训练数据了。"
   ]
  }
 ],
 "metadata": {
  "kernelspec": {
   "display_name": "py310 for torch",
   "language": "python",
   "name": "torch"
  },
  "language_info": {
   "codemirror_mode": {
    "name": "ipython",
    "version": 3
   },
   "file_extension": ".py",
   "mimetype": "text/x-python",
   "name": "python",
   "nbconvert_exporter": "python",
   "pygments_lexer": "ipython3",
   "version": "3.10.14"
  }
 },
 "nbformat": 4,
 "nbformat_minor": 5
}
