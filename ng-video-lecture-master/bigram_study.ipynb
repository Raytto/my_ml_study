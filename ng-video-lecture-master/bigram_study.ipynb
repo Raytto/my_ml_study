{
 "cells": [
  {
   "cell_type": "code",
   "execution_count": 2,
   "id": "51fb7af4-5173-4ff5-bf29-4b55ef76b163",
   "metadata": {},
   "outputs": [],
   "source": [
    "# 读取输入的文本，这里用的莎士比亚文集：https://raw.githubusercontent.com/karpathy/char-rnn/master/data/tinyshakespeare/input.txt\n",
    "text = \"\"\n",
    "with open(\"input.txt\", \"r\", encoding=\"utf-8\") as f:\n",
    "    text = f.read()"
   ]
  },
  {
   "cell_type": "code",
   "execution_count": 3,
   "id": "6004046b-a509-4797-b75d-6be2fb7df0f2",
   "metadata": {},
   "outputs": [
    {
     "name": "stdout",
     "output_type": "stream",
     "text": [
      "len char:1115394\n"
     ]
    }
   ],
   "source": [
    "# 查看字符数量\n",
    "print(f\"len char:{len(text)}\")"
   ]
  },
  {
   "cell_type": "code",
   "execution_count": 4,
   "id": "b4c86e8a-b042-4cb3-97fe-26bc04947d9b",
   "metadata": {},
   "outputs": [
    {
     "name": "stdout",
     "output_type": "stream",
     "text": [
      "First Citizen:\n",
      "Before we proceed any further, hear me speak.\n",
      "\n",
      "All:\n",
      "Speak, speak.\n",
      "\n",
      "First Citizen:\n",
      "You are all resolved rather to die than to famish?\n",
      "\n",
      "All:\n",
      "Resolved. resolved.\n",
      "\n",
      "First Citizen:\n",
      "First, you know Caius Marcius is chief enemy to the people.\n",
      "\n",
      "All:\n",
      "We know't, we know't.\n",
      "\n",
      "First Citizen:\n",
      "Let us kill him, and we'll have corn at our own price.\n",
      "Is't a verdict?\n",
      "\n",
      "All:\n",
      "No more talking on't; let it be done: away, away!\n",
      "\n",
      "Second Citizen:\n",
      "One word, good citizens.\n",
      "\n",
      "First Citizen:\n",
      "We are accounted poor citizens, the patricians good.\n",
      "What authority surfeits on would relieve us: if they\n",
      "would yield us but the superfluity, while it were\n",
      "wholesome, we might guess they relieved us humanely;\n",
      "but they think we are too dear: the leanness that\n",
      "afflicts us, the object of our misery, is as an\n",
      "inventory to particularise their abundance; our\n",
      "sufferance is a gain to them Let us revenge this with\n",
      "our pikes, ere we become rakes: for the gods know I\n",
      "speak this in hunger for bread, not in thirst for revenge.\n",
      "\n",
      "\n"
     ]
    }
   ],
   "source": [
    "# 检查前1000个字符\n",
    "print(text[:1000])"
   ]
  },
  {
   "cell_type": "code",
   "execution_count": 5,
   "id": "2e9bb7cb-fab4-4258-9817-8571a977b37d",
   "metadata": {},
   "outputs": [
    {
     "name": "stdout",
     "output_type": "stream",
     "text": [
      "\n",
      " !$&',-.3:;?ABCDEFGHIJKLMNOPQRSTUVWXYZabcdefghijklmnopqrstuvwxyz\n",
      "vocab_size:65\n"
     ]
    }
   ],
   "source": [
    "# 去重并按ASCII排序后获取字符集，注第0字符是回车'\\n'\n",
    "chars = sorted(list(set(text)))\n",
    "vocab_size = len(chars)\n",
    "print(\"\".join(chars))\n",
    "print(f\"vocab_size:{vocab_size}\")"
   ]
  },
  {
   "cell_type": "code",
   "execution_count": 6,
   "id": "72534d92-e614-4e26-8f0f-ee1c66ca4092",
   "metadata": {},
   "outputs": [],
   "source": [
    "# 建立一个字符到数字和数字到字符的简单映射\n",
    "stoi = {ch: i for i, ch in enumerate(chars)}\n",
    "itos = {i: ch for i, ch in enumerate(chars)}\n",
    "# encoder: 输入一个字符序列，输出数字序列\n",
    "encode = lambda s: [stoi[c] for c in s]\n",
    "# decode：相反，输入数字序列输出字符序列\n",
    "decode = lambda l: \"\".join([itos[i] for i in l])"
   ]
  },
  {
   "cell_type": "code",
   "execution_count": 7,
   "id": "ab584fe4-8ec7-4d78-a142-e847cd77f032",
   "metadata": {},
   "outputs": [
    {
     "data": {
      "text/plain": [
       "[46, 43, 50, 50, 53]"
      ]
     },
     "execution_count": 7,
     "metadata": {},
     "output_type": "execute_result"
    }
   ],
   "source": [
    "# 测试一下encode\n",
    "encode(\"hello\")"
   ]
  },
  {
   "cell_type": "code",
   "execution_count": 8,
   "id": "368a5dfa-e101-435a-bc48-a503eaf0dbc0",
   "metadata": {},
   "outputs": [
    {
     "data": {
      "text/plain": [
       "'hello'"
      ]
     },
     "execution_count": 8,
     "metadata": {},
     "output_type": "execute_result"
    }
   ],
   "source": [
    "# 测试一下decode\n",
    "decode([46, 43, 50, 50, 53])"
   ]
  },
  {
   "cell_type": "code",
   "execution_count": 9,
   "id": "94e71f30-14e4-4a66-888f-374e04de54fc",
   "metadata": {},
   "outputs": [],
   "source": [
    "import torch\n",
    "\n",
    "# 将整个text全部encode并变成torch可用的1维张量\n",
    "data = torch.tensor(encode(text), dtype=torch.long)"
   ]
  },
  {
   "cell_type": "code",
   "execution_count": 10,
   "id": "f375a309-ab59-46c5-a3e3-12a7944f8880",
   "metadata": {},
   "outputs": [
    {
     "data": {
      "text/plain": [
       "tensor([18, 47, 56, 57, 58,  1, 15, 47, 58, 47, 64, 43, 52, 10,  0, 14, 43, 44,\n",
       "        53, 56, 43,  1, 61, 43,  1, 54, 56, 53, 41, 43, 43, 42,  1, 39, 52, 63,\n",
       "         1, 44, 59, 56, 58, 46, 43, 56,  6,  1, 46, 43, 39, 56,  1, 51, 43,  1,\n",
       "        57, 54, 43, 39, 49,  8,  0,  0, 13, 50, 50, 10,  0, 31, 54, 43, 39, 49,\n",
       "         6,  1, 57, 54, 43, 39, 49,  8,  0,  0, 18, 47, 56, 57, 58,  1, 15, 47,\n",
       "        58, 47, 64, 43, 52, 10,  0, 37, 53, 59,  1, 39, 56, 43,  1, 39, 50, 50,\n",
       "         1, 56, 43, 57, 53, 50, 60, 43, 42,  1, 56, 39, 58, 46, 43, 56,  1, 58,\n",
       "        53,  1, 42, 47, 43,  1, 58, 46, 39, 52,  1, 58, 53,  1, 44, 39, 51, 47,\n",
       "        57, 46, 12,  0,  0, 13, 50, 50, 10,  0, 30, 43, 57, 53, 50, 60, 43, 42,\n",
       "         8,  1, 56, 43, 57, 53, 50, 60, 43, 42,  8,  0,  0, 18, 47, 56, 57, 58,\n",
       "         1, 15, 47, 58, 47, 64, 43, 52, 10,  0, 18, 47, 56, 57, 58,  6,  1, 63,\n",
       "        53, 59])"
      ]
     },
     "execution_count": 10,
     "metadata": {},
     "output_type": "execute_result"
    }
   ],
   "source": [
    "# 查看此张量前200位\n",
    "data[:200]"
   ]
  },
  {
   "cell_type": "code",
   "execution_count": 11,
   "id": "9e72bdd3-4862-4f5a-8d75-fcc55e44c65f",
   "metadata": {},
   "outputs": [],
   "source": [
    "# 分割一下，90%作为训练集，10%用于验证集\n",
    "n = int(0.9 * len(data))\n",
    "train_data = data[:n]\n",
    "val_data = data[n:]"
   ]
  },
  {
   "cell_type": "code",
   "execution_count": 12,
   "id": "60aa5328-458b-4aa2-8560-b6f91b589708",
   "metadata": {},
   "outputs": [],
   "source": [
    "# 设置一些待用参数\n",
    "# 每次并行跑多少个序列\n",
    "batch_size = 16\n",
    "# 每个序列的长度，不过在bigram里最终我们只关心上一个字符，所以长度不影响模型，只影响单次训练的数据量\n",
    "block_size = 8"
   ]
  },
  {
   "cell_type": "code",
   "execution_count": 13,
   "id": "4ff98372-e062-458c-ab99-85eff24a17ff",
   "metadata": {},
   "outputs": [
    {
     "data": {
      "text/plain": [
       "'cuda'"
      ]
     },
     "execution_count": 13,
     "metadata": {},
     "output_type": "execute_result"
    }
   ],
   "source": [
    "# 根据cuda是否可用选取计算设备\n",
    "device = \"cuda\" if torch.cuda.is_available() else \"cpu\"\n",
    "device"
   ]
  },
  {
   "cell_type": "code",
   "execution_count": 14,
   "id": "f8778b3c-e257-431e-8764-d0522a01cf18",
   "metadata": {},
   "outputs": [
    {
     "name": "stdout",
     "output_type": "stream",
     "text": [
      "the input: tensor([18]) , the target: 47\n",
      "the input: tensor([18, 47]) , the target: 56\n",
      "the input: tensor([18, 47, 56]) , the target: 57\n",
      "the input: tensor([18, 47, 56, 57]) , the target: 58\n",
      "the input: tensor([18, 47, 56, 57, 58]) , the target: 1\n",
      "the input: tensor([18, 47, 56, 57, 58,  1]) , the target: 15\n",
      "the input: tensor([18, 47, 56, 57, 58,  1, 15]) , the target: 47\n",
      "the input: tensor([18, 47, 56, 57, 58,  1, 15, 47]) , the target: 58\n"
     ]
    }
   ],
   "source": [
    "# 考虑我们的模型，基于前面的序列预测下一个\n",
    "# 则输入的形式应如下（bigram只管最后一位,n-gram才需要管多位）\n",
    "x = train_data[:block_size]\n",
    "# 目标的形式应如下（需往后偏移一位，才能照顾到最长的输入）\n",
    "y = train_data[1 : block_size + 1]\n",
    "# 每个序列的每一位理论上都可以作为一个样本进行训练\n",
    "for t in range(block_size):\n",
    "    context = x[: t + 1]\n",
    "    target = y[t]\n",
    "    print(f\"the input: {context} , the target: {target}\")"
   ]
  },
  {
   "cell_type": "code",
   "execution_count": 15,
   "id": "522946c1-2ccc-4f53-932a-6924b5f08338",
   "metadata": {},
   "outputs": [],
   "source": [
    "# 以上面的原理，从data中随机抽取一批数据的函数，包括输入 x 和目标 y\n",
    "def get_batch(split):\n",
    "    # 区分训练集和测试集\n",
    "    data = train_data if split == \"train\" else val_data\n",
    "    # 随机batch_size个序列起始index\n",
    "    ix = torch.randint(len(data) - block_size, (batch_size,))\n",
    "    # 根据起始位置选出batch_size个block_size长的序列\n",
    "    x = torch.stack([data[i : i + block_size] for i in ix])\n",
    "    # 往后偏移一位作为y\n",
    "    y = torch.stack([data[i + 1 : i + block_size + 1] for i in ix])\n",
    "    # 数据存在CPU或者GPU上\n",
    "    x, y = x.to(device), y.to(device)\n",
    "    return x, y"
   ]
  },
  {
   "cell_type": "code",
   "execution_count": 16,
   "id": "0a237e8c-b3a4-4a3e-b74d-9e07e3dc3349",
   "metadata": {},
   "outputs": [
    {
     "name": "stdout",
     "output_type": "stream",
     "text": [
      "the input: torch.Size([16, 8])\n",
      "tensor([[43, 56,  1, 43, 52, 53, 59, 45],\n",
      "        [59, 45, 46, 58, 43, 56,  5, 42],\n",
      "        [46, 58,  1, 56, 43, 55, 59, 47],\n",
      "        [39, 52, 45, 43, 58, 46,  1, 53],\n",
      "        [51, 47, 52, 45,  1, 61, 47, 58],\n",
      "        [59, 57,  1, 46, 39, 58, 46,  1],\n",
      "        [ 6,  0, 15, 53, 51, 51, 47, 58],\n",
      "        [43, 42,  1, 49, 47, 52, 45,  1],\n",
      "        [43,  1, 16, 59, 49, 43,  1, 53],\n",
      "        [42,  1, 58, 53,  1, 42, 43, 39],\n",
      "        [52, 42,  1, 60, 43, 56, 63,  1],\n",
      "        [ 6,  1, 57, 47, 52, 41, 43,  1],\n",
      "        [39, 50, 50,  1, 52, 53, 58,  1],\n",
      "        [58, 47, 53, 52,  1, 58, 53,  1],\n",
      "        [39, 45, 45, 43, 56,  1, 47, 52],\n",
      "        [43, 47, 45, 52, 43, 42,  1, 50]], device='cuda:0')\n",
      "the input: torch.Size([16, 8])\n",
      "tensor([[56,  1, 43, 52, 53, 59, 45, 46],\n",
      "        [45, 46, 58, 43, 56,  5, 42,  6],\n",
      "        [58,  1, 56, 43, 55, 59, 47, 56],\n",
      "        [52, 45, 43, 58, 46,  1, 53, 60],\n",
      "        [47, 52, 45,  1, 61, 47, 58, 46],\n",
      "        [57,  1, 46, 39, 58, 46,  1, 58],\n",
      "        [ 0, 15, 53, 51, 51, 47, 58,  5],\n",
      "        [42,  1, 49, 47, 52, 45,  1, 47],\n",
      "        [ 1, 16, 59, 49, 43,  1, 53, 44],\n",
      "        [ 1, 58, 53,  1, 42, 43, 39, 58],\n",
      "        [42,  1, 60, 43, 56, 63,  1, 56],\n",
      "        [ 1, 57, 47, 52, 41, 43,  1, 21],\n",
      "        [50, 50,  1, 52, 53, 58,  1, 53],\n",
      "        [47, 53, 52,  1, 58, 53,  1, 46],\n",
      "        [45, 45, 43, 56,  1, 47, 52, 10],\n",
      "        [47, 45, 52, 43, 42,  1, 50, 53]], device='cuda:0')\n"
     ]
    }
   ],
   "source": [
    "# 测试一下get_batch\n",
    "xb, yb = get_batch(\"train\")\n",
    "print(f\"the input: {xb.shape}\\n{xb}\")\n",
    "print(f\"the input: {yb.shape}\\n{yb}\")"
   ]
  },
  {
   "cell_type": "code",
   "execution_count": 17,
   "id": "9b80edfb-4e2a-45e2-b935-0c2f725d6504",
   "metadata": {},
   "outputs": [],
   "source": [
    "# xb,yb = get_batch('val')\n",
    "# print(f'the input: {xb.shape}\\n{xb}')\n",
    "# print(f'the input: {yb.shape}\\n{yb}')"
   ]
  },
  {
   "cell_type": "markdown",
   "id": "e06460ba-897a-423a-ac63-f87fafb5489d",
   "metadata": {},
   "source": [
    "开始建立模型  \n",
    "先最简单的bigrammodel，仅基于上一个字符去预测下一个字符"
   ]
  },
  {
   "cell_type": "code",
   "execution_count": 19,
   "id": "85a7f2d2-2f18-438c-a66b-0b62274018c7",
   "metadata": {},
   "outputs": [],
   "source": [
    "import torch\n",
    "import torch.nn as nn\n",
    "from torch.nn import functional as F"
   ]
  },
  {
   "cell_type": "code",
   "execution_count": 20,
   "id": "17c863b9-f103-4dec-9355-7f5feae9189e",
   "metadata": {},
   "outputs": [
    {
     "data": {
      "text/plain": [
       "<torch._C.Generator at 0x250e4897a70>"
      ]
     },
     "execution_count": 20,
     "metadata": {},
     "output_type": "execute_result"
    }
   ],
   "source": [
    "# 随机种子，不是很重要\n",
    "torch.manual_seed(1337)"
   ]
  },
  {
   "cell_type": "code",
   "execution_count": 21,
   "id": "c949b064-a905-4268-8209-2eeed6098700",
   "metadata": {},
   "outputs": [],
   "source": [
    "# 基于torch建Bigram模型\n",
    "class BigramLanguageModel(nn.Module):\n",
    "\n",
    "    def __init__(self, vocab_size):\n",
    "        super().__init__()\n",
    "        # bigram只需要一个查找表，找到每个字符对应的下一个各个字符的概率（所以对应一个 vocab_size * vocab_size 的矩阵）。\n",
    "        # 具体计算时会通过查找的方式直接把对应行向量提取出来\n",
    "        self.token_embedding_table = nn.Embedding(vocab_size, vocab_size)\n",
    "\n",
    "    def forward(self, idx, targets=None):\n",
    "        # idx 是输入x，对应 batch_size*block_size 的张量，和前面对应\n",
    "        # targets 是输入y，也对应 batch_size*block_size 的张量，和前面对应\n",
    "\n",
    "        # 由于每个元素都会被 token_embedding_table 映射成 vocab_size 的张量，所以 logits 是三维张量，对应 batch_size * block_size * vocab_size\n",
    "        logits = self.token_embedding_table(idx)\n",
    "        if targets is None:\n",
    "            loss = None\n",
    "        else:\n",
    "            # 再次获取其三维 batch_size*block_size*vocab_size\n",
    "            B, T, C = logits.shape\n",
    "            # 把前两维展开成一维\n",
    "            logits = logits.view(B * T, C)\n",
    "            # 目标值也展开成一维\n",
    "            targets = targets.view(B * T)\n",
    "            # 计算交叉熵以估计预测的概率分布和实际值的差异（cross_entropy支持一个是概率分布，一个是目标值，这种两个类型和维度的输入）\n",
    "            loss = F.cross_entropy(logits, targets)\n",
    "        return logits, loss\n",
    "\n",
    "    def generate(self, idx, max_new_tokens):\n",
    "        # 基于模型用idx生成下一个字符（由于是bigram，其实只有最后一位有用到）\n",
    "        # idx 依旧是 batch_size*block_size 的二维张量，表征已有的上文序列\n",
    "\n",
    "        # 循环生成 max_new_tokens 次\n",
    "        for _ in range(max_new_tokens):\n",
    "            # 拿到每一位对下一位的预测结果 logits，也对应 batch_size * block_size * vocab_size 的张量\n",
    "            # 注：其实只用得到每个batch最后一位的预测结果，会浪费一些算力\n",
    "            logits, loss = self(idx)\n",
    "            # 其他抛掉，只看每个batch_最后一位的\n",
    "            logits = logits[:, -1, :]  # 变成 batch_size * vocab_size\n",
    "            # 用softmax函数作用（变到[0,1]区间，且和为1），作为预测的各个后继的概率。dim=-1表示沿最后一个维度进行作用\n",
    "            probs = F.softmax(logits, dim=-1)\n",
    "            # 对每个行，根据概率进行抽样得到序号\n",
    "            idx_next = torch.multinomial(probs, num_samples=1)  # (B, 1)\n",
    "            # 把当前的抽样结果加在序列后面\n",
    "            idx = torch.cat((idx, idx_next), dim=1)  # (B, T+1)\n",
    "        return idx"
   ]
  },
  {
   "cell_type": "code",
   "execution_count": 22,
   "id": "55ef43cf-4f9c-42e9-9c63-5d1973178628",
   "metadata": {},
   "outputs": [],
   "source": [
    "# 用验证集评估损失时，选多少批次数据的交叉熵来取平均。越多越精准，但越费算力\n",
    "eval_iters = 100\n",
    "\n",
    "\n",
    "@torch.no_grad()\n",
    "def estimate_loss():\n",
    "    out = {}\n",
    "    # 设置模型为评估模式，通过设置为评估模式，可以确保模型在验证或测试时的行为与训练时保持一致，但去除了训练特有的随机性，从而使评估更加稳定和一致。\n",
    "    # 而训练模式下有些层，如Dropout和Batch Normalization会随时对模型本身进行修改\n",
    "    model.eval()\n",
    "    for split in [\"train\", \"val\"]:\n",
    "        losses = torch.zeros(eval_iters)\n",
    "        for k in range(eval_iters):\n",
    "            X, Y = get_batch(split)\n",
    "            # 进行一次预测，model会调用模型的forward()函数\n",
    "            logits, loss = model(X, Y)\n",
    "            # F.cross_entropy() 得到的结果对象还包含很多其他操作和信息，想获得具体的交叉熵的值需要用 loss.item()\n",
    "            losses[k] = loss.item()\n",
    "        out[split] = losses.mean()\n",
    "    # 回到训练模式\n",
    "    model.train()\n",
    "    return out"
   ]
  },
  {
   "cell_type": "code",
   "execution_count": 23,
   "id": "54e49be0-14c8-45fd-ada2-d9f3f99b926e",
   "metadata": {},
   "outputs": [],
   "source": [
    "# 创建模型\n",
    "model = BigramLanguageModel(vocab_size)\n",
    "# 模型放在CPU或GPU上\n",
    "m = model.to(device)"
   ]
  },
  {
   "cell_type": "code",
   "execution_count": 24,
   "id": "298a9c5f-6223-4cab-a97d-eebd686459c2",
   "metadata": {},
   "outputs": [
    {
     "name": "stdout",
     "output_type": "stream",
     "text": [
      "torch.Size([128, 65])\n",
      "tensor(4.7133, device='cuda:0', grad_fn=<NllLossBackward0>)\n"
     ]
    }
   ],
   "source": [
    "# 用我们之前随便拿的xb,yb，测试一下模型\n",
    "logits, loss = m(xb, yb)\n",
    "# logits在forward()中被展开成了二维 (batch_size*block_size) * vocab_size\n",
    "print(logits.shape)\n",
    "# 未训练的情况下的损失函数值\n",
    "print(loss)"
   ]
  },
  {
   "cell_type": "code",
   "execution_count": 25,
   "id": "5bb7e948-9fa3-4bbf-8075-979dc69a81ad",
   "metadata": {},
   "outputs": [
    {
     "data": {
      "text/plain": [
       "'I'"
      ]
     },
     "execution_count": 25,
     "metadata": {},
     "output_type": "execute_result"
    }
   ],
   "source": [
    "# 尝试用未经训练的模型进行文本生成\n",
    "# 设置一个1*1的张量，值对应我们希望首字母的内容，这里设置的是21，对应'I'\n",
    "context = torch.zeros((1, 1), dtype=torch.long, device=device)\n",
    "context[0][0] = 21\n",
    "decode(context.tolist()[0])"
   ]
  },
  {
   "cell_type": "code",
   "execution_count": 26,
   "id": "1d4860d5-9e4f-41a1-830a-791f311c32c7",
   "metadata": {},
   "outputs": [
    {
     "name": "stdout",
     "output_type": "stream",
     "text": [
      "I!qfzxfRkRZd\n",
      "wc'wfNfT;OLlTEeC K\n",
      "jxqPToTb?bXAUG:C-SGJO-33SM:C?YI3a\n",
      "hs:LVXJFhXeNuwqhObxZ.tSVrddXlaSZaNevjw3cHPyZWk,f'qZa-oizCjmuX\n",
      "YoR&$FMVTfXibIcB!!BA!$W:CdYlHxcbegRirYeYERnkciK;lxWvHFliqmoGSKtSV&BLqWk -.SGFW.byWjbO!UelIljnF$UV&v.C-hsE3SPyckzby:CUup;MpJssX3Qwty;vJlvBPUuIkyBf&pxY-ggCIgj$k:CGlIkJdlyltSPkqmNaW-wNAXQbjxCevib3sr'T:C-&dE$HZvETERSBfxJ$Fstp-LK3:CJ-xTrg\n",
      "wALkOdmnubruf?qA skz;3QQkhWTm:CEtxjep$vUMUE$EwffMfMPRrFdXKISKH.JrZKINLIk!a!,iyb&y&a\n",
      "SadapbWPT:VE!zLtYBTEivVKN.kqfa!a!eyCRrxltpmI&fy;VE?!3MJM?qE;:3SPkUAJG&ymrdHXy'WWWgR\n",
      "SPm \n",
      "o,SB;v$Ws$.-w'KoT;AUqq-w'PF.rdaJR?;w$-z;K:WhsBoin qHugUvxIERTXEqMc$zyfX:C&ysSF-t$Yw -.mJALEHao.?nktKp$vjKujxQLqevjPTAUNXeviv3vLKZ?dpx?!ULKoCPTsrIkp$viyYH.iCVPyHDOd&usCxEQ?eRjK$ALI:C-b$gGCCJM;scP!A?h$YUgn;RGSjUcUq,FXrxlgq-GJZvSPHbAaq-tO'XEHzc-ErW:ww3C C !x.vDCKumlxlF'n!uDxlNCllgCIv'PGrIy,Odc'PLdIFGZPAkNxIgiKu\n",
      "bHq$\n",
      "&XnGev'QzXCDWtFymZ?YLIczooixMAXGoTtL!CnIIKvUe f3SKp$GRpDytGFo?PwMb?C?YWTottR:CJiw\n",
      "pEHBlTQlbkmZP!P,s&qMO\n",
      "FoT;a!b.iTXwatDU&LivY$WxZtTXrWL;Ju;qylxkz;gGo.e\n"
     ]
    }
   ],
   "source": [
    "# 以context开头进行生成\n",
    "print(decode(m.generate(context, max_new_tokens=1000)[0].tolist()))"
   ]
  },
  {
   "cell_type": "markdown",
   "id": "b4d12184-1e46-4882-843b-4341fc655941",
   "metadata": {},
   "source": [
    "注：可以看出未经训练生成的内容完全随机，毫无章法"
   ]
  },
  {
   "cell_type": "code",
   "execution_count": 28,
   "id": "500a9cb5-ae12-40e4-b3ab-550dc9fe9df5",
   "metadata": {},
   "outputs": [
    {
     "name": "stdout",
     "output_type": "stream",
     "text": [
      "step 0: train loss 4.7332, val loss 4.7260\n",
      "step 100: train loss 3.8013, val loss 3.8048\n",
      "step 200: train loss 3.2313, val loss 3.2300\n",
      "step 300: train loss 2.9288, val loss 2.8880\n",
      "step 400: train loss 2.7445, val loss 2.7525\n",
      "step 500: train loss 2.6237, val loss 2.6487\n",
      "step 600: train loss 2.5736, val loss 2.5993\n",
      "step 700: train loss 2.5464, val loss 2.5698\n",
      "step 800: train loss 2.5251, val loss 2.5398\n",
      "step 900: train loss 2.5037, val loss 2.5394\n",
      "step 1000: train loss 2.5012, val loss 2.5145\n",
      "step 1100: train loss 2.4819, val loss 2.5378\n",
      "step 1200: train loss 2.4937, val loss 2.5185\n",
      "step 1300: train loss 2.4991, val loss 2.5217\n",
      "step 1400: train loss 2.4858, val loss 2.5272\n",
      "step 1500: train loss 2.4746, val loss 2.5129\n",
      "step 1600: train loss 2.4969, val loss 2.5068\n",
      "step 1700: train loss 2.4772, val loss 2.5061\n",
      "step 1800: train loss 2.4870, val loss 2.4905\n",
      "step 1900: train loss 2.4749, val loss 2.4891\n",
      "step 2000: train loss 2.4652, val loss 2.4952\n",
      "step 2100: train loss 2.4732, val loss 2.4863\n",
      "step 2200: train loss 2.4598, val loss 2.4975\n",
      "step 2300: train loss 2.4649, val loss 2.4869\n",
      "step 2400: train loss 2.4526, val loss 2.5045\n",
      "step 2500: train loss 2.4645, val loss 2.4988\n",
      "step 2600: train loss 2.4602, val loss 2.4794\n",
      "step 2700: train loss 2.4643, val loss 2.4817\n",
      "step 2800: train loss 2.4545, val loss 2.5067\n",
      "step 2900: train loss 2.4591, val loss 2.4964\n"
     ]
    }
   ],
   "source": [
    "# 设置学习率，由于有用 AdamW ，这个值可以略比较随意\n",
    "learning_rate = 1e-2\n",
    "# 设置学习次数\n",
    "max_iters = 3000\n",
    "# 设置多少次学习进行一次损失监测\n",
    "eval_interval = 100\n",
    "\n",
    "# 创建优化器，使用了 AdamW\n",
    "optimizer = torch.optim.AdamW(model.parameters(), lr=learning_rate)\n",
    "\n",
    "for iter in range(max_iters):\n",
    "\n",
    "    # 到损失检测的时候\n",
    "    if iter % eval_interval == 0:\n",
    "        losses = estimate_loss()\n",
    "        print(\n",
    "            f\"step {iter}: train loss {losses['train']:.4f}, val loss {losses['val']:.4f}\"\n",
    "        )\n",
    "\n",
    "    # 取一批数据\n",
    "    xb, yb = get_batch(\"train\")\n",
    "\n",
    "    # 计算损失函数\n",
    "    logits, loss = model(xb, yb)\n",
    "    # 将梯度置为0，如果不置0则梯度会累加。因为 PyTorch 在默认情况下对梯度进行累加，以便在某些情况下可以手动进行累积梯度（例如在处理大批量数据时分批计算）\n",
    "    optimizer.zero_grad(set_to_none=True)\n",
    "    # torch 自带的反向传播计算梯度\n",
    "    loss.backward()\n",
    "    # optimizer 对各参数基于其对于损失函数的梯度进行一次更新，更新的step具体值由梯度和优化算法共同决定，如这里的优化算法 AdamW\n",
    "    optimizer.step()"
   ]
  },
  {
   "cell_type": "code",
   "execution_count": 29,
   "id": "fb96cb64-ddd5-4f6f-8a85-801fd4a4fba0",
   "metadata": {},
   "outputs": [
    {
     "data": {
      "text/plain": [
       "'I'"
      ]
     },
     "execution_count": 29,
     "metadata": {},
     "output_type": "execute_result"
    }
   ],
   "source": [
    "# 模型训练后，尝试用其进行生成\n",
    "# 设置一个1*1的张量，值对应我们希望首字母的内容，这里设置的是21，对应'I'\n",
    "context = torch.zeros((1, 1), dtype=torch.long, device=device)\n",
    "context[0][0] = 21\n",
    "decode(context.tolist()[0])"
   ]
  },
  {
   "cell_type": "code",
   "execution_count": 81,
   "id": "de814abc-49fb-4bf7-a291-27fe4716a8d5",
   "metadata": {},
   "outputs": [
    {
     "name": "stdout",
     "output_type": "stream",
     "text": [
      "I gin cmy tofou winca e omedikinin atorin, un, Wh orir t,\n",
      "CI d ces nid n wethanole thourselle d!PZAy I fr be Jut maid f bl k hanon; 'ds\n",
      "A bes\n",
      "Dout f illemerer,\n",
      "BRY fano I dl mathepen f w--bukshe! theve at,\n",
      "minia! ce w garyome Goll, t m'do amyos, wises ne aves thepred; m grconend n he bshasmethityosifowha alllicr tes wothoulor athis held.\n",
      "INThallele, amalf merqus. MNowhinkid se o.\n",
      "T:\n",
      "TE att od OLove f cour howatltheay, y I'd bunth ast o ngy:\n",
      "\n",
      "QUTheno ghenurd\n",
      "\n",
      "DD t, waprcrrt kee oy flesserd n k's hy RYo e?\n",
      "\n",
      "TEDY:\n",
      "Y more oultime\n",
      "\n",
      "ARDWinthel gondoleraysind, myOnato t be Ant then merims mong rve COnd berm t welile\n",
      "MPOM:\n",
      "Y: itidyoumil llle be; yif\n",
      "\n",
      "\n",
      "TOnon n wefale gu, ber\n",
      "\n",
      "BORoreathorer to t u' oren te, ncoup, ghe ayous pyod w ird sce if ace, w g s\n",
      "IONoveryaulisou\n",
      "ANGOUS:\n",
      "ToUERMENLENII terut h f,\n",
      "I out hilles ssparet he:\n",
      "\n",
      "ANoce, rerselisecenk lll, cave bt! adsbound; n at sea n'd ttol, penuratref an t:\n",
      "Sh atotin, ten yor,\n",
      "Whegar olis, s RISCO:\n",
      "TI st tofo m t yesod -pry Maved nn gedd, !\n",
      "II ar y\n"
     ]
    }
   ],
   "source": [
    "# 进行生成\n",
    "print(decode(m.generate(context, max_new_tokens=1000)[0].tolist()))"
   ]
  },
  {
   "cell_type": "markdown",
   "id": "973ce6ba-da98-4cbe-9316-f2a31d1d6426",
   "metadata": {},
   "source": [
    "可以看到，虽然内容依旧没有什么意义，但看起来比训练前的内容正常了不少。\n",
    "之所以难以构成有意义单词和句子，主要是因为bigram仅基于上一个单词进行预测，信息利用得太少了"
   ]
  }
 ],
 "metadata": {
  "kernelspec": {
   "display_name": "py310 for torch",
   "language": "python",
   "name": "torch"
  },
  "language_info": {
   "codemirror_mode": {
    "name": "ipython",
    "version": 3
   },
   "file_extension": ".py",
   "mimetype": "text/x-python",
   "name": "python",
   "nbconvert_exporter": "python",
   "pygments_lexer": "ipython3",
   "version": "3.10.14"
  }
 },
 "nbformat": 4,
 "nbformat_minor": 5
}
