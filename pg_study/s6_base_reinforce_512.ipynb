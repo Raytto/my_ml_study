{
 "cells": [
  {
   "cell_type": "markdown",
   "metadata": {},
   "source": [
    "### 1.包导入"
   ]
  },
  {
   "cell_type": "code",
   "execution_count": 1,
   "metadata": {},
   "outputs": [],
   "source": [
    "import gym\n",
    "import torch as T\n",
    "import torch.nn.functional as F\n",
    "import torch.nn as nn\n",
    "import torch.optim as optim\n",
    "from torch.distributions import Categorical\n",
    "import numpy as np\n",
    "import pickle\n",
    "import os\n",
    "import matplotlib.pyplot as plt"
   ]
  },
  {
   "cell_type": "markdown",
   "metadata": {},
   "source": [
    "### 2.环境尝试"
   ]
  },
  {
   "cell_type": "code",
   "execution_count": 2,
   "metadata": {},
   "outputs": [
    {
     "data": {
      "text/plain": [
       "(array([ 0.03236018, -0.23558731,  0.0295415 ,  0.27029604], dtype=float32),\n",
       " 1.0,\n",
       " False,\n",
       " False,\n",
       " {})"
      ]
     },
     "execution_count": 2,
     "metadata": {},
     "output_type": "execute_result"
    }
   ],
   "source": [
    "env = gym.make(\"CartPole-v1\")\n",
    "env.reset()\n",
    "env.step(0)"
   ]
  },
  {
   "cell_type": "markdown",
   "metadata": {},
   "source": [
    "### 3.定义策略网络"
   ]
  },
  {
   "cell_type": "code",
   "execution_count": 3,
   "metadata": {},
   "outputs": [],
   "source": [
    "# 定义策略网络\n",
    "class PolicyNetwork(nn.Module):\n",
    "    def __init__(self, input_dim, output_dim):\n",
    "        super(PolicyNetwork, self).__init__()\n",
    "        self.fc1 = nn.Linear(input_dim, 512)\n",
    "        self.fc2 = nn.Linear(512, 512)  # 隐藏层\n",
    "        self.fc3 = nn.Linear(512, output_dim)  # 输出动作概率\n",
    "        self.device = T.device(\"cuda\" if T.cuda.is_available() else \"cpu\")\n",
    "        self.to(self.device)\n",
    "\n",
    "    def forward(self, x):\n",
    "        x = T.tensor(x, dtype=T.float32).to(self.device)\n",
    "        layer1 = T.relu(self.fc1(x))\n",
    "        layer2 = T.relu(self.fc2(layer1))\n",
    "        p = T.softmax(self.fc3(layer2), dim=-1)\n",
    "        return p"
   ]
  },
  {
   "cell_type": "markdown",
   "metadata": {},
   "source": [
    "### 4.计算折扣奖励函数"
   ]
  },
  {
   "cell_type": "code",
   "execution_count": 4,
   "metadata": {},
   "outputs": [],
   "source": [
    "# 计算折扣奖励\n",
    "def compute_returns(rewards, gamma):\n",
    "    returns = []\n",
    "    G = 0\n",
    "    for r in reversed(rewards):\n",
    "        G = r + gamma * G\n",
    "        returns.insert(0, G)\n",
    "    return returns"
   ]
  },
  {
   "cell_type": "markdown",
   "metadata": {},
   "source": [
    "### 5.设置环境和超参数"
   ]
  },
  {
   "cell_type": "code",
   "execution_count": 5,
   "metadata": {},
   "outputs": [],
   "source": [
    "# 设置环境\n",
    "env = gym.make(\"CartPole-v1\")\n",
    "input_dim = env.observation_space.shape[0]  # 输入维度\n",
    "output_dim = env.action_space.n  # 输出维度\n",
    "# 设置超参数\n",
    "batch_size = 20  # 设置每次更新的轨迹数量\n",
    "gamma = 0.9  # 奖励折扣因子\n",
    "avg_episode = 50\n",
    "save_episode = 100\n",
    "print_episode = 50\n",
    "clip_norm = 100\n",
    "continue_train = True\n",
    "num_episodes = 0\n",
    "learning_rate = 0.0001\n",
    "\n",
    "# 学习进度保存路径\n",
    "model_path = \"./save/s6_policy_net.pth\"\n",
    "avg_path = \"./save/s6_avg_rewards.pth\""
   ]
  },
  {
   "cell_type": "code",
   "execution_count": 6,
   "metadata": {},
   "outputs": [
    {
     "name": "stderr",
     "output_type": "stream",
     "text": [
      "/tmp/ipykernel_36633/1874207974.py:7: FutureWarning: You are using `torch.load` with `weights_only=False` (the current default value), which uses the default pickle module implicitly. It is possible to construct malicious pickle data which will execute arbitrary code during unpickling (See https://github.com/pytorch/pytorch/blob/main/SECURITY.md#untrusted-models for more details). In a future release, the default value for `weights_only` will be flipped to `True`. This limits the functions that could be executed during unpickling. Arbitrary objects will no longer be allowed to be loaded via this mode unless they are explicitly allowlisted by the user via `torch.serialization.add_safe_globals`. We recommend you start setting `weights_only=True` for any use case where you don't have full control of the loaded file. Please open an issue on GitHub for any issues related to this experimental feature.\n",
      "  policy_net.load_state_dict(T.load(model_path))\n"
     ]
    },
    {
     "data": {
      "text/plain": [
       "26"
      ]
     },
     "execution_count": 6,
     "metadata": {},
     "output_type": "execute_result"
    }
   ],
   "source": [
    "policy_net = PolicyNetwork(input_dim, output_dim)\n",
    "optimizer = optim.AdamW(policy_net.parameters(), lr=learning_rate)\n",
    "avg_rewards = []\n",
    "\n",
    "if continue_train:\n",
    "    if os.path.exists(model_path) and os.path.exists(avg_path):\n",
    "        policy_net.load_state_dict(T.load(model_path))\n",
    "        policy_net.to(policy_net.device)\n",
    "        with open(avg_path, \"rb\") as f:\n",
    "            avg_rewards = pickle.load(f)\n",
    "len(avg_rewards)"
   ]
  },
  {
   "cell_type": "markdown",
   "metadata": {},
   "source": [
    "### 6.开始训练"
   ]
  },
  {
   "cell_type": "code",
   "execution_count": 7,
   "metadata": {},
   "outputs": [],
   "source": [
    "# 开始训练\n",
    "record_rewards = []\n",
    "for episode in range(1, num_episodes + 1):\n",
    "    log_probs = []\n",
    "    total_returns = []\n",
    "    for _ in range(batch_size):\n",
    "        # state = torch.tensor(env.reset()[0], dtype=torch.float32).to(policy_net.device)\n",
    "\n",
    "        rewards = []\n",
    "        state = env.reset()[0]\n",
    "        # 采样轨迹\n",
    "        done = False\n",
    "        while not done:\n",
    "\n",
    "            # state = torch.tensor(np.array(state), dtype=torch.float32)  # Ensure state tensor is on the correct device\n",
    "            probs = policy_net(state)\n",
    "            m = Categorical(probs)  # 创建一个类别分布\n",
    "            action = m.sample()  # 采样动作\n",
    "            log_probs.append(m.log_prob(action))  # 记录 log(prob)\n",
    "            # 执行动作\n",
    "            state, reward, terminated, truncated, info = env.step(action.item())\n",
    "            state = T.tensor(state, dtype=T.float32).to(policy_net.device)\n",
    "            # print(f\"state: {state}\")\n",
    "            done = bool(terminated) or bool(truncated)  # Ensure done is a boolean value\n",
    "            rewards.append(reward)\n",
    "\n",
    "        # 记录本次总得分\n",
    "        record_rewards.append(sum(rewards))\n",
    "\n",
    "        # 计算累计回报\n",
    "        returns = compute_returns(rewards, gamma)\n",
    "        total_returns += returns\n",
    "    total_returns = T.tensor(total_returns, dtype=T.float32).to(\n",
    "        policy_net.device\n",
    "    )  # Ensure returns tensor is on the correct device\n",
    "\n",
    "    # 计算损失\n",
    "    policy_loss = []\n",
    "    for log_prob, G in zip(log_probs, total_returns):\n",
    "        policy_loss.append(-log_prob * G)  # REINFORCE的损失：-log_prob * G\n",
    "    policy_loss = T.stack(policy_loss).sum() / batch_size\n",
    "\n",
    "    # 反向传播和优化\n",
    "    optimizer.zero_grad()\n",
    "    policy_loss.backward()\n",
    "    nn.utils.clip_grad_norm_(policy_net.parameters(), max_norm=clip_norm)\n",
    "    optimizer.step()\n",
    "\n",
    "    # 输出训练进度\n",
    "    if episode % avg_episode == 0:\n",
    "        avg_reward = sum(record_rewards[-avg_episode:]) / avg_episode\n",
    "        avg_rewards.append(avg_reward)\n",
    "        if episode % print_episode == 0:\n",
    "            print(\n",
    "                f\"Episode {episode}, Current Reward:{record_rewards[-1]}, Avg Reward: {avg_reward}\"\n",
    "            )\n",
    "        if episode % save_episode == 0:\n",
    "            print(f\"to save model and avg_rewards {len(avg_rewards)}\")\n",
    "            T.save(policy_net.state_dict(), model_path)\n",
    "            with open(avg_path, \"wb\") as f:\n",
    "                pickle.dump(avg_rewards, f)"
   ]
  },
  {
   "cell_type": "code",
   "execution_count": 8,
   "metadata": {},
   "outputs": [
    {
     "data": {
      "image/png": "[encoded data removed]",
      "text/plain": [
       "<Figure size 640x480 with 1 Axes>"
      ]
     },
     "metadata": {},
     "output_type": "display_data"
    }
   ],
   "source": [
    "# 绘制得分变化图\n",
    "plt.plot(range(1, len(avg_rewards) + 1), avg_rewards)\n",
    "plt.xlabel(\"Episode\")\n",
    "plt.ylabel(\"Avg Reward\")\n",
    "plt.title(f\"Avg Reward over Episodes x{avg_episode}\")\n",
    "plt.show()"
   ]
  },
  {
   "cell_type": "code",
   "execution_count": null,
   "metadata": {},
   "outputs": [],
   "source": []
  },
  {
   "cell_type": "code",
   "execution_count": 10,
   "metadata": {},
   "outputs": [],
   "source": []
  }
 ],
 "metadata": {
  "kernelspec": {
   "display_name": "py310",
   "language": "python",
   "name": "python3"
  },
  "language_info": {
   "codemirror_mode": {
    "name": "ipython",
    "version": 3
   },
   "file_extension": ".py",
   "mimetype": "text/x-python",
   "name": "python",
   "nbconvert_exporter": "python",
   "pygments_lexer": "ipython3",
   "version": "3.10.15"
  }
 },
 "nbformat": 4,
 "nbformat_minor": 2
}
