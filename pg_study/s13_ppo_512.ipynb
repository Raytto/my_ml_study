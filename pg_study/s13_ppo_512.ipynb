{
 "cells": [
  {
   "cell_type": "markdown",
   "metadata": {},
   "source": [
    "### 1.包导入"
   ]
  },
  {
   "cell_type": "code",
   "execution_count": 1,
   "metadata": {},
   "outputs": [],
   "source": [
    "import gym\n",
    "import torch as T\n",
    "import torch.nn.functional as F\n",
    "import torch.nn as nn\n",
    "import torch.optim as optim\n",
    "from torch.distributions import Categorical\n",
    "import numpy as np\n",
    "import pickle\n",
    "import os\n",
    "import matplotlib.pyplot as plt"
   ]
  },
  {
   "cell_type": "markdown",
   "metadata": {},
   "source": [
    "### 2.环境尝试"
   ]
  },
  {
   "cell_type": "code",
   "execution_count": 2,
   "metadata": {},
   "outputs": [
    {
     "name": "stderr",
     "output_type": "stream",
     "text": [
      "/home/pp/anaconda3/envs/py310/lib/python3.10/site-packages/gym/utils/passive_env_checker.py:233: DeprecationWarning: `np.bool8` is a deprecated alias for `np.bool_`.  (Deprecated NumPy 1.24)\n",
      "  if not isinstance(terminated, (bool, np.bool8)):\n"
     ]
    },
    {
     "data": {
      "text/plain": [
       "(array([ 0.04047491, -0.18096018,  0.01200202,  0.2754833 ], dtype=float32),\n",
       " 1.0,\n",
       " False,\n",
       " False,\n",
       " {})"
      ]
     },
     "execution_count": 2,
     "metadata": {},
     "output_type": "execute_result"
    }
   ],
   "source": [
    "env = gym.make(\"CartPole-v1\")\n",
    "env.reset()\n",
    "env.step(0)"
   ]
  },
  {
   "cell_type": "markdown",
   "metadata": {},
   "source": [
    "### 3.定义 Actor 网络"
   ]
  },
  {
   "cell_type": "code",
   "execution_count": 3,
   "metadata": {},
   "outputs": [],
   "source": [
    "# 定义策略网络\n",
    "class ActorNetwork(nn.Module):\n",
    "    def __init__(self, input_dim, hidden_dim, output_dim):\n",
    "        super(ActorNetwork, self).__init__()\n",
    "        self.fc1 = nn.Linear(input_dim, hidden_dim)\n",
    "        self.fc2 = nn.Linear(hidden_dim, hidden_dim)\n",
    "        self.fc3 = nn.Linear(hidden_dim, output_dim)\n",
    "        self.device = T.device(\"cuda\" if T.cuda.is_available() else \"cpu\")\n",
    "        self.to(self.device)\n",
    "\n",
    "    def forward(self, x):\n",
    "        x = T.tensor(x, dtype=T.float32).to(self.device)\n",
    "        layer1 = T.relu(self.fc1(x))\n",
    "        layer2 = T.relu(self.fc2(layer1))\n",
    "        p = T.softmax(self.fc3(layer2), dim=-1)\n",
    "        return p"
   ]
  },
  {
   "cell_type": "markdown",
   "metadata": {},
   "source": [
    "### 4. 定义 Critic 网络"
   ]
  },
  {
   "cell_type": "code",
   "execution_count": 4,
   "metadata": {},
   "outputs": [],
   "source": [
    "class Critic(nn.Module):\n",
    "    def __init__(self, input_dim, hidden_dim):\n",
    "        super(Critic, self).__init__()\n",
    "        self.fc1 = nn.Linear(input_dim, hidden_dim)\n",
    "        self.fc2 = nn.Linear(hidden_dim, hidden_dim)\n",
    "        self.fc3 = nn.Linear(hidden_dim, 1)\n",
    "        self.device = T.device(\"cuda\" if T.cuda.is_available() else \"cpu\")\n",
    "        self.to(self.device)\n",
    "\n",
    "    def forward(self, x):\n",
    "        x = T.tensor(x, dtype=T.float32).to(self.device)\n",
    "        layer1 = T.relu(self.fc1(x))\n",
    "        layer2 = T.relu(self.fc2(layer1))\n",
    "        value = self.fc3(layer2)\n",
    "        return value\n"
   ]
  },
  {
   "cell_type": "markdown",
   "metadata": {},
   "source": [
    "### 5.设置环境和超参数"
   ]
  },
  {
   "cell_type": "code",
   "execution_count": 5,
   "metadata": {},
   "outputs": [],
   "source": [
    "# 设置环境\n",
    "env = gym.make(\"CartPole-v1\")\n",
    "input_dim = env.observation_space.shape[0]  # 输入维度\n",
    "hidden_dim = 512\n",
    "output_dim = env.action_space.n  # 输出维度\n",
    "# 设置超参数\n",
    "batch_size = 64  # 设置每次更新的轨迹数量\n",
    "gamma = 0.9  # 奖励折扣因子\n",
    "avg_episode = 50\n",
    "save_episode = 200\n",
    "print_episode = 50\n",
    "clip_norm = 100\n",
    "continue_train = True\n",
    "num_episodes = 5000\n",
    "learning_rate = 1e-4\n",
    "ppo_epochs = 10\n",
    "gae_lambda = 0.95  # 通常取值在 0.9 - 0.99 范围内\n",
    "clip_epsilon = 0.2\n",
    "max_grad_norm = 0.5\n",
    "critic_coef = 0.5\n",
    "\n",
    "# 学习进度保存路径\n",
    "actor_model_path = \"./save/s13_actor_net.pth\"\n",
    "critic_model_path = \"./save/s13_critic_net.pth\"\n",
    "avg_path = \"./save/s13_avg_rewards.pth\""
   ]
  },
  {
   "cell_type": "code",
   "execution_count": 6,
   "metadata": {},
   "outputs": [
    {
     "data": {
      "text/plain": [
       "0"
      ]
     },
     "execution_count": 6,
     "metadata": {},
     "output_type": "execute_result"
    }
   ],
   "source": [
    "actor_net = ActorNetwork(input_dim, hidden_dim, output_dim)\n",
    "critic_net = Critic(input_dim, hidden_dim)\n",
    "actor_optimizer = optim.AdamW(actor_net.parameters(), lr=learning_rate)\n",
    "critic_optimizer = optim.AdamW(critic_net.parameters(), lr=learning_rate)\n",
    "avg_rewards = []\n",
    "\n",
    "if continue_train:\n",
    "    if os.path.exists(actor_model_path) and os.path.exists(critic_model_path) and os.path.exists(avg_path):\n",
    "        actor_net.load_state_dict(T.load(actor_model_path))\n",
    "        actor_net.to(actor_net.device)\n",
    "        critic_net.load_state_dict(T.load(critic_model_path))\n",
    "        critic_net.to(critic_net.device)\n",
    "        with open(avg_path, \"rb\") as f:\n",
    "            avg_rewards = pickle.load(f)\n",
    "len(avg_rewards)"
   ]
  },
  {
   "cell_type": "markdown",
   "metadata": {},
   "source": [
    "### 6.开始训练"
   ]
  },
  {
   "cell_type": "code",
   "execution_count": 7,
   "metadata": {},
   "outputs": [
    {
     "name": "stderr",
     "output_type": "stream",
     "text": [
      "/home/pp/anaconda3/envs/py310/lib/python3.10/site-packages/gym/utils/passive_env_checker.py:233: DeprecationWarning: `np.bool8` is a deprecated alias for `np.bool_`.  (Deprecated NumPy 1.24)\n",
      "  if not isinstance(terminated, (bool, np.bool8)):\n",
      "/tmp/ipykernel_64400/3923093059.py:52: UserWarning: Creating a tensor from a list of numpy.ndarrays is extremely slow. Please consider converting the list to a single numpy.ndarray with numpy.array() before converting to a tensor. (Triggered internally at /opt/conda/conda-bld/pytorch_1729647327489/work/torch/csrc/utils/tensor_new.cpp:278.)\n",
      "  states = T.tensor(states, dtype=T.float32).to(actor_net.device)\n",
      "/tmp/ipykernel_64400/3983154946.py:12: UserWarning: To copy construct from a tensor, it is recommended to use sourceTensor.clone().detach() or sourceTensor.clone().detach().requires_grad_(True), rather than torch.tensor(sourceTensor).\n",
      "  x = T.tensor(x, dtype=T.float32).to(self.device)\n",
      "/tmp/ipykernel_64400/1430761052.py:11: UserWarning: To copy construct from a tensor, it is recommended to use sourceTensor.clone().detach() or sourceTensor.clone().detach().requires_grad_(True), rather than torch.tensor(sourceTensor).\n",
      "  x = T.tensor(x, dtype=T.float32).to(self.device)\n"
     ]
    },
    {
     "name": "stdout",
     "output_type": "stream",
     "text": [
      "Episode 50, Current Reward:98.0, Avg Reward: 44.66\n",
      "Episode 100, Current Reward:122.0, Avg Reward: 158.16\n"
     ]
    },
    {
     "name": "stderr",
     "output_type": "stream",
     "text": [
      "/tmp/ipykernel_64400/3923093059.py:87: UserWarning: Using a target size (torch.Size([1])) that is different to the input size (torch.Size([])). This will likely lead to incorrect results due to broadcasting. Please ensure they have the same size.\n",
      "  critic_loss = F.mse_loss(new_values, mb_returns)\n"
     ]
    },
    {
     "name": "stdout",
     "output_type": "stream",
     "text": [
      "Episode 150, Current Reward:253.0, Avg Reward: 242.38\n",
      "Episode 200, Current Reward:108.0, Avg Reward: 151.52\n",
      "to save model and avg_rewards 4\n",
      "Episode 250, Current Reward:125.0, Avg Reward: 166.14\n",
      "Episode 300, Current Reward:471.0, Avg Reward: 297.66\n",
      "Episode 350, Current Reward:500.0, Avg Reward: 400.46\n",
      "Episode 400, Current Reward:420.0, Avg Reward: 376.04\n",
      "to save model and avg_rewards 8\n",
      "Episode 450, Current Reward:346.0, Avg Reward: 421.48\n",
      "Episode 500, Current Reward:500.0, Avg Reward: 448.96\n",
      "Episode 550, Current Reward:302.0, Avg Reward: 369.9\n",
      "Episode 600, Current Reward:345.0, Avg Reward: 327.54\n",
      "to save model and avg_rewards 12\n",
      "Episode 650, Current Reward:389.0, Avg Reward: 359.94\n",
      "Episode 700, Current Reward:500.0, Avg Reward: 457.82\n",
      "Episode 750, Current Reward:341.0, Avg Reward: 401.08\n",
      "Episode 800, Current Reward:445.0, Avg Reward: 408.4\n",
      "to save model and avg_rewards 16\n",
      "Episode 850, Current Reward:188.0, Avg Reward: 355.86\n",
      "Episode 900, Current Reward:498.0, Avg Reward: 329.74\n",
      "Episode 950, Current Reward:292.0, Avg Reward: 407.98\n",
      "Episode 1000, Current Reward:204.0, Avg Reward: 279.24\n",
      "to save model and avg_rewards 20\n",
      "Episode 1050, Current Reward:329.0, Avg Reward: 270.6\n",
      "Episode 1100, Current Reward:360.0, Avg Reward: 341.18\n",
      "Episode 1150, Current Reward:9.0, Avg Reward: 313.6\n",
      "Episode 1200, Current Reward:8.0, Avg Reward: 9.52\n",
      "to save model and avg_rewards 24\n",
      "Episode 1250, Current Reward:10.0, Avg Reward: 9.48\n",
      "Episode 1300, Current Reward:10.0, Avg Reward: 9.54\n",
      "Episode 1350, Current Reward:294.0, Avg Reward: 132.26\n",
      "Episode 1400, Current Reward:289.0, Avg Reward: 269.62\n",
      "to save model and avg_rewards 28\n",
      "Episode 1450, Current Reward:500.0, Avg Reward: 384.9\n",
      "Episode 1500, Current Reward:500.0, Avg Reward: 456.44\n",
      "Episode 1550, Current Reward:296.0, Avg Reward: 315.78\n",
      "Episode 1600, Current Reward:500.0, Avg Reward: 424.58\n",
      "to save model and avg_rewards 32\n",
      "Episode 1650, Current Reward:306.0, Avg Reward: 475.14\n",
      "Episode 1700, Current Reward:467.0, Avg Reward: 279.58\n",
      "Episode 1750, Current Reward:264.0, Avg Reward: 439.12\n",
      "Episode 1800, Current Reward:500.0, Avg Reward: 404.38\n",
      "to save model and avg_rewards 36\n",
      "Episode 1850, Current Reward:378.0, Avg Reward: 445.22\n",
      "Episode 1900, Current Reward:352.0, Avg Reward: 365.16\n",
      "Episode 1950, Current Reward:323.0, Avg Reward: 381.96\n",
      "Episode 2000, Current Reward:269.0, Avg Reward: 336.88\n",
      "to save model and avg_rewards 40\n",
      "Episode 2050, Current Reward:316.0, Avg Reward: 324.96\n",
      "Episode 2100, Current Reward:395.0, Avg Reward: 363.26\n",
      "Episode 2150, Current Reward:441.0, Avg Reward: 489.26\n",
      "Episode 2200, Current Reward:500.0, Avg Reward: 381.42\n",
      "to save model and avg_rewards 44\n",
      "Episode 2250, Current Reward:164.0, Avg Reward: 302.76\n",
      "Episode 2300, Current Reward:217.0, Avg Reward: 175.16\n",
      "Episode 2350, Current Reward:452.0, Avg Reward: 234.28\n",
      "Episode 2400, Current Reward:217.0, Avg Reward: 231.24\n",
      "to save model and avg_rewards 48\n",
      "Episode 2450, Current Reward:500.0, Avg Reward: 341.72\n",
      "Episode 2500, Current Reward:500.0, Avg Reward: 500.0\n",
      "Episode 2550, Current Reward:500.0, Avg Reward: 475.5\n"
     ]
    }
   ],
   "source": [
    "record_rewards = []\n",
    "for episode in range(1, num_episodes + 1):\n",
    "    states, actions, rewards, dones, log_probs, values = [], [], [], [], [], []\n",
    "    episode_reward = 0\n",
    "    state = env.reset()[0]\n",
    "\n",
    "    # 采集一批数据（Rollout）\n",
    "    for _ in range(1000):  # 设置最大步长\n",
    "        # Actor 网络输出动作概率\n",
    "        probs = actor_net(state)\n",
    "        m = Categorical(probs)\n",
    "        action = m.sample()\n",
    "\n",
    "        # 记录数据\n",
    "        log_prob = m.log_prob(action)\n",
    "        value = critic_net(state)\n",
    "\n",
    "        next_state, reward, terminated, truncated, info = env.step(action.item())\n",
    "        done = bool(terminated) or bool(truncated)\n",
    "\n",
    "        # 保存数据用于批量更新\n",
    "        states.append(state)\n",
    "        actions.append(action)\n",
    "        rewards.append(reward)\n",
    "        dones.append(done)\n",
    "        # log_probs.append(log_prob)\n",
    "        # values.append(value)\n",
    "\n",
    "        log_probs.append(log_prob.detach())\n",
    "        values.append(value.detach())\n",
    "\n",
    "        episode_reward += reward\n",
    "\n",
    "        if done:\n",
    "            break\n",
    "        state = next_state\n",
    "\n",
    "    # 计算优势估计 (Generalized Advantage Estimation)\n",
    "    values = values + [critic_net(state)]  # 包括最后一个状态值\n",
    "    advantages, returns = [], []\n",
    "    gae = 0\n",
    "    for t in reversed(range(len(rewards))):\n",
    "        if dones[t]:\n",
    "            delta = rewards[t] - values[t]\n",
    "        else:\n",
    "            delta = rewards[t] + gamma * values[t + 1] - values[t]\n",
    "        gae = delta + gamma * gae_lambda * gae\n",
    "        advantages.insert(0, gae)\n",
    "        returns.insert(0, gae + values[t])\n",
    "\n",
    "    # 转为张量\n",
    "    states = T.tensor(states, dtype=T.float32).to(actor_net.device)\n",
    "    actions = T.tensor(actions, dtype=T.long).to(actor_net.device)\n",
    "    log_probs = T.stack(log_probs).to(actor_net.device)\n",
    "    returns = T.tensor(returns, dtype=T.float32).to(actor_net.device)\n",
    "    advantages = T.tensor(advantages, dtype=T.float32).to(actor_net.device)\n",
    "    # 标准化优势\n",
    "    advantages = (advantages - advantages.mean()) / (advantages.std() + 1e-8)\n",
    "\n",
    "    # 多次小批量优化（Epoch Update）\n",
    "    for _ in range(ppo_epochs):\n",
    "        indices = T.randperm(len(states))  # 随机小批量\n",
    "        for start in range(0, len(states), batch_size):\n",
    "            end = start + batch_size\n",
    "            minibatch_indices = indices[start:end]\n",
    "\n",
    "            # 取小批量数据\n",
    "            mb_states = states[minibatch_indices]\n",
    "            mb_actions = actions[minibatch_indices]\n",
    "            mb_log_probs = log_probs[minibatch_indices]\n",
    "            mb_returns = returns[minibatch_indices]\n",
    "            mb_advantages = advantages[minibatch_indices]\n",
    "\n",
    "            # 重新计算策略比率和价值\n",
    "            new_probs = actor_net(mb_states)\n",
    "            new_m = Categorical(new_probs)\n",
    "            new_log_probs = new_m.log_prob(mb_actions)\n",
    "            ratio = T.exp(new_log_probs - mb_log_probs)  # 策略比率 r_t\n",
    "\n",
    "            # 计算 Clipped Actor Loss\n",
    "            surr1 = ratio * mb_advantages\n",
    "            surr2 = T.clamp(ratio, 1 - clip_epsilon, 1 + clip_epsilon) * mb_advantages\n",
    "            actor_loss = -T.min(surr1, surr2).mean()\n",
    "\n",
    "            # 计算 Critic Loss\n",
    "            new_values = critic_net(mb_states).squeeze()\n",
    "            critic_loss = F.mse_loss(new_values, mb_returns)\n",
    "\n",
    "            # 总损失\n",
    "            loss = actor_loss + critic_coef * critic_loss\n",
    "\n",
    "            # 优化网络\n",
    "            actor_optimizer.zero_grad()\n",
    "            critic_optimizer.zero_grad()\n",
    "\n",
    "            loss.backward()\n",
    "            T.nn.utils.clip_grad_norm_(actor_net.parameters(), max_grad_norm)\n",
    "            T.nn.utils.clip_grad_norm_(critic_net.parameters(), max_grad_norm)\n",
    "            actor_optimizer.step()\n",
    "            critic_optimizer.step()\n",
    "\n",
    "    # 记录奖励\n",
    "    record_rewards.append(episode_reward)\n",
    "\n",
    "    # 输出训练进度\n",
    "    if episode % avg_episode == 0:\n",
    "        avg_reward = sum(record_rewards[-avg_episode:]) / avg_episode\n",
    "        avg_rewards.append(avg_reward)\n",
    "        if episode % print_episode == 0:\n",
    "            print(\n",
    "                f\"Episode {episode}, Current Reward:{record_rewards[-1]}, Avg Reward: {avg_reward}\"\n",
    "            )\n",
    "        if episode % save_episode == 0:\n",
    "            print(f\"to save model and avg_rewards {len(avg_rewards)}\")\n",
    "            T.save(actor_net.state_dict(), actor_model_path)\n",
    "            T.save(critic_net.state_dict(), critic_model_path)\n",
    "            with open(avg_path, \"wb\") as f:\n",
    "                pickle.dump(avg_rewards, f)\n"
   ]
  },
  {
   "cell_type": "code",
   "execution_count": 8,
   "metadata": {},
   "outputs": [
    {
     "data": {
      "image/png": "[encoded data removed]",
      "text/plain": [
       "<Figure size 640x480 with 1 Axes>"
      ]
     },
     "metadata": {},
     "output_type": "display_data"
    }
   ],
   "source": [
    "# 绘制得分变化图\n",
    "plt.plot(range(1, len(avg_rewards) + 1), avg_rewards)\n",
    "plt.xlabel(\"Episode\")\n",
    "plt.ylabel(\"Avg Reward\")\n",
    "plt.title(f\"Avg Reward over Episodes x{avg_episode}\")\n",
    "plt.show()"
   ]
  },
  {
   "cell_type": "code",
   "execution_count": null,
   "metadata": {},
   "outputs": [],
   "source": []
  },
  {
   "cell_type": "code",
   "execution_count": 10,
   "metadata": {},
   "outputs": [],
   "source": []
  }
 ],
 "metadata": {
  "kernelspec": {
   "display_name": "py310",
   "language": "python",
   "name": "python3"
  },
  "language_info": {
   "codemirror_mode": {
    "name": "ipython",
    "version": 3
   },
   "file_extension": ".py",
   "mimetype": "text/x-python",
   "name": "python",
   "nbconvert_exporter": "python",
   "pygments_lexer": "ipython3",
   "version": "3.10.15"
  }
 },
 "nbformat": 4,
 "nbformat_minor": 2
}
