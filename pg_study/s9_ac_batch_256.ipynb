{
 "cells": [
  {
   "cell_type": "markdown",
   "metadata": {},
   "source": [
    "### 1.包导入"
   ]
  },
  {
   "cell_type": "code",
   "execution_count": 1,
   "metadata": {},
   "outputs": [],
   "source": [
    "import gym\n",
    "import torch as T\n",
    "import torch.nn.functional as F\n",
    "import torch.nn as nn\n",
    "import torch.optim as optim\n",
    "from torch.distributions import Categorical\n",
    "import numpy as np\n",
    "import pickle\n",
    "import os\n",
    "import matplotlib.pyplot as plt"
   ]
  },
  {
   "cell_type": "markdown",
   "metadata": {},
   "source": [
    "### 2.环境尝试"
   ]
  },
  {
   "cell_type": "code",
   "execution_count": 2,
   "metadata": {},
   "outputs": [
    {
     "data": {
      "text/plain": [
       "(array([-0.01155376, -0.22366376, -0.03782952,  0.29701212], dtype=float32),\n",
       " 1.0,\n",
       " False,\n",
       " False,\n",
       " {})"
      ]
     },
     "execution_count": 2,
     "metadata": {},
     "output_type": "execute_result"
    }
   ],
   "source": [
    "env = gym.make(\"CartPole-v1\")\n",
    "env.reset()\n",
    "env.step(0)"
   ]
  },
  {
   "cell_type": "markdown",
   "metadata": {},
   "source": [
    "### 3.定义 Actor 网络"
   ]
  },
  {
   "cell_type": "code",
   "execution_count": 3,
   "metadata": {},
   "outputs": [],
   "source": [
    "# 定义策略网络\n",
    "class ActorNetwork(nn.Module):\n",
    "    def __init__(self, input_dim, hidden_dim, output_dim):\n",
    "        super(ActorNetwork, self).__init__()\n",
    "        self.fc1 = nn.Linear(input_dim, hidden_dim)\n",
    "        self.fc2 = nn.Linear(hidden_dim, hidden_dim)\n",
    "        self.fc3 = nn.Linear(hidden_dim, output_dim)\n",
    "        self.device = T.device(\"cuda\" if T.cuda.is_available() else \"cpu\")\n",
    "        self.to(self.device)\n",
    "\n",
    "    def forward(self, x):\n",
    "        x = T.tensor(x, dtype=T.float32).to(self.device)\n",
    "        layer1 = T.relu(self.fc1(x))\n",
    "        layer2 = T.relu(self.fc2(layer1))\n",
    "        p = T.softmax(self.fc3(layer2), dim=-1)\n",
    "        return p"
   ]
  },
  {
   "cell_type": "markdown",
   "metadata": {},
   "source": [
    "### 4. 定义 Critic 网络"
   ]
  },
  {
   "cell_type": "code",
   "execution_count": 4,
   "metadata": {},
   "outputs": [],
   "source": [
    "class Critic(nn.Module):\n",
    "    def __init__(self, input_dim, hidden_dim):\n",
    "        super(Critic, self).__init__()\n",
    "        self.fc1 = nn.Linear(input_dim, hidden_dim)\n",
    "        self.fc2 = nn.Linear(hidden_dim, hidden_dim)\n",
    "        self.fc3 = nn.Linear(hidden_dim, 1)\n",
    "        self.device = T.device(\"cuda\" if T.cuda.is_available() else \"cpu\")\n",
    "        self.to(self.device)\n",
    "\n",
    "    def forward(self, x):\n",
    "        x = T.tensor(x, dtype=T.float32).to(self.device)\n",
    "        layer1 = T.relu(self.fc1(x))\n",
    "        layer2 = T.relu(self.fc2(layer1))\n",
    "        value = self.fc3(layer2)\n",
    "        return value\n"
   ]
  },
  {
   "cell_type": "markdown",
   "metadata": {},
   "source": [
    "### 5.设置环境和超参数"
   ]
  },
  {
   "cell_type": "code",
   "execution_count": 5,
   "metadata": {},
   "outputs": [],
   "source": [
    "# 设置环境\n",
    "env = gym.make(\"CartPole-v1\")\n",
    "input_dim = env.observation_space.shape[0]  # 输入维度\n",
    "hidden_dim = 256\n",
    "output_dim = env.action_space.n  # 输出维度\n",
    "# 设置超参数\n",
    "batch_size = 10  # 设置每次更新的轨迹数量\n",
    "gamma = 0.9  # 奖励折扣因子\n",
    "avg_episode = 50\n",
    "save_episode = 200\n",
    "print_episode = 50\n",
    "clip_norm = 100\n",
    "continue_train = True\n",
    "num_episodes = 5000\n",
    "learning_rate = 1e-4\n",
    "\n",
    "# 学习进度保存路径\n",
    "actor_model_path = \"./save/s9_actor_net.pth\"\n",
    "critic_model_path = \"./save/s9_critic_net.pth\"\n",
    "avg_path = \"./save/s9_avg_rewards.pth\""
   ]
  },
  {
   "cell_type": "code",
   "execution_count": 6,
   "metadata": {},
   "outputs": [
    {
     "data": {
      "text/plain": [
       "0"
      ]
     },
     "execution_count": 6,
     "metadata": {},
     "output_type": "execute_result"
    }
   ],
   "source": [
    "actor_net = ActorNetwork(input_dim, hidden_dim, output_dim)\n",
    "critic_net = Critic(input_dim, hidden_dim)\n",
    "actor_optimizer = optim.AdamW(actor_net.parameters(), lr=learning_rate)\n",
    "critic_optimizer = optim.AdamW(critic_net.parameters(), lr=learning_rate)\n",
    "avg_rewards = []\n",
    "\n",
    "if continue_train:\n",
    "    if os.path.exists(actor_model_path) and os.path.exists(critic_model_path) and os.path.exists(avg_path):\n",
    "        actor_net.load_state_dict(T.load(actor_model_path))\n",
    "        actor_net.to(actor_net.device)\n",
    "        critic_net.load_state_dict(T.load(critic_model_path))\n",
    "        critic_net.to(critic_net.device)\n",
    "        with open(avg_path, \"rb\") as f:\n",
    "            avg_rewards = pickle.load(f)\n",
    "len(avg_rewards)"
   ]
  },
  {
   "cell_type": "markdown",
   "metadata": {},
   "source": [
    "### 6.开始训练"
   ]
  },
  {
   "cell_type": "code",
   "execution_count": 7,
   "metadata": {},
   "outputs": [
    {
     "name": "stdout",
     "output_type": "stream",
     "text": [
      "Episode 50, Current Reward:13.0, Avg Reward: 26.14\n",
      "Episode 100, Current Reward:29.0, Avg Reward: 22.22\n",
      "Episode 150, Current Reward:42.0, Avg Reward: 23.64\n",
      "Episode 200, Current Reward:13.0, Avg Reward: 27.92\n",
      "to save model and avg_rewards 4\n",
      "Episode 250, Current Reward:34.0, Avg Reward: 19.1\n",
      "Episode 300, Current Reward:63.0, Avg Reward: 22.84\n",
      "Episode 350, Current Reward:11.0, Avg Reward: 25.62\n",
      "Episode 400, Current Reward:13.0, Avg Reward: 22.28\n",
      "to save model and avg_rewards 8\n",
      "Episode 450, Current Reward:18.0, Avg Reward: 20.4\n",
      "Episode 500, Current Reward:11.0, Avg Reward: 20.38\n",
      "Episode 550, Current Reward:47.0, Avg Reward: 18.98\n",
      "Episode 600, Current Reward:61.0, Avg Reward: 21.86\n",
      "to save model and avg_rewards 12\n",
      "Episode 650, Current Reward:16.0, Avg Reward: 17.28\n",
      "Episode 700, Current Reward:10.0, Avg Reward: 18.32\n",
      "Episode 750, Current Reward:13.0, Avg Reward: 16.6\n",
      "Episode 800, Current Reward:21.0, Avg Reward: 19.0\n",
      "to save model and avg_rewards 16\n",
      "Episode 850, Current Reward:10.0, Avg Reward: 18.66\n",
      "Episode 900, Current Reward:16.0, Avg Reward: 20.08\n",
      "Episode 950, Current Reward:22.0, Avg Reward: 19.12\n",
      "Episode 1000, Current Reward:10.0, Avg Reward: 18.14\n",
      "to save model and avg_rewards 20\n",
      "Episode 1050, Current Reward:13.0, Avg Reward: 17.36\n",
      "Episode 1100, Current Reward:10.0, Avg Reward: 19.96\n",
      "Episode 1150, Current Reward:15.0, Avg Reward: 20.98\n",
      "Episode 1200, Current Reward:13.0, Avg Reward: 21.88\n",
      "to save model and avg_rewards 24\n",
      "Episode 1250, Current Reward:20.0, Avg Reward: 20.56\n",
      "Episode 1300, Current Reward:16.0, Avg Reward: 26.02\n",
      "Episode 1350, Current Reward:22.0, Avg Reward: 23.98\n",
      "Episode 1400, Current Reward:20.0, Avg Reward: 28.72\n",
      "to save model and avg_rewards 28\n",
      "Episode 1450, Current Reward:25.0, Avg Reward: 24.78\n",
      "Episode 1500, Current Reward:27.0, Avg Reward: 28.82\n",
      "Episode 1550, Current Reward:38.0, Avg Reward: 28.82\n",
      "Episode 1600, Current Reward:16.0, Avg Reward: 35.08\n",
      "to save model and avg_rewards 32\n",
      "Episode 1650, Current Reward:24.0, Avg Reward: 30.6\n",
      "Episode 1700, Current Reward:36.0, Avg Reward: 35.38\n",
      "Episode 1750, Current Reward:39.0, Avg Reward: 40.72\n",
      "Episode 1800, Current Reward:16.0, Avg Reward: 39.36\n",
      "to save model and avg_rewards 36\n",
      "Episode 1850, Current Reward:65.0, Avg Reward: 44.16\n",
      "Episode 1900, Current Reward:39.0, Avg Reward: 49.4\n",
      "Episode 1950, Current Reward:59.0, Avg Reward: 45.12\n",
      "Episode 2000, Current Reward:66.0, Avg Reward: 52.4\n",
      "to save model and avg_rewards 40\n",
      "Episode 2050, Current Reward:41.0, Avg Reward: 52.3\n",
      "Episode 2100, Current Reward:46.0, Avg Reward: 56.54\n",
      "Episode 2150, Current Reward:51.0, Avg Reward: 50.34\n",
      "Episode 2200, Current Reward:29.0, Avg Reward: 61.04\n",
      "to save model and avg_rewards 44\n",
      "Episode 2250, Current Reward:141.0, Avg Reward: 66.64\n",
      "Episode 2300, Current Reward:105.0, Avg Reward: 75.28\n",
      "Episode 2350, Current Reward:26.0, Avg Reward: 83.2\n",
      "Episode 2400, Current Reward:140.0, Avg Reward: 98.24\n",
      "to save model and avg_rewards 48\n",
      "Episode 2450, Current Reward:127.0, Avg Reward: 89.76\n",
      "Episode 2500, Current Reward:56.0, Avg Reward: 102.58\n",
      "Episode 2550, Current Reward:84.0, Avg Reward: 104.48\n",
      "Episode 2600, Current Reward:87.0, Avg Reward: 110.1\n",
      "to save model and avg_rewards 52\n",
      "Episode 2650, Current Reward:72.0, Avg Reward: 127.92\n",
      "Episode 2700, Current Reward:123.0, Avg Reward: 142.96\n",
      "Episode 2750, Current Reward:172.0, Avg Reward: 142.72\n",
      "Episode 2800, Current Reward:134.0, Avg Reward: 101.04\n",
      "to save model and avg_rewards 56\n",
      "Episode 2850, Current Reward:89.0, Avg Reward: 60.12\n",
      "Episode 2900, Current Reward:63.0, Avg Reward: 71.2\n",
      "Episode 2950, Current Reward:147.0, Avg Reward: 96.3\n",
      "Episode 3000, Current Reward:195.0, Avg Reward: 163.0\n",
      "to save model and avg_rewards 60\n",
      "Episode 3050, Current Reward:162.0, Avg Reward: 172.52\n",
      "Episode 3100, Current Reward:142.0, Avg Reward: 193.08\n",
      "Episode 3150, Current Reward:148.0, Avg Reward: 186.36\n",
      "Episode 3200, Current Reward:150.0, Avg Reward: 200.38\n",
      "to save model and avg_rewards 64\n",
      "Episode 3250, Current Reward:257.0, Avg Reward: 221.32\n",
      "Episode 3300, Current Reward:223.0, Avg Reward: 206.58\n",
      "Episode 3350, Current Reward:443.0, Avg Reward: 249.78\n",
      "Episode 3400, Current Reward:224.0, Avg Reward: 228.54\n",
      "to save model and avg_rewards 68\n",
      "Episode 3450, Current Reward:243.0, Avg Reward: 240.56\n",
      "Episode 3500, Current Reward:142.0, Avg Reward: 253.96\n",
      "Episode 3550, Current Reward:157.0, Avg Reward: 261.76\n",
      "Episode 3600, Current Reward:429.0, Avg Reward: 284.36\n",
      "to save model and avg_rewards 72\n",
      "Episode 3650, Current Reward:445.0, Avg Reward: 266.1\n",
      "Episode 3700, Current Reward:249.0, Avg Reward: 302.98\n",
      "Episode 3750, Current Reward:202.0, Avg Reward: 343.1\n",
      "Episode 3800, Current Reward:407.0, Avg Reward: 340.22\n",
      "to save model and avg_rewards 76\n",
      "Episode 3850, Current Reward:300.0, Avg Reward: 290.54\n",
      "Episode 3900, Current Reward:467.0, Avg Reward: 340.96\n",
      "Episode 3950, Current Reward:390.0, Avg Reward: 383.88\n",
      "Episode 4000, Current Reward:500.0, Avg Reward: 352.88\n",
      "to save model and avg_rewards 80\n",
      "Episode 4050, Current Reward:265.0, Avg Reward: 323.94\n",
      "Episode 4100, Current Reward:345.0, Avg Reward: 289.8\n",
      "Episode 4150, Current Reward:500.0, Avg Reward: 324.88\n",
      "Episode 4200, Current Reward:414.0, Avg Reward: 326.2\n",
      "to save model and avg_rewards 84\n",
      "Episode 4250, Current Reward:204.0, Avg Reward: 351.66\n",
      "Episode 4300, Current Reward:413.0, Avg Reward: 307.36\n",
      "Episode 4350, Current Reward:247.0, Avg Reward: 287.74\n",
      "Episode 4400, Current Reward:389.0, Avg Reward: 259.08\n",
      "to save model and avg_rewards 88\n",
      "Episode 4450, Current Reward:357.0, Avg Reward: 276.94\n",
      "Episode 4500, Current Reward:401.0, Avg Reward: 276.08\n",
      "Episode 4550, Current Reward:500.0, Avg Reward: 295.4\n",
      "Episode 4600, Current Reward:262.0, Avg Reward: 272.88\n",
      "to save model and avg_rewards 92\n",
      "Episode 4650, Current Reward:332.0, Avg Reward: 302.2\n",
      "Episode 4700, Current Reward:289.0, Avg Reward: 275.06\n",
      "Episode 4750, Current Reward:403.0, Avg Reward: 279.32\n",
      "Episode 4800, Current Reward:288.0, Avg Reward: 306.38\n",
      "to save model and avg_rewards 96\n",
      "Episode 4850, Current Reward:266.0, Avg Reward: 291.92\n",
      "Episode 4900, Current Reward:412.0, Avg Reward: 275.52\n",
      "Episode 4950, Current Reward:194.0, Avg Reward: 270.18\n",
      "Episode 5000, Current Reward:264.0, Avg Reward: 273.52\n",
      "to save model and avg_rewards 100\n"
     ]
    }
   ],
   "source": [
    "# 开始训练\n",
    "record_rewards = []\n",
    "for episode in range(1, num_episodes + 1):\n",
    "    total_reward = []\n",
    "    episode_reward = 0\n",
    "    state = env.reset()[0]\n",
    "\n",
    "\n",
    "    for _ in range(1000):# 设置最大步长\n",
    "        probs = actor_net(state)\n",
    "        m = Categorical(probs)\n",
    "        action = m.sample()\n",
    "        next_state, reward, terminated, truncated, info = env.step(action.item())\n",
    "\n",
    "        done = bool(terminated) or bool(truncated)\n",
    "\n",
    "        episode_reward += reward\n",
    "\n",
    "        # Critic 估计当前状态值\n",
    "        value = critic_net(state)\n",
    "        next_state_value = critic_net(next_state)\n",
    "\n",
    "        # 计算 TD 误差和优势，如果终止，则忽略下一状态\n",
    "        td_target = reward + gamma * next_state_value * (1 - int(done))\n",
    "        td_error = td_target - value\n",
    "\n",
    "        # Critic 网络更新\n",
    "        critic_loss = td_error.pow(2)/batch_size\n",
    "        critic_loss.backward()  \n",
    "\n",
    "        # Actor 网络更新\n",
    "        actor_loss = -m.log_prob(action) * td_error.detach()/batch_size # 用detach()切断梯度,避免actor网络更新影响Critic网络更新    \n",
    "        actor_loss.backward()\n",
    "\n",
    "        if done:\n",
    "            break\n",
    "        else:\n",
    "            state = next_state\n",
    "\n",
    "    if episode % batch_size == 0: \n",
    "        critic_optimizer.step()\n",
    "        actor_optimizer.step()\n",
    "        critic_optimizer.zero_grad()\n",
    "        actor_optimizer.zero_grad()\n",
    "\n",
    "\n",
    "    record_rewards.append(episode_reward)\n",
    "\n",
    "    # 输出训练进度\n",
    "    if episode % avg_episode == 0:\n",
    "        avg_reward = sum(record_rewards[-avg_episode:]) / avg_episode\n",
    "        avg_rewards.append(avg_reward)\n",
    "        if episode % print_episode == 0:\n",
    "            print(\n",
    "                f\"Episode {episode}, Current Reward:{record_rewards[-1]}, Avg Reward: {avg_reward}\"\n",
    "            )\n",
    "        if episode % save_episode == 0:\n",
    "            print(f\"to save model and avg_rewards {len(avg_rewards)}\")\n",
    "            T.save(actor_net.state_dict(), actor_model_path)\n",
    "            T.save(critic_net.state_dict(), critic_model_path)\n",
    "            with open(avg_path, \"wb\") as f:\n",
    "                pickle.dump(avg_rewards, f)"
   ]
  },
  {
   "cell_type": "code",
   "execution_count": 8,
   "metadata": {},
   "outputs": [
    {
     "data": {
      "image/png": "[encoded data removed]",
      "text/plain": [
       "<Figure size 640x480 with 1 Axes>"
      ]
     },
     "metadata": {},
     "output_type": "display_data"
    }
   ],
   "source": [
    "# 绘制得分变化图\n",
    "plt.plot(range(1, len(avg_rewards) + 1), avg_rewards)\n",
    "plt.xlabel(\"Episode\")\n",
    "plt.ylabel(\"Avg Reward\")\n",
    "plt.title(f\"Avg Reward over Episodes x{avg_episode}\")\n",
    "plt.show()"
   ]
  },
  {
   "cell_type": "code",
   "execution_count": null,
   "metadata": {},
   "outputs": [],
   "source": []
  },
  {
   "cell_type": "code",
   "execution_count": 10,
   "metadata": {},
   "outputs": [],
   "source": []
  }
 ],
 "metadata": {
  "kernelspec": {
   "display_name": "py310",
   "language": "python",
   "name": "python3"
  },
  "language_info": {
   "codemirror_mode": {
    "name": "ipython",
    "version": 3
   },
   "file_extension": ".py",
   "mimetype": "text/x-python",
   "name": "python",
   "nbconvert_exporter": "python",
   "pygments_lexer": "ipython3",
   "version": "3.10.15"
  }
 },
 "nbformat": 4,
 "nbformat_minor": 2
}
