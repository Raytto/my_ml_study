{
 "cells": [
  {
   "cell_type": "markdown",
   "metadata": {},
   "source": [
    "### 1.包导入"
   ]
  },
  {
   "cell_type": "code",
   "execution_count": 1,
   "metadata": {},
   "outputs": [],
   "source": [
    "import gym\n",
    "import torch as T\n",
    "import torch.nn.functional as F\n",
    "import torch.nn as nn\n",
    "import torch.optim as optim\n",
    "from torch.distributions import Categorical\n",
    "import numpy as np\n",
    "import pickle"
   ]
  },
  {
   "cell_type": "markdown",
   "metadata": {},
   "source": [
    "### 2.环境尝试"
   ]
  },
  {
   "cell_type": "code",
   "execution_count": 2,
   "metadata": {},
   "outputs": [
    {
     "data": {
      "text/plain": [
       "(array([-0.02523658, -0.19744457,  0.01249356,  0.2953384 ], dtype=float32),\n",
       " 1.0,\n",
       " False,\n",
       " False,\n",
       " {})"
      ]
     },
     "execution_count": 2,
     "metadata": {},
     "output_type": "execute_result"
    }
   ],
   "source": [
    "env = gym.make('CartPole-v1')\n",
    "env.reset()\n",
    "env.step(0)\n"
   ]
  },
  {
   "cell_type": "markdown",
   "metadata": {},
   "source": [
    "### 3.定义策略网络"
   ]
  },
  {
   "cell_type": "code",
   "execution_count": 3,
   "metadata": {},
   "outputs": [],
   "source": [
    "# 定义策略网络\n",
    "class PolicyNetwork(nn.Module):\n",
    "    def __init__(self, input_dim, output_dim):\n",
    "        super(PolicyNetwork, self).__init__()\n",
    "        self.fc1 = nn.Linear(input_dim, 128)\n",
    "        self.fc2 = nn.Linear(128, 128)   # 隐藏层\n",
    "        self.fc3 = nn.Linear(128, output_dim)  # 输出动作概率\n",
    "        self.device = T.device(\"cuda\" if T.cuda.is_available() else \"cpu\")\n",
    "        self.to(self.device)\n",
    "        \n",
    "    def forward(self, x):\n",
    "        x = T.tensor(x, dtype=T.float32).to(self.device) \n",
    "        layer1 = T.relu(self.fc1(x))\n",
    "        layer2 = T.relu(self.fc2(layer1))\n",
    "        p = T.softmax(self.fc3(layer2), dim=-1)\n",
    "        return p"
   ]
  },
  {
   "cell_type": "code",
   "execution_count": null,
   "metadata": {},
   "outputs": [],
   "source": []
  },
  {
   "cell_type": "code",
   "execution_count": null,
   "metadata": {},
   "outputs": [],
   "source": []
  },
  {
   "cell_type": "markdown",
   "metadata": {},
   "source": [
    "### 4.计算折扣奖励函数"
   ]
  },
  {
   "cell_type": "code",
   "execution_count": 4,
   "metadata": {},
   "outputs": [],
   "source": [
    "# 计算折扣奖励\n",
    "def compute_returns(rewards, gamma):\n",
    "    returns = []\n",
    "    G = 0\n",
    "    for r in reversed(rewards):\n",
    "        G = r + gamma * G\n",
    "        returns.insert(0, G)\n",
    "    return returns"
   ]
  },
  {
   "cell_type": "markdown",
   "metadata": {},
   "source": [
    "### 5.设置环境和超参数"
   ]
  },
  {
   "cell_type": "code",
   "execution_count": 5,
   "metadata": {},
   "outputs": [],
   "source": [
    "# 设置环境和超参数\n",
    "env = gym.make('CartPole-v1')\n",
    "input_dim = env.observation_space.shape[0]  # 输入维度\n",
    "output_dim = env.action_space.n             # 输出维度\n",
    "policy_net = PolicyNetwork(input_dim, output_dim)\n",
    "optimizer = optim.AdamW(policy_net.parameters(), lr=0.00001)\n",
    "gamma = 0.9  # 折扣因子\n",
    "avg_episode = 50\n",
    "save_episode = 500\n",
    "print_episode = 100\n",
    "\n",
    "# 学习进度保存路径\n",
    "model_path = \"./save/s1_policy_net.pth\"\n",
    "avg_path = \"./save/s1_avg_rewards.pth\""
   ]
  },
  {
   "cell_type": "code",
   "execution_count": 6,
   "metadata": {},
   "outputs": [
    {
     "name": "stderr",
     "output_type": "stream",
     "text": [
      "/tmp/ipykernel_27990/3549617412.py:5: FutureWarning: You are using `torch.load` with `weights_only=False` (the current default value), which uses the default pickle module implicitly. It is possible to construct malicious pickle data which will execute arbitrary code during unpickling (See https://github.com/pytorch/pytorch/blob/main/SECURITY.md#untrusted-models for more details). In a future release, the default value for `weights_only` will be flipped to `True`. This limits the functions that could be executed during unpickling. Arbitrary objects will no longer be allowed to be loaded via this mode unless they are explicitly allowlisted by the user via `torch.serialization.add_safe_globals`. We recommend you start setting `weights_only=True` for any use case where you don't have full control of the loaded file. Please open an issue on GitHub for any issues related to this experimental feature.\n",
      "  policy_net.load_state_dict(T.load(model_path))\n"
     ]
    },
    {
     "data": {
      "text/plain": [
       "120"
      ]
     },
     "execution_count": 6,
     "metadata": {},
     "output_type": "execute_result"
    }
   ],
   "source": [
    "avg_rewards = []\n",
    "\n",
    "continue_train = True\n",
    "if continue_train:\n",
    "    policy_net.load_state_dict(T.load(model_path))\n",
    "    policy_net.to(policy_net.device)\n",
    "    with open(avg_path, \"rb\") as f:\n",
    "        avg_rewards = pickle.load(f)\n",
    "len(avg_rewards)"
   ]
  },
  {
   "cell_type": "markdown",
   "metadata": {},
   "source": [
    "### 6.开始训练"
   ]
  },
  {
   "cell_type": "code",
   "execution_count": 7,
   "metadata": {},
   "outputs": [
    {
     "name": "stderr",
     "output_type": "stream",
     "text": [
      "/tmp/ipykernel_27990/3120889130.py:12: UserWarning: To copy construct from a tensor, it is recommended to use sourceTensor.clone().detach() or sourceTensor.clone().detach().requires_grad_(True), rather than torch.tensor(sourceTensor).\n",
      "  x = T.tensor(x, dtype=T.float32).to(self.device)\n"
     ]
    },
    {
     "name": "stdout",
     "output_type": "stream",
     "text": [
      "Episode 100, Current Reward:213.0, Avg Reward: 205.84\n",
      "Episode 200, Current Reward:140.0, Avg Reward: 203.38\n",
      "Episode 300, Current Reward:203.0, Avg Reward: 209.1\n",
      "Episode 400, Current Reward:270.0, Avg Reward: 205.18\n",
      "Episode 500, Current Reward:273.0, Avg Reward: 204.84\n",
      "to save model and avg_rewards 130\n",
      "Episode 600, Current Reward:177.0, Avg Reward: 217.2\n",
      "Episode 700, Current Reward:218.0, Avg Reward: 203.52\n",
      "Episode 800, Current Reward:124.0, Avg Reward: 195.4\n",
      "Episode 900, Current Reward:145.0, Avg Reward: 201.12\n",
      "Episode 1000, Current Reward:146.0, Avg Reward: 204.4\n",
      "to save model and avg_rewards 140\n",
      "Episode 1100, Current Reward:189.0, Avg Reward: 201.68\n",
      "Episode 1200, Current Reward:210.0, Avg Reward: 183.12\n",
      "Episode 1300, Current Reward:162.0, Avg Reward: 186.64\n",
      "Episode 1400, Current Reward:213.0, Avg Reward: 175.98\n",
      "Episode 1500, Current Reward:199.0, Avg Reward: 201.38\n",
      "to save model and avg_rewards 150\n",
      "Episode 1600, Current Reward:166.0, Avg Reward: 193.28\n",
      "Episode 1700, Current Reward:290.0, Avg Reward: 196.74\n",
      "Episode 1800, Current Reward:196.0, Avg Reward: 187.12\n",
      "Episode 1900, Current Reward:226.0, Avg Reward: 183.7\n",
      "Episode 2000, Current Reward:238.0, Avg Reward: 174.74\n",
      "to save model and avg_rewards 160\n",
      "Episode 2100, Current Reward:220.0, Avg Reward: 164.32\n",
      "Episode 2200, Current Reward:208.0, Avg Reward: 189.98\n",
      "Episode 2300, Current Reward:186.0, Avg Reward: 172.34\n",
      "Episode 2400, Current Reward:224.0, Avg Reward: 182.6\n",
      "Episode 2500, Current Reward:143.0, Avg Reward: 174.98\n",
      "to save model and avg_rewards 170\n",
      "Episode 2600, Current Reward:113.0, Avg Reward: 167.76\n",
      "Episode 2700, Current Reward:164.0, Avg Reward: 173.08\n",
      "Episode 2800, Current Reward:178.0, Avg Reward: 178.78\n",
      "Episode 2900, Current Reward:127.0, Avg Reward: 181.58\n",
      "Episode 3000, Current Reward:270.0, Avg Reward: 185.0\n",
      "to save model and avg_rewards 180\n",
      "Episode 3100, Current Reward:213.0, Avg Reward: 161.46\n",
      "Episode 3200, Current Reward:179.0, Avg Reward: 183.84\n",
      "Episode 3300, Current Reward:135.0, Avg Reward: 178.2\n",
      "Episode 3400, Current Reward:149.0, Avg Reward: 177.3\n",
      "Episode 3500, Current Reward:259.0, Avg Reward: 181.96\n",
      "to save model and avg_rewards 190\n",
      "Episode 3600, Current Reward:282.0, Avg Reward: 202.8\n",
      "Episode 3700, Current Reward:170.0, Avg Reward: 195.88\n",
      "Episode 3800, Current Reward:215.0, Avg Reward: 186.66\n",
      "Episode 3900, Current Reward:207.0, Avg Reward: 204.3\n",
      "Episode 4000, Current Reward:224.0, Avg Reward: 196.38\n",
      "to save model and avg_rewards 200\n",
      "Episode 4100, Current Reward:148.0, Avg Reward: 187.7\n",
      "Episode 4200, Current Reward:220.0, Avg Reward: 189.16\n",
      "Episode 4300, Current Reward:178.0, Avg Reward: 197.56\n",
      "Episode 4400, Current Reward:206.0, Avg Reward: 195.82\n",
      "Episode 4500, Current Reward:224.0, Avg Reward: 199.26\n",
      "to save model and avg_rewards 210\n",
      "Episode 4600, Current Reward:203.0, Avg Reward: 213.58\n",
      "Episode 4700, Current Reward:201.0, Avg Reward: 210.32\n",
      "Episode 4800, Current Reward:230.0, Avg Reward: 215.98\n",
      "Episode 4900, Current Reward:147.0, Avg Reward: 222.96\n",
      "Episode 5000, Current Reward:290.0, Avg Reward: 237.3\n",
      "to save model and avg_rewards 220\n"
     ]
    }
   ],
   "source": [
    "num_episodes = 5000\n",
    "# 开始训练\n",
    "record_rewards = []\n",
    "for episode in range(1,num_episodes+1):\n",
    "    # state = torch.tensor(env.reset()[0], dtype=torch.float32).to(policy_net.device)\n",
    "    log_probs = []\n",
    "    rewards = []\n",
    "    state = env.reset()[0]\n",
    "    # 采样轨迹\n",
    "    done = False\n",
    "    while not done:\n",
    "        \n",
    "        # state = torch.tensor(np.array(state), dtype=torch.float32)  # Ensure state tensor is on the correct device\n",
    "        probs = policy_net(state)\n",
    "        m = Categorical(probs) # 创建一个类别分布\n",
    "        action = m.sample()  # 采样动作\n",
    "        log_probs.append(m.log_prob(action))  # 记录 log(prob)\n",
    "        # 执行动作\n",
    "        state, reward, terminated, truncated, info = env.step(action.item())\n",
    "        state = T.tensor(state, dtype=T.float32).to(policy_net.device)\n",
    "        # print(f\"state: {state}\")\n",
    "        done = bool(terminated) or bool(truncated)  # Ensure done is a boolean value\n",
    "        rewards.append(reward)\n",
    "\n",
    "    # 记录本次总得分 \n",
    "    record_rewards.append(sum(rewards))\n",
    "\n",
    "    # 计算累计回报\n",
    "    returns = compute_returns(rewards, gamma)\n",
    "    returns = T.tensor(returns, dtype=T.float32).to(policy_net.device)  # Ensure returns tensor is on the correct device\n",
    "    \n",
    "    # 标准化回报，以减少方差\n",
    "    # returns = (returns - returns.mean()) / (returns.std() + 1e-9)\n",
    "    \n",
    "    # 计算损失\n",
    "    policy_loss = []\n",
    "    for log_prob, G in zip(log_probs, returns):\n",
    "        policy_loss.append(-log_prob * G)  # REINFORCE的损失：-log_prob * G\n",
    "    policy_loss = T.stack(policy_loss).sum()\n",
    "    \n",
    "    # 反向传播和优化\n",
    "    optimizer.zero_grad()\n",
    "    policy_loss.backward()\n",
    "    optimizer.step()\n",
    "    \n",
    "    # 输出训练进度\n",
    "    if episode % avg_episode == 0:\n",
    "        avg_reward = sum(record_rewards[-avg_episode:])/avg_episode\n",
    "        avg_rewards.append(avg_reward)\n",
    "        if episode % print_episode == 0:\n",
    "            print(f\"Episode {episode}, Current Reward:{record_rewards[-1]}, Avg Reward: {avg_reward}\")\n",
    "        if episode % save_episode == 0:\n",
    "            print(f\"to save model and avg_rewards {len(avg_rewards)}\")\n",
    "            T.save(policy_net.state_dict(),model_path)\n",
    "            with open(avg_path, \"wb\") as f:\n",
    "                pickle.dump(avg_rewards, f)\n",
    "\n"
   ]
  },
  {
   "cell_type": "code",
   "execution_count": 8,
   "metadata": {},
   "outputs": [
    {
     "data": {
      "image/png": "[encoded data removed]",
      "text/plain": [
       "<Figure size 640x480 with 1 Axes>"
      ]
     },
     "metadata": {},
     "output_type": "display_data"
    }
   ],
   "source": [
    "import matplotlib.pyplot as plt\n",
    "# 绘制得分变化图\n",
    "plt.plot(range(1, len(avg_rewards) + 1), avg_rewards)\n",
    "plt.xlabel('Episode')\n",
    "plt.ylabel('Avg Reward')\n",
    "plt.title(f'Avg Reward over Episodes x{avg_episode}')\n",
    "plt.show()"
   ]
  },
  {
   "cell_type": "code",
   "execution_count": null,
   "metadata": {},
   "outputs": [],
   "source": []
  },
  {
   "cell_type": "code",
   "execution_count": 10,
   "metadata": {},
   "outputs": [],
   "source": []
  }
 ],
 "metadata": {
  "kernelspec": {
   "display_name": "py310",
   "language": "python",
   "name": "python3"
  },
  "language_info": {
   "codemirror_mode": {
    "name": "ipython",
    "version": 3
   },
   "file_extension": ".py",
   "mimetype": "text/x-python",
   "name": "python",
   "nbconvert_exporter": "python",
   "pygments_lexer": "ipython3",
   "version": "3.10.15"
  }
 },
 "nbformat": 4,
 "nbformat_minor": 2
}
