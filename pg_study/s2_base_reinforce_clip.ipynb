{
 "cells": [
  {
   "cell_type": "markdown",
   "metadata": {},
   "source": [
    "### 1.包导入"
   ]
  },
  {
   "cell_type": "code",
   "execution_count": 1,
   "metadata": {},
   "outputs": [],
   "source": [
    "import gym\n",
    "import torch as T\n",
    "import torch.nn.functional as F\n",
    "import torch.nn as nn\n",
    "import torch.optim as optim\n",
    "from torch.distributions import Categorical\n",
    "import numpy as np\n",
    "import pickle\n",
    "import os\n",
    "import matplotlib.pyplot as plt "
   ]
  },
  {
   "cell_type": "markdown",
   "metadata": {},
   "source": [
    "### 2.环境尝试"
   ]
  },
  {
   "cell_type": "code",
   "execution_count": 2,
   "metadata": {},
   "outputs": [
    {
     "data": {
      "text/plain": [
       "(array([ 0.02936863, -0.17289644,  0.0009128 ,  0.32398558], dtype=float32),\n",
       " 1.0,\n",
       " False,\n",
       " False,\n",
       " {})"
      ]
     },
     "execution_count": 2,
     "metadata": {},
     "output_type": "execute_result"
    }
   ],
   "source": [
    "env = gym.make('CartPole-v1')\n",
    "env.reset()\n",
    "env.step(0)\n"
   ]
  },
  {
   "cell_type": "markdown",
   "metadata": {},
   "source": [
    "### 3.定义策略网络"
   ]
  },
  {
   "cell_type": "code",
   "execution_count": 3,
   "metadata": {},
   "outputs": [],
   "source": [
    "# 定义策略网络\n",
    "class PolicyNetwork(nn.Module):\n",
    "    def __init__(self, input_dim, output_dim):\n",
    "        super(PolicyNetwork, self).__init__()\n",
    "        self.fc1 = nn.Linear(input_dim, 128)\n",
    "        self.fc2 = nn.Linear(128, 128)   # 隐藏层\n",
    "        self.fc3 = nn.Linear(128, output_dim)  # 输出动作概率\n",
    "        self.device = T.device(\"cuda\" if T.cuda.is_available() else \"cpu\")\n",
    "        self.to(self.device)\n",
    "        \n",
    "    def forward(self, x):\n",
    "        x = T.tensor(x, dtype=T.float32).to(self.device) \n",
    "        layer1 = T.relu(self.fc1(x))\n",
    "        layer2 = T.relu(self.fc2(layer1))\n",
    "        p = T.softmax(self.fc3(layer2), dim=-1)\n",
    "        return p"
   ]
  },
  {
   "cell_type": "markdown",
   "metadata": {},
   "source": [
    "### 4.计算折扣奖励函数"
   ]
  },
  {
   "cell_type": "code",
   "execution_count": 4,
   "metadata": {},
   "outputs": [],
   "source": [
    "# 计算折扣奖励\n",
    "def compute_returns(rewards, gamma):\n",
    "    returns = []\n",
    "    G = 0\n",
    "    for r in reversed(rewards):\n",
    "        G = r + gamma * G\n",
    "        returns.insert(0, G)\n",
    "    return returns"
   ]
  },
  {
   "cell_type": "markdown",
   "metadata": {},
   "source": [
    "### 5.设置环境和超参数"
   ]
  },
  {
   "cell_type": "code",
   "execution_count": 5,
   "metadata": {},
   "outputs": [],
   "source": [
    "# 设置环境和超参数\n",
    "env = gym.make('CartPole-v1')\n",
    "input_dim = env.observation_space.shape[0]  # 输入维度\n",
    "output_dim = env.action_space.n             # 输出维度\n",
    "gamma = 0.9  # 折扣因子\n",
    "avg_episode = 50\n",
    "save_episode = 500\n",
    "print_episode = 100\n",
    "clip_norm = 2\n",
    "continue_train = True\n",
    "num_episodes = 3000\n",
    "learning_rate = 0.0001\n",
    "\n",
    "# 学习进度保存路径\n",
    "model_path = \"./save/s2_policy_net.pth\"\n",
    "avg_path = \"./save/s2_avg_rewards.pth\""
   ]
  },
  {
   "cell_type": "code",
   "execution_count": 6,
   "metadata": {},
   "outputs": [
    {
     "name": "stderr",
     "output_type": "stream",
     "text": [
      "/tmp/ipykernel_28834/1874207974.py:7: FutureWarning: You are using `torch.load` with `weights_only=False` (the current default value), which uses the default pickle module implicitly. It is possible to construct malicious pickle data which will execute arbitrary code during unpickling (See https://github.com/pytorch/pytorch/blob/main/SECURITY.md#untrusted-models for more details). In a future release, the default value for `weights_only` will be flipped to `True`. This limits the functions that could be executed during unpickling. Arbitrary objects will no longer be allowed to be loaded via this mode unless they are explicitly allowlisted by the user via `torch.serialization.add_safe_globals`. We recommend you start setting `weights_only=True` for any use case where you don't have full control of the loaded file. Please open an issue on GitHub for any issues related to this experimental feature.\n",
      "  policy_net.load_state_dict(T.load(model_path))\n"
     ]
    },
    {
     "data": {
      "text/plain": [
       "160"
      ]
     },
     "execution_count": 6,
     "metadata": {},
     "output_type": "execute_result"
    }
   ],
   "source": [
    "policy_net = PolicyNetwork(input_dim, output_dim)\n",
    "optimizer = optim.AdamW(policy_net.parameters(), lr=learning_rate)\n",
    "avg_rewards = []\n",
    "\n",
    "if continue_train:\n",
    "    if os.path.exists(model_path) and os.path.exists(avg_path):\n",
    "        policy_net.load_state_dict(T.load(model_path))\n",
    "        policy_net.to(policy_net.device)\n",
    "        with open(avg_path, \"rb\") as f:\n",
    "            avg_rewards = pickle.load(f)\n",
    "len(avg_rewards)"
   ]
  },
  {
   "cell_type": "markdown",
   "metadata": {},
   "source": [
    "### 6.开始训练"
   ]
  },
  {
   "cell_type": "code",
   "execution_count": 7,
   "metadata": {},
   "outputs": [
    {
     "name": "stderr",
     "output_type": "stream",
     "text": [
      "/tmp/ipykernel_28834/3120889130.py:12: UserWarning: To copy construct from a tensor, it is recommended to use sourceTensor.clone().detach() or sourceTensor.clone().detach().requires_grad_(True), rather than torch.tensor(sourceTensor).\n",
      "  x = T.tensor(x, dtype=T.float32).to(self.device)\n"
     ]
    },
    {
     "name": "stdout",
     "output_type": "stream",
     "text": [
      "Episode 100, Current Reward:195.0, Avg Reward: 177.36\n",
      "Episode 200, Current Reward:189.0, Avg Reward: 164.02\n",
      "Episode 300, Current Reward:188.0, Avg Reward: 220.4\n",
      "Episode 400, Current Reward:192.0, Avg Reward: 228.84\n",
      "Episode 500, Current Reward:148.0, Avg Reward: 221.52\n",
      "to save model and avg_rewards 170\n",
      "Episode 600, Current Reward:164.0, Avg Reward: 197.6\n",
      "Episode 700, Current Reward:177.0, Avg Reward: 202.26\n",
      "Episode 800, Current Reward:248.0, Avg Reward: 182.88\n",
      "Episode 900, Current Reward:248.0, Avg Reward: 187.84\n",
      "Episode 1000, Current Reward:272.0, Avg Reward: 227.52\n",
      "to save model and avg_rewards 180\n",
      "Episode 1100, Current Reward:167.0, Avg Reward: 196.64\n",
      "Episode 1200, Current Reward:187.0, Avg Reward: 189.64\n",
      "Episode 1300, Current Reward:161.0, Avg Reward: 186.38\n",
      "Episode 1400, Current Reward:157.0, Avg Reward: 169.5\n",
      "Episode 1500, Current Reward:171.0, Avg Reward: 148.5\n",
      "to save model and avg_rewards 190\n",
      "Episode 1600, Current Reward:161.0, Avg Reward: 155.24\n",
      "Episode 1700, Current Reward:135.0, Avg Reward: 152.9\n",
      "Episode 1800, Current Reward:151.0, Avg Reward: 147.72\n",
      "Episode 1900, Current Reward:121.0, Avg Reward: 138.92\n",
      "Episode 2000, Current Reward:143.0, Avg Reward: 143.44\n",
      "to save model and avg_rewards 200\n",
      "Episode 2100, Current Reward:105.0, Avg Reward: 121.94\n",
      "Episode 2200, Current Reward:113.0, Avg Reward: 108.72\n",
      "Episode 2300, Current Reward:111.0, Avg Reward: 111.34\n",
      "Episode 2400, Current Reward:110.0, Avg Reward: 118.02\n",
      "Episode 2500, Current Reward:126.0, Avg Reward: 131.18\n",
      "to save model and avg_rewards 210\n",
      "Episode 2600, Current Reward:142.0, Avg Reward: 147.08\n",
      "Episode 2700, Current Reward:141.0, Avg Reward: 150.68\n",
      "Episode 2800, Current Reward:156.0, Avg Reward: 162.82\n",
      "Episode 2900, Current Reward:165.0, Avg Reward: 167.3\n",
      "Episode 3000, Current Reward:159.0, Avg Reward: 169.32\n",
      "to save model and avg_rewards 220\n"
     ]
    }
   ],
   "source": [
    "\n",
    "# 开始训练\n",
    "record_rewards = []\n",
    "for episode in range(1,num_episodes+1):\n",
    "    # state = torch.tensor(env.reset()[0], dtype=torch.float32).to(policy_net.device)\n",
    "    log_probs = []\n",
    "    rewards = []\n",
    "    state = env.reset()[0]\n",
    "    # 采样轨迹\n",
    "    done = False\n",
    "    while not done:\n",
    "        \n",
    "        # state = torch.tensor(np.array(state), dtype=torch.float32)  # Ensure state tensor is on the correct device\n",
    "        probs = policy_net(state)\n",
    "        m = Categorical(probs) # 创建一个类别分布\n",
    "        action = m.sample()  # 采样动作\n",
    "        log_probs.append(m.log_prob(action))  # 记录 log(prob)\n",
    "        # 执行动作\n",
    "        state, reward, terminated, truncated, info = env.step(action.item())\n",
    "        state = T.tensor(state, dtype=T.float32).to(policy_net.device)\n",
    "        # print(f\"state: {state}\")\n",
    "        done = bool(terminated) or bool(truncated)  # Ensure done is a boolean value\n",
    "        rewards.append(reward)\n",
    "\n",
    "    # 记录本次总得分 \n",
    "    record_rewards.append(sum(rewards))\n",
    "\n",
    "    # 计算累计回报\n",
    "    returns = compute_returns(rewards, gamma)\n",
    "    returns = T.tensor(returns, dtype=T.float32).to(policy_net.device)  # Ensure returns tensor is on the correct device\n",
    "    \n",
    "    # 计算损失\n",
    "    policy_loss = []\n",
    "    for log_prob, G in zip(log_probs, returns):\n",
    "        policy_loss.append(-log_prob * G)  # REINFORCE的损失：-log_prob * G\n",
    "    policy_loss = T.stack(policy_loss).sum()\n",
    "    \n",
    "    # 反向传播和优化\n",
    "    optimizer.zero_grad()\n",
    "    policy_loss.backward()\n",
    "    nn.utils.clip_grad_norm_(policy_net.parameters(), max_norm=clip_norm)\n",
    "    optimizer.step()\n",
    "    \n",
    "    # 输出训练进度\n",
    "    if episode % avg_episode == 0:\n",
    "        avg_reward = sum(record_rewards[-avg_episode:])/avg_episode\n",
    "        avg_rewards.append(avg_reward)\n",
    "        if episode % print_episode == 0:\n",
    "            print(f\"Episode {episode}, Current Reward:{record_rewards[-1]}, Avg Reward: {avg_reward}\")\n",
    "        if episode % save_episode == 0:\n",
    "            print(f\"to save model and avg_rewards {len(avg_rewards)}\")\n",
    "            T.save(policy_net.state_dict(),model_path)\n",
    "            with open(avg_path, \"wb\") as f:\n",
    "                pickle.dump(avg_rewards, f)\n",
    "\n"
   ]
  },
  {
   "cell_type": "code",
   "execution_count": 8,
   "metadata": {},
   "outputs": [
    {
     "data": {
      "image/png": "[encoded data removed]",
      "text/plain": [
       "<Figure size 640x480 with 1 Axes>"
      ]
     },
     "metadata": {},
     "output_type": "display_data"
    }
   ],
   "source": [
    "\n",
    "# 绘制得分变化图\n",
    "plt.plot(range(1, len(avg_rewards) + 1), avg_rewards)\n",
    "plt.xlabel('Episode')\n",
    "plt.ylabel('Avg Reward')\n",
    "plt.title(f'Avg Reward over Episodes x{avg_episode}')\n",
    "plt.show()"
   ]
  },
  {
   "cell_type": "code",
   "execution_count": null,
   "metadata": {},
   "outputs": [],
   "source": []
  },
  {
   "cell_type": "code",
   "execution_count": 10,
   "metadata": {},
   "outputs": [],
   "source": []
  }
 ],
 "metadata": {
  "kernelspec": {
   "display_name": "py310",
   "language": "python",
   "name": "python3"
  },
  "language_info": {
   "codemirror_mode": {
    "name": "ipython",
    "version": 3
   },
   "file_extension": ".py",
   "mimetype": "text/x-python",
   "name": "python",
   "nbconvert_exporter": "python",
   "pygments_lexer": "ipython3",
   "version": "3.10.15"
  }
 },
 "nbformat": 4,
 "nbformat_minor": 2
}
